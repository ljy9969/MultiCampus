{
 "cells": [
  {
   "cell_type": "markdown",
   "metadata": {},
   "source": [
    "# 1. Inference by Cloning YOLOv5 official repository on GitHub"
   ]
  },
  {
   "cell_type": "code",
   "execution_count": null,
   "metadata": {
    "pycharm": {
     "is_executing": true
    }
   },
   "outputs": [],
   "source": [
    "!git clone https://github.com/ultralytics/yolov5  # clone\n",
    "%cd yolov5\n",
    "%pip install -qr requirements.txt  # install"
   ]
  },
  {
   "cell_type": "code",
   "execution_count": null,
   "metadata": {
    "pycharm": {
     "name": "#%%\n"
    }
   },
   "outputs": [],
   "source": [
    "# YOLOv5 model for Rosemary\n",
    "!python detect.py --weights runs/train/best_rosemary.pt --img 416 --conf 0.2 --source 'https://search.pstatic.net/common/?src=http%3A%2F%2Fcafefiles.naver.net%2F20160131_129%2Feunjoo782_1454218536713DxLSt_JPEG%2F20160131_141852.jpg&type=sc960_832' --nosave"
   ]
  },
  {
   "cell_type": "code",
   "execution_count": null,
   "metadata": {
    "pycharm": {
     "name": "#%%\n"
    }
   },
   "outputs": [],
   "source": [
    "# YOLOv5 model for Geranium\n",
    "!python detect.py --weights /runs/train/best_geranium.pt --img 256 --conf 0.2 --source 'https://www.purduelandscapereport.org/wp-content/uploads/2020/06/Fig-3geranium-botrytis-blight-200x268.jpg' --nosave"
   ]
  },
  {
   "cell_type": "markdown",
   "metadata": {},
   "source": [
    "# 2. Inference by Pytorch Hub"
   ]
  },
  {
   "cell_type": "markdown",
   "metadata": {
    "pycharm": {
     "name": "#%% md\n"
    }
   },
   "source": [
    "### Inference Rosemary"
   ]
  },
  {
   "cell_type": "code",
   "execution_count": 3,
   "metadata": {},
   "outputs": [
    {
     "name": "stderr",
     "output_type": "stream",
     "text": [
      "Using cache found in /home/lab03/.cache/torch/hub/ultralytics_yolov5_master\n"
     ]
    },
    {
     "name": "stdout",
     "output_type": "stream",
     "text": [
      "3\n"
     ]
    }
   ],
   "source": [
    "# %%time\n",
    "import torch\n",
    "\n",
    "model = torch.hub.load('ultralytics/yolov5', 'custom', path='runs/train/best_rosemary.pt', _verbose=False)\n",
    "model.names[0] = 0 # 'Rosemary'\n",
    "model.names[1] = 1 # 'Rosemary Leaf Spot'\n",
    "model.names[2] = 2 # 'Rosemary Pest Damage'\n",
    "model.names[3] = 3 # 'Rosemary Powdery Mildew'\n",
    "model.conf = 0.40\n",
    "model.multi_label = False\n",
    "model.max_det = 1\n",
    "\n",
    "imgs = ['https://search.pstatic.net/common/?src=http%3A%2F%2Fcafefiles.naver.net%2F20160131_129%2Feunjoo782_1454218536713DxLSt_JPEG%2F20160131_141852.jpg&type=sc960_832', 'https://preview.redd.it/85r65puvej781.jpg?width=640&crop=smart&auto=webp&s=3b31e42cbfd52462d67c59c31fa07c2886bfcb67']\n",
    "\n",
    "results = model(imgs, size=416)\n",
    "\n",
    "# model.eval()\n",
    "# results.names\n",
    "# results.print()\n",
    "results.save()\n",
    "# results.show()\n",
    "\n",
    "a = results.pandas().xyxy[0]\n",
    "# display(a)\n",
    "print(int(a.values[-1][-1]))"
   ]
  },
  {
   "cell_type": "code",
   "execution_count": null,
   "metadata": {},
   "outputs": [],
   "source": [
    "import pandas as pd\n",
    "\n",
    "a = results.pandas().xyxy # shape = (1, 1, 7)\n",
    "display(a)\n",
    "\n",
    "print(len(results.pandas().xyxy))\n",
    "# c = []\n",
    "# for i in range(len(results.pandas().xyxy)):\n",
    "#     pd.DataFrame(i).append(i)\n",
    "\n",
    "a = results.pandas().xyxy[0]\n",
    "display(a)\n",
    "print(int(a.values[-1][-1]))\n",
    "\n",
    "# b = results.pandas().xyxy[:]\n",
    "# display(b)"
   ]
  },
  {
   "cell_type": "markdown",
   "metadata": {
    "pycharm": {
     "name": "#%% md\n"
    }
   },
   "source": [
    "### Inference Geranium"
   ]
  },
  {
   "cell_type": "code",
   "execution_count": 22,
   "metadata": {},
   "outputs": [
    {
     "name": "stderr",
     "output_type": "stream",
     "text": [
      "Using cache found in /home/lab03/.cache/torch/hub/ultralytics_yolov5_master\n"
     ]
    },
    {
     "name": "stdout",
     "output_type": "stream",
     "text": [
      "0\n"
     ]
    }
   ],
   "source": [
    "# %%time\n",
    "import torch\n",
    "\n",
    "model = torch.hub.load('ultralytics/yolov5', 'custom', path='runs/train/best_geranium.pt', _verbose=False)\n",
    "model.names[0] = 0 # 'Geranium'\n",
    "model.names[1] = 1 # 'Geranium Gray Mold'\n",
    "model.names[2] = 2 # 'Geranium Leaf Spot'\n",
    "model.names[3] = 3 # 'Geranium Pest Damage'\n",
    "model.conf = 0.40\n",
    "model.multi_label = False\n",
    "model.max_det = 1\n",
    "\n",
    "imgs = ['https://cdn11.bigcommerce.com/s-i7i23daso6/images/stencil/1280x1280/products/7761/24128/Geranium_Grandeur_White_0008842__10053.1642174743.jpg?c=1', 'https://www.purduelandscapereport.org/wp-content/uploads/2020/06/Fig-3geranium-botrytis-blight.jpg', 'https://image.shutterstock.com/image-photo/cranesbill-geranium-leaves-turning-brown-260nw-1839800200.jpg', 'https://gardenerspath.com/wp-content/uploads/2020/10/Geraniums-with-Insect-Damage.jpg']\n",
    "\n",
    "results = model(imgs, size=256)\n",
    "\n",
    "# model.eval()\n",
    "# results.names\n",
    "# results.print()\n",
    "# results.save()\n",
    "# results.show()\n",
    "\n",
    "b = results.pandas().xyxy[0]\n",
    "# display(b)\n",
    "print(int(b.values[-1][-1]))"
   ]
  }
 ],
 "metadata": {
  "kernelspec": {
   "display_name": "Python 3 (ipykernel)",
   "language": "python",
   "name": "python3"
  },
  "language_info": {
   "codemirror_mode": {
    "name": "ipython",
    "version": 3
   },
   "file_extension": ".py",
   "mimetype": "text/x-python",
   "name": "python",
   "nbconvert_exporter": "python",
   "pygments_lexer": "ipython3",
   "version": "3.8.13"
  }
 },
 "nbformat": 4,
 "nbformat_minor": 1
}
