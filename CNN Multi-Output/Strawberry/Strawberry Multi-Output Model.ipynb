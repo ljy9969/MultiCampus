{
 "cells": [
  {
   "cell_type": "code",
   "execution_count": 2,
   "id": "b709f143",
   "metadata": {},
   "outputs": [],
   "source": [
    "import warnings \n",
    "warnings.filterwarnings(action='ignore')"
   ]
  },
  {
   "cell_type": "code",
   "execution_count": 1,
   "id": "78afe61c",
   "metadata": {},
   "outputs": [
    {
     "name": "stderr",
     "output_type": "stream",
     "text": [
      "/home/ubuntu/anaconda3/envs/smartpot/lib/python3.9/site-packages/tqdm/auto.py:22: TqdmWarning: IProgress not found. Please update jupyter and ipywidgets. See https://ipywidgets.readthedocs.io/en/stable/user_install.html\n",
      "  from .autonotebook import tqdm as notebook_tqdm\n",
      "2022-06-22 07:09:58.424034: I tensorflow/stream_executor/platform/default/dso_loader.cc:49] Successfully opened dynamic library libcudart.so.10.1\n"
     ]
    }
   ],
   "source": [
    "import os \n",
    "import numpy as np\n",
    "import pandas as pd\n",
    "import matplotlib.pyplot as plt\n",
    "from glob import glob\n",
    "from tqdm.auto import tqdm\n",
    "import cv2\n",
    "\n",
    "# from tensorflow.keras.applications import Densnet\n",
    "import tensorflow as tf\n",
    "from tensorflow.keras.models import Sequential, Model\n",
    "from tensorflow.keras import layers\n",
    "import tensorflow.keras as keras\n",
    "from tensorflow.data import Dataset\n",
    "\n",
    "from tensorflow.keras.optimizers import Adam, RMSprop, Nadam, SGD\n",
    "from tensorflow.keras.callbacks import ModelCheckpoint, EarlyStopping\n",
    "\n",
    "from itertools import product\n",
    "from tensorflow.keras.preprocessing.image import ImageDataGenerator\n",
    "\n",
    "from tensorflow.keras.applications import *\n",
    "from sklearn.model_selection import train_test_split\n",
    "from sklearn.preprocessing import LabelEncoder\n",
    "from skmultilearn.model_selection import iterative_train_test_split\n",
    "from wandb.keras import WandbCallback\n",
    "import wandb"
   ]
  },
  {
   "cell_type": "code",
   "execution_count": 3,
   "id": "7db429c9",
   "metadata": {},
   "outputs": [
    {
     "data": {
      "text/plain": [
       "'2.4.1'"
      ]
     },
     "execution_count": 3,
     "metadata": {},
     "output_type": "execute_result"
    }
   ],
   "source": [
    "tf.__version__"
   ]
  },
  {
   "cell_type": "markdown",
   "id": "696102fe",
   "metadata": {},
   "source": [
    "# Data Load"
   ]
  },
  {
   "cell_type": "code",
   "execution_count": 4,
   "id": "f3bfeec5",
   "metadata": {
    "scrolled": true
   },
   "outputs": [
    {
     "data": {
      "text/html": [
       "<div>\n",
       "<style scoped>\n",
       "    .dataframe tbody tr th:only-of-type {\n",
       "        vertical-align: middle;\n",
       "    }\n",
       "\n",
       "    .dataframe tbody tr th {\n",
       "        vertical-align: top;\n",
       "    }\n",
       "\n",
       "    .dataframe thead th {\n",
       "        text-align: right;\n",
       "    }\n",
       "</style>\n",
       "<table border=\"1\" class=\"dataframe\">\n",
       "  <thead>\n",
       "    <tr style=\"text-align: right;\">\n",
       "      <th></th>\n",
       "      <th>image</th>\n",
       "      <th>grow</th>\n",
       "      <th>disease</th>\n",
       "      <th>area</th>\n",
       "      <th>points</th>\n",
       "      <th>original</th>\n",
       "      <th>disease-grow</th>\n",
       "    </tr>\n",
       "  </thead>\n",
       "  <tbody>\n",
       "    <tr>\n",
       "      <th>0</th>\n",
       "      <td>/home/lab38/딸기/Strawberry Pest Damage_3.jpg</td>\n",
       "      <td>5</td>\n",
       "      <td>11</td>\n",
       "      <td>NaN</td>\n",
       "      <td>NaN</td>\n",
       "      <td>NaN</td>\n",
       "      <td>11-5</td>\n",
       "    </tr>\n",
       "    <tr>\n",
       "      <th>1</th>\n",
       "      <td>/home/lab38/딸기/Strawberry Pest Damage_727.jpg</td>\n",
       "      <td>2</td>\n",
       "      <td>11</td>\n",
       "      <td>NaN</td>\n",
       "      <td>NaN</td>\n",
       "      <td>NaN</td>\n",
       "      <td>11-2</td>\n",
       "    </tr>\n",
       "    <tr>\n",
       "      <th>2</th>\n",
       "      <td>/home/lab38/딸기/Strawberry Pest Damage_487.jpg</td>\n",
       "      <td>5</td>\n",
       "      <td>11</td>\n",
       "      <td>NaN</td>\n",
       "      <td>NaN</td>\n",
       "      <td>NaN</td>\n",
       "      <td>11-5</td>\n",
       "    </tr>\n",
       "    <tr>\n",
       "      <th>3</th>\n",
       "      <td>/home/lab38/딸기/Strawberry Pest Damage_124.jpg</td>\n",
       "      <td>5</td>\n",
       "      <td>11</td>\n",
       "      <td>NaN</td>\n",
       "      <td>NaN</td>\n",
       "      <td>NaN</td>\n",
       "      <td>11-5</td>\n",
       "    </tr>\n",
       "    <tr>\n",
       "      <th>4</th>\n",
       "      <td>/home/lab38/딸기/Strawberry Pest Damage_70.jpg</td>\n",
       "      <td>5</td>\n",
       "      <td>11</td>\n",
       "      <td>NaN</td>\n",
       "      <td>NaN</td>\n",
       "      <td>NaN</td>\n",
       "      <td>11-5</td>\n",
       "    </tr>\n",
       "  </tbody>\n",
       "</table>\n",
       "</div>"
      ],
      "text/plain": [
       "                                           image  grow  disease  area points  \\\n",
       "0    /home/lab38/딸기/Strawberry Pest Damage_3.jpg     5       11   NaN    NaN   \n",
       "1  /home/lab38/딸기/Strawberry Pest Damage_727.jpg     2       11   NaN    NaN   \n",
       "2  /home/lab38/딸기/Strawberry Pest Damage_487.jpg     5       11   NaN    NaN   \n",
       "3  /home/lab38/딸기/Strawberry Pest Damage_124.jpg     5       11   NaN    NaN   \n",
       "4   /home/lab38/딸기/Strawberry Pest Damage_70.jpg     5       11   NaN    NaN   \n",
       "\n",
       "  original disease-grow  \n",
       "0      NaN         11-5  \n",
       "1      NaN         11-2  \n",
       "2      NaN         11-5  \n",
       "3      NaN         11-5  \n",
       "4      NaN         11-5  "
      ]
     },
     "execution_count": 4,
     "metadata": {},
     "output_type": "execute_result"
    }
   ],
   "source": [
    "df = pd.read_csv('/home/lab38/Multi_proj_6/data/straw_smallsizeimg_with_pest.csv')\n",
    "df.head()"
   ]
  },
  {
   "cell_type": "code",
   "execution_count": 5,
   "id": "10892c25",
   "metadata": {},
   "outputs": [
    {
     "name": "stdout",
     "output_type": "stream",
     "text": [
      "[3 0 1 2]\n",
      "[4 1 3 0 2]\n"
     ]
    }
   ],
   "source": [
    "# label encoding\n",
    "disease_encoder = LabelEncoder()\n",
    "disease_encoder.fit(df['disease'])\n",
    "df['disease'] = disease_encoder.transform(df['disease'])\n",
    "print(df['disease'].unique())\n",
    "\n",
    "grow_encoder = LabelEncoder()\n",
    "grow_encoder.fit(df['grow'])\n",
    "df['grow'] = grow_encoder.transform(df['grow'])\n",
    "print(df['grow'].unique())"
   ]
  },
  {
   "cell_type": "code",
   "execution_count": 6,
   "id": "c2baac10",
   "metadata": {},
   "outputs": [],
   "source": [
    "shuffled_df = df.sample(frac=1)"
   ]
  },
  {
   "cell_type": "code",
   "execution_count": 7,
   "id": "3a6e0911",
   "metadata": {},
   "outputs": [],
   "source": [
    "X_train, X_test, y_train, y_test = train_test_split(df['image'],\n",
    "                                                   df['disease-grow'],\n",
    "                                                   stratify=df['disease-grow'],\n",
    "                                                   test_size=0.2)"
   ]
  },
  {
   "cell_type": "code",
   "execution_count": 8,
   "id": "5cc097c7",
   "metadata": {},
   "outputs": [],
   "source": [
    "train_df = df[df['image'].isin(X_train)]\n",
    "test_df = df[df['image'].isin(X_test)]"
   ]
  },
  {
   "cell_type": "code",
   "execution_count": 9,
   "id": "7aafd140",
   "metadata": {},
   "outputs": [
    {
     "name": "stdout",
     "output_type": "stream",
     "text": [
      "[3 0 1 2]\n",
      "[4 1 3 0 2]\n",
      "[3 0 1 2]\n",
      "[3 4 1 0 2]\n"
     ]
    }
   ],
   "source": [
    "print(train_df['disease'].unique())\n",
    "print(train_df['grow'].unique())\n",
    "print(test_df['disease'].unique())\n",
    "print(test_df['grow'].unique())"
   ]
  },
  {
   "cell_type": "code",
   "execution_count": 10,
   "id": "f981e509",
   "metadata": {},
   "outputs": [],
   "source": [
    "train_gen = ImageDataGenerator(rescale=1./255,\n",
    "                            rotation_range=20, # 최대 20도까지 회전\n",
    "                            width_shift_range=0.1, # 최대 x 범위안에서 좌우/상하 이동\n",
    "                            height_shift_range=0.1,\n",
    "                            zoom_range=0.2, # 확대 축소 비율,\n",
    "                            horizontal_flip=True, # 좌우반전\n",
    "                            vertical_flip=True, # 상하반전\n",
    "                            fill_mode='nearest')\n",
    "valid_gen = ImageDataGenerator(rescale= 1. /255.)"
   ]
  },
  {
   "cell_type": "markdown",
   "id": "b0a85eac",
   "metadata": {},
   "source": [
    "# Model Top layer 학습"
   ]
  },
  {
   "cell_type": "code",
   "execution_count": 11,
   "id": "3a1d2c1c",
   "metadata": {},
   "outputs": [
    {
     "name": "stderr",
     "output_type": "stream",
     "text": [
      "Failed to detect the name of this notebook, you can set it manually with the WANDB_NOTEBOOK_NAME environment variable to enable code saving.\n",
      "\u001b[34m\u001b[1mwandb\u001b[0m: Currently logged in as: \u001b[33mhkleee\u001b[0m. Use \u001b[1m`wandb login --relogin`\u001b[0m to force relogin\n"
     ]
    },
    {
     "data": {
      "text/html": [
       "Tracking run with wandb version 0.12.18"
      ],
      "text/plain": [
       "<IPython.core.display.HTML object>"
      ]
     },
     "metadata": {},
     "output_type": "display_data"
    },
    {
     "data": {
      "text/html": [
       "Run data is saved locally in <code>/home/lab38/Multi_proj_6/model/multi-output/strawberry/wandb/run-20220621_205042-3tn02v80</code>"
      ],
      "text/plain": [
       "<IPython.core.display.HTML object>"
      ]
     },
     "metadata": {},
     "output_type": "display_data"
    },
    {
     "data": {
      "text/html": [
       "Syncing run <strong><a href=\"https://wandb.ai/hkleee/strawberry/runs/3tn02v80\" target=\"_blank\">exalted-flower-96</a></strong> to <a href=\"https://wandb.ai/hkleee/strawberry\" target=\"_blank\">Weights & Biases</a> (<a href=\"https://wandb.me/run\" target=\"_blank\">docs</a>)<br/>"
      ],
      "text/plain": [
       "<IPython.core.display.HTML object>"
      ]
     },
     "metadata": {},
     "output_type": "display_data"
    },
    {
     "name": "stderr",
     "output_type": "stream",
     "text": [
      "\n",
      "KeyboardInterrupt\n",
      "\n"
     ]
    }
   ],
   "source": [
    "config_default = {\n",
    "    'pretrain_net': 'inception',\n",
    "    'epochs' : 1000,\n",
    "    'batch_size': 20,\n",
    "    'dropout' : 0.2,\n",
    "    'learning_rate' : 1e-3,\n",
    "    'activation': 'elu',\n",
    "    'optimizer': 'adam',\n",
    "    'dense': 32,\n",
    "}\n",
    "wandb.init(project='strawberry',\n",
    "          config=config_default)\n",
    "config = wandb.config\n",
    "\n",
    "train_generator = train_gen.flow_from_dataframe(train_df, \n",
    "                                           x_col='image',\n",
    "                                           y_col=['disease', 'grow'],\n",
    "                                           target_size=(IMAGE_SIZE, IMAGE_SIZE),\n",
    "                                           class_mode='multi_output',\n",
    "                                           batch_size=config.batch_size)\n",
    "valid_generator = valid_gen.flow_from_dataframe(test_df,\n",
    "                                           x_col='image',\n",
    "                                           y_col=['disease','grow'],\n",
    "                                           target_size=(IMAGE_SIZE, IMAGE_SIZE),\n",
    "                                           class_mode='multi_output',\n",
    "                                           batch_size=config.batch_size)\n",
    "\n",
    "if config.pretrain_net == 'inception' :\n",
    "    MODEL_IMAGE_SIZE = 299\n",
    "    base_model = inception_resnet_v2.InceptionResNetV2(\n",
    "        weights='imagenet',\n",
    "        include_top = False,\n",
    "        input_shape = (MODEL_IMAGE_SIZE, MODEL_IMAGE_SIZE,3)\n",
    "    )\n",
    "base_model.trainable = False \n",
    "\n",
    "# resizing model\n",
    "input_data = layers.Input((IMAGE_SIZE, IMAGE_SIZE, 3))\n",
    "x = tf.keras.layers.experimental.preprocessing.Resizing(MODEL_IMAGE_SIZE, MODEL_IMAGE_SIZE)(input_data)\n",
    "resizing = Model(inputs=input_data, outputs=x, name='resize')\n",
    "\n",
    "# model\n",
    "inputs = layers.Input(shape=(IMAGE_SIZE, IMAGE_SIZE, 3))\n",
    "x = resizing(inputs)\n",
    "x = base_model(x, training=False)\n",
    "x = layers.GlobalAveragePooling2D()(x)\n",
    "x = layers.Dropout(config.dropout)(x)\n",
    "backbone_out = layers.Dense(config.dense, activation=config.activation)(x)\n",
    "\n",
    "disease_outputs = layers.Dense(df['disease'].nunique(), activation='softmax',\n",
    "                        name = 'diease_outputs')(backbone_out)\n",
    "grow_outputs = layers.Dense(df['grow'].nunique(), activation='softmax',\n",
    "                    name = 'grow_outputs')(backbone_out)\n",
    "\n",
    "model = Model(inputs=inputs, \n",
    "              outputs=[disease_outputs, grow_outputs],\n",
    "              name='strawberry')   \n",
    "\n",
    "if config.optimizer=='adam':\n",
    "    optimizer = Adam(learning_rate=config.learning_rate)\n",
    "\n",
    "es = EarlyStopping(monitor='loss',\n",
    "                   mode='auto',\n",
    "                  patience=5,\n",
    "                  verbose=1)\n",
    "\n",
    "ckpt_path = './toplayer_strawberry.ckpt'\n",
    "checkpointer = ModelCheckpoint(filepath=ckpt_path,\n",
    "                              monitor='val_loss',\n",
    "                              save_weights_only = True,\n",
    "                              save_best_only= True,\n",
    "                              verbose=1)\n",
    "\n",
    "model.compile(loss={\n",
    "              'diease_outputs' : 'sparse_categorical_crossentropy',\n",
    "              'grow_outputs' : 'sparse_categorical_crossentropy'\n",
    "              },\n",
    "              optimizer=optimizer,\n",
    "              metrics=['accuracy'])    \n",
    "\n",
    "model.load_weights(ckpt_path)\n",
    "history = model.fit(train_generator,\n",
    "      validation_data=valid_generator,\n",
    "      verbose=1,\n",
    "      epochs=config.epochs,\n",
    "      initial_epoch=6,\n",
    "      callbacks=[es, checkpointer],\n",
    "      steps_per_epoch=len(train_df)//config.batch_size)"
   ]
  },
  {
   "cell_type": "markdown",
   "id": "e47789fc",
   "metadata": {},
   "source": [
    "42에서 early stopping"
   ]
  },
  {
   "cell_type": "markdown",
   "id": "18efe002",
   "metadata": {},
   "source": [
    "# Fine Tuning\n",
    "### Sweep\n",
    "finetuning freezing rate"
   ]
  },
  {
   "cell_type": "code",
   "execution_count": 11,
   "id": "299008b1",
   "metadata": {},
   "outputs": [],
   "source": [
    "start = 42\n",
    "IMAGE_SIZE=320"
   ]
  },
  {
   "cell_type": "code",
   "execution_count": 12,
   "id": "c5ce8832",
   "metadata": {},
   "outputs": [],
   "source": [
    "def finetune():\n",
    "    config_default = {\n",
    "        'pretrain_net': 'inception',\n",
    "        'epochs' : 1000,\n",
    "        'batch_size': 20,\n",
    "        'dropout' : 0.2,\n",
    "        'learning_rate' : 1e-3,\n",
    "        'activation': 'elu',\n",
    "        'optimizer': 'adam',\n",
    "        'dense': 32,\n",
    "        'freeze_rate' : 0.3\n",
    "    }\n",
    "    wandb.init(config=config_default, project='strawberry')\n",
    "    config = wandb.config\n",
    "    # generator load\n",
    "    train_generator = train_gen.flow_from_dataframe(train_df, \n",
    "                                           x_col='image',\n",
    "                                           y_col=['disease', 'grow'],\n",
    "                                           target_size=(IMAGE_SIZE, IMAGE_SIZE),\n",
    "                                           class_mode='multi_output',\n",
    "                                           batch_size=config.batch_size)\n",
    "    valid_generator = valid_gen.flow_from_dataframe(test_df,\n",
    "                                               x_col='image',\n",
    "                                               y_col=['disease','grow'],\n",
    "                                               target_size=(IMAGE_SIZE, IMAGE_SIZE),\n",
    "                                               class_mode='multi_output',\n",
    "                                               batch_size=config.batch_size)\n",
    "    \n",
    "    ############################ model 구성 #################################\n",
    "    if config.pretrain_net == 'inception' :\n",
    "        MODEL_IMAGE_SIZE = 299\n",
    "        base_model = inception_resnet_v2.InceptionResNetV2(\n",
    "            weights='imagenet',\n",
    "            include_top = False,\n",
    "            input_shape = (MODEL_IMAGE_SIZE, MODEL_IMAGE_SIZE,3)\n",
    "        )\n",
    "    # resizing model\n",
    "    input_data = layers.Input((IMAGE_SIZE, IMAGE_SIZE, 3))\n",
    "    x = tf.keras.layers.experimental.preprocessing.Resizing(MODEL_IMAGE_SIZE, MODEL_IMAGE_SIZE)(input_data)\n",
    "    resizing = Model(inputs=input_data, outputs=x, name='resize')\n",
    "\n",
    "    # model\n",
    "    inputs = layers.Input(shape=(IMAGE_SIZE, IMAGE_SIZE, 3))\n",
    "    x = resizing(inputs)\n",
    "    x = base_model(x, training=False)\n",
    "    x = layers.GlobalAveragePooling2D()(x)\n",
    "    x = layers.Dropout(config.dropout)(x)\n",
    "    backbone_out = layers.Dense(config.dense, activation=config.activation)(x)\n",
    "\n",
    "    disease_outputs = layers.Dense(df['disease'].nunique(), activation='softmax',\n",
    "                            name = 'diease_outputs')(backbone_out)\n",
    "    grow_outputs = layers.Dense(df['grow'].nunique(), activation='softmax',\n",
    "                        name = 'grow_outputs')(backbone_out)\n",
    "\n",
    "    model = Model(inputs=inputs, \n",
    "                  outputs=[disease_outputs, grow_outputs],\n",
    "                  name='strawberry')   \n",
    "    ###########################################################################3\n",
    "    \n",
    "    ####### top layer weight & bias loading ######\n",
    "    try :\n",
    "        ckpt_path = './toplayer_strawberry.ckpt'\n",
    "        model.load_weights=ckpt_path\n",
    "    except :\n",
    "        print('fail to load weights')\n",
    "        \n",
    "    ############### 동결 해제 ###################\n",
    "    base_model.trainable=True\n",
    "    fine_tune_at = int(len(base_model.layers) * config.freeze_rate)\n",
    "    for layer in base_model.layers[:fine_tune_at] :\n",
    "        layer.trainable = False  \n",
    "    model.compile(optimizer=Adam(config.learning_rate/10),  ## compile\n",
    "                  loss={\n",
    "                      'diease_outputs' : 'sparse_categorical_crossentropy',\n",
    "                      'grow_outputs' : 'sparse_categorical_crossentropy'\n",
    "                    },\n",
    "                    metrics=['accuracy'])\n",
    "    \n",
    "    es = EarlyStopping(monitor='loss',\n",
    "                   mode='auto',\n",
    "                  patience=5,\n",
    "                  verbose=1)\n",
    "    ckpt_path_ = './finetune_strawberry_{}.ckpt'.format(config.freeze_rate)\n",
    "    checkpointer = ModelCheckpoint(filepath=ckpt_path_,\n",
    "                              monitor='val_loss',\n",
    "                              save_weights_only = True,\n",
    "                              save_best_only= True,\n",
    "                              verbose=1)\n",
    "    ## finetuning\n",
    "    history_fine = model.fit(train_generator,\n",
    "                              validation_data=valid_generator,\n",
    "                              verbose=1,\n",
    "                              epochs=config.epochs,\n",
    "                              initial_epoch = start,\n",
    "                              callbacks=[es, checkpointer, WandbCallback()],  # model save at wandb\n",
    "                              steps_per_epoch=len(train_df)//config.batch_size)\n",
    "    "
   ]
  },
  {
   "cell_type": "code",
   "execution_count": 13,
   "id": "ede2e359",
   "metadata": {},
   "outputs": [],
   "source": [
    "sweep_config = {\n",
    "    'method': 'random', #grid, random\n",
    "    'metric': {\n",
    "      'name': 'val_loss',\n",
    "      'goal': 'minimize'   \n",
    "    },\n",
    "    'parameters': {\n",
    "        'freeze_rate': {\n",
    "            'values': [0, 0.2, 0.5, 0.9]\n",
    "        }\n",
    "    }\n",
    "}"
   ]
  },
  {
   "cell_type": "code",
   "execution_count": 14,
   "id": "42b20c44",
   "metadata": {
    "scrolled": true
   },
   "outputs": [
    {
     "name": "stderr",
     "output_type": "stream",
     "text": [
      "Failed to detect the name of this notebook, you can set it manually with the WANDB_NOTEBOOK_NAME environment variable to enable code saving.\n"
     ]
    },
    {
     "name": "stdout",
     "output_type": "stream",
     "text": [
      "Create sweep with ID: km450syi\n",
      "Sweep URL: https://wandb.ai/hkleee/strawberry/sweeps/km450syi\n"
     ]
    }
   ],
   "source": [
    "sweep_id = wandb.sweep(sweep_config, project='strawberry')"
   ]
  },
  {
   "cell_type": "code",
   "execution_count": null,
   "id": "798ced5a",
   "metadata": {
    "collapsed": true
   },
   "outputs": [
    {
     "name": "stderr",
     "output_type": "stream",
     "text": [
      "\u001b[34m\u001b[1mwandb\u001b[0m: Agent Starting Run: ktaacbzj with config:\n",
      "\u001b[34m\u001b[1mwandb\u001b[0m: \tfreeze_rate: 0.2\n",
      "Failed to detect the name of this notebook, you can set it manually with the WANDB_NOTEBOOK_NAME environment variable to enable code saving.\n",
      "\u001b[34m\u001b[1mwandb\u001b[0m: Currently logged in as: \u001b[33mhkleee\u001b[0m. Use \u001b[1m`wandb login --relogin`\u001b[0m to force relogin\n",
      "\u001b[34m\u001b[1mwandb\u001b[0m: \u001b[33mWARNING\u001b[0m Ignored wandb.init() arg project when running a sweep.\n"
     ]
    },
    {
     "data": {
      "text/html": [
       "Tracking run with wandb version 0.12.18"
      ],
      "text/plain": [
       "<IPython.core.display.HTML object>"
      ]
     },
     "metadata": {},
     "output_type": "display_data"
    },
    {
     "data": {
      "text/html": [
       "Run data is saved locally in <code>/home/lab38/Multi_proj_6/model/multi-output/strawberry/wandb/run-20220621_220903-ktaacbzj</code>"
      ],
      "text/plain": [
       "<IPython.core.display.HTML object>"
      ]
     },
     "metadata": {},
     "output_type": "display_data"
    },
    {
     "data": {
      "text/html": [
       "Syncing run <strong><a href=\"https://wandb.ai/hkleee/strawberry/runs/ktaacbzj\" target=\"_blank\">happy-sweep-1</a></strong> to <a href=\"https://wandb.ai/hkleee/strawberry\" target=\"_blank\">Weights & Biases</a> (<a href=\"https://wandb.me/run\" target=\"_blank\">docs</a>)<br/>Sweep page:  <a href=\"https://wandb.ai/hkleee/strawberry/sweeps/qvycddps\" target=\"_blank\">https://wandb.ai/hkleee/strawberry/sweeps/qvycddps</a>"
      ],
      "text/plain": [
       "<IPython.core.display.HTML object>"
      ]
     },
     "metadata": {},
     "output_type": "display_data"
    },
    {
     "name": "stdout",
     "output_type": "stream",
     "text": [
      "Found 13437 validated image filenames.\n",
      "Found 3360 validated image filenames.\n"
     ]
    },
    {
     "name": "stderr",
     "output_type": "stream",
     "text": [
      "2022-06-21 22:09:09.112541: I tensorflow/compiler/jit/xla_cpu_device.cc:41] Not creating XLA devices, tf_xla_enable_xla_devices not set\n",
      "2022-06-21 22:09:09.113701: I tensorflow/stream_executor/platform/default/dso_loader.cc:49] Successfully opened dynamic library libcuda.so.1\n",
      "2022-06-21 22:09:09.158747: I tensorflow/stream_executor/cuda/cuda_gpu_executor.cc:941] successful NUMA node read from SysFS had negative value (-1), but there must be at least one NUMA node, so returning NUMA node zero\n",
      "2022-06-21 22:09:09.159400: I tensorflow/core/common_runtime/gpu/gpu_device.cc:1720] Found device 0 with properties: \n",
      "pciBusID: 0000:00:1e.0 name: Tesla T4 computeCapability: 7.5\n",
      "coreClock: 1.59GHz coreCount: 40 deviceMemorySize: 14.75GiB deviceMemoryBandwidth: 298.08GiB/s\n",
      "2022-06-21 22:09:09.159449: I tensorflow/stream_executor/platform/default/dso_loader.cc:49] Successfully opened dynamic library libcudart.so.10.1\n",
      "2022-06-21 22:09:09.239932: I tensorflow/stream_executor/platform/default/dso_loader.cc:49] Successfully opened dynamic library libcublas.so.10\n",
      "2022-06-21 22:09:09.240092: I tensorflow/stream_executor/platform/default/dso_loader.cc:49] Successfully opened dynamic library libcublasLt.so.10\n",
      "2022-06-21 22:09:09.282091: I tensorflow/stream_executor/platform/default/dso_loader.cc:49] Successfully opened dynamic library libcufft.so.10\n",
      "2022-06-21 22:09:09.291954: I tensorflow/stream_executor/platform/default/dso_loader.cc:49] Successfully opened dynamic library libcurand.so.10\n",
      "2022-06-21 22:09:09.369251: I tensorflow/stream_executor/platform/default/dso_loader.cc:49] Successfully opened dynamic library libcusolver.so.10\n",
      "2022-06-21 22:09:09.379157: I tensorflow/stream_executor/platform/default/dso_loader.cc:49] Successfully opened dynamic library libcusparse.so.10\n",
      "2022-06-21 22:09:09.521807: I tensorflow/stream_executor/platform/default/dso_loader.cc:49] Successfully opened dynamic library libcudnn.so.7\n",
      "2022-06-21 22:09:09.522068: I tensorflow/stream_executor/cuda/cuda_gpu_executor.cc:941] successful NUMA node read from SysFS had negative value (-1), but there must be at least one NUMA node, so returning NUMA node zero\n",
      "2022-06-21 22:09:09.522782: I tensorflow/stream_executor/cuda/cuda_gpu_executor.cc:941] successful NUMA node read from SysFS had negative value (-1), but there must be at least one NUMA node, so returning NUMA node zero\n",
      "2022-06-21 22:09:09.523321: I tensorflow/core/common_runtime/gpu/gpu_device.cc:1862] Adding visible gpu devices: 0\n",
      "2022-06-21 22:09:09.524442: I tensorflow/core/platform/cpu_feature_guard.cc:142] This TensorFlow binary is optimized with oneAPI Deep Neural Network Library (oneDNN) to use the following CPU instructions in performance-critical operations:  SSE4.1 SSE4.2 AVX AVX2 AVX512F FMA\n",
      "To enable them in other operations, rebuild TensorFlow with the appropriate compiler flags.\n",
      "2022-06-21 22:09:09.524678: I tensorflow/compiler/jit/xla_gpu_device.cc:99] Not creating XLA devices, tf_xla_enable_xla_devices not set\n",
      "2022-06-21 22:09:09.524845: I tensorflow/stream_executor/cuda/cuda_gpu_executor.cc:941] successful NUMA node read from SysFS had negative value (-1), but there must be at least one NUMA node, so returning NUMA node zero\n",
      "2022-06-21 22:09:09.525417: I tensorflow/core/common_runtime/gpu/gpu_device.cc:1720] Found device 0 with properties: \n",
      "pciBusID: 0000:00:1e.0 name: Tesla T4 computeCapability: 7.5\n",
      "coreClock: 1.59GHz coreCount: 40 deviceMemorySize: 14.75GiB deviceMemoryBandwidth: 298.08GiB/s\n",
      "2022-06-21 22:09:09.525479: I tensorflow/stream_executor/platform/default/dso_loader.cc:49] Successfully opened dynamic library libcudart.so.10.1\n",
      "2022-06-21 22:09:09.525508: I tensorflow/stream_executor/platform/default/dso_loader.cc:49] Successfully opened dynamic library libcublas.so.10\n",
      "2022-06-21 22:09:09.525524: I tensorflow/stream_executor/platform/default/dso_loader.cc:49] Successfully opened dynamic library libcublasLt.so.10\n",
      "2022-06-21 22:09:09.525539: I tensorflow/stream_executor/platform/default/dso_loader.cc:49] Successfully opened dynamic library libcufft.so.10\n",
      "2022-06-21 22:09:09.525554: I tensorflow/stream_executor/platform/default/dso_loader.cc:49] Successfully opened dynamic library libcurand.so.10\n",
      "2022-06-21 22:09:09.525568: I tensorflow/stream_executor/platform/default/dso_loader.cc:49] Successfully opened dynamic library libcusolver.so.10\n",
      "2022-06-21 22:09:09.525585: I tensorflow/stream_executor/platform/default/dso_loader.cc:49] Successfully opened dynamic library libcusparse.so.10\n",
      "2022-06-21 22:09:09.525600: I tensorflow/stream_executor/platform/default/dso_loader.cc:49] Successfully opened dynamic library libcudnn.so.7\n",
      "2022-06-21 22:09:09.525666: I tensorflow/stream_executor/cuda/cuda_gpu_executor.cc:941] successful NUMA node read from SysFS had negative value (-1), but there must be at least one NUMA node, so returning NUMA node zero\n",
      "2022-06-21 22:09:09.526267: I tensorflow/stream_executor/cuda/cuda_gpu_executor.cc:941] successful NUMA node read from SysFS had negative value (-1), but there must be at least one NUMA node, so returning NUMA node zero\n",
      "2022-06-21 22:09:09.526793: I tensorflow/core/common_runtime/gpu/gpu_device.cc:1862] Adding visible gpu devices: 0\n",
      "2022-06-21 22:09:09.528027: I tensorflow/stream_executor/platform/default/dso_loader.cc:49] Successfully opened dynamic library libcudart.so.10.1\n",
      "2022-06-21 22:09:11.508263: I tensorflow/core/common_runtime/gpu/gpu_device.cc:1261] Device interconnect StreamExecutor with strength 1 edge matrix:\n",
      "2022-06-21 22:09:11.508295: I tensorflow/core/common_runtime/gpu/gpu_device.cc:1267]      0 \n",
      "2022-06-21 22:09:11.508303: I tensorflow/core/common_runtime/gpu/gpu_device.cc:1280] 0:   N \n",
      "2022-06-21 22:09:11.509435: I tensorflow/stream_executor/cuda/cuda_gpu_executor.cc:941] successful NUMA node read from SysFS had negative value (-1), but there must be at least one NUMA node, so returning NUMA node zero\n",
      "2022-06-21 22:09:11.510105: I tensorflow/stream_executor/cuda/cuda_gpu_executor.cc:941] successful NUMA node read from SysFS had negative value (-1), but there must be at least one NUMA node, so returning NUMA node zero\n",
      "2022-06-21 22:09:11.510674: I tensorflow/stream_executor/cuda/cuda_gpu_executor.cc:941] successful NUMA node read from SysFS had negative value (-1), but there must be at least one NUMA node, so returning NUMA node zero\n",
      "2022-06-21 22:09:11.511205: I tensorflow/core/common_runtime/gpu/gpu_device.cc:1406] Created TensorFlow device (/job:localhost/replica:0/task:0/device:GPU:0 with 13970 MB memory) -> physical GPU (device: 0, name: Tesla T4, pci bus id: 0000:00:1e.0, compute capability: 7.5)\n",
      "\u001b[34m\u001b[1mwandb\u001b[0m: \u001b[33mWARNING\u001b[0m The save_model argument by default saves the model in the HDF5 format that cannot save custom objects like subclassed models and custom layers. This behavior will be deprecated in a future release in favor of the SavedModel format. Meanwhile, the HDF5 model is saved as W&B files and the SavedModel as W&B Artifacts.\n",
      "2022-06-21 22:09:18.403399: I tensorflow/compiler/mlir/mlir_graph_optimization_pass.cc:116] None of the MLIR optimization passes are enabled (registered 2)\n",
      "2022-06-21 22:09:18.424284: I tensorflow/core/platform/profile_utils/cpu_utils.cc:112] CPU Frequency: 2499995000 Hz\n"
     ]
    },
    {
     "name": "stdout",
     "output_type": "stream",
     "text": [
      "Epoch 43/1000\n"
     ]
    },
    {
     "name": "stderr",
     "output_type": "stream",
     "text": [
      "2022-06-21 22:09:31.870922: I tensorflow/stream_executor/platform/default/dso_loader.cc:49] Successfully opened dynamic library libcublas.so.10\n",
      "2022-06-21 22:09:32.587693: I tensorflow/stream_executor/platform/default/dso_loader.cc:49] Successfully opened dynamic library libcudnn.so.7\n"
     ]
    },
    {
     "name": "stdout",
     "output_type": "stream",
     "text": [
      "671/671 [==============================] - 433s 618ms/step - loss: 1.2726 - diease_outputs_loss: 0.4769 - grow_outputs_loss: 0.7957 - diease_outputs_accuracy: 0.8212 - grow_outputs_accuracy: 0.6669 - val_loss: 0.7805 - val_diease_outputs_loss: 0.2546 - val_grow_outputs_loss: 0.5258 - val_diease_outputs_accuracy: 0.9104 - val_grow_outputs_accuracy: 0.7896\n",
      "Epoch 44/1000\n",
      "671/671 [==============================] - 414s 616ms/step - loss: 0.6449 - diease_outputs_loss: 0.1580 - grow_outputs_loss: 0.4868 - diease_outputs_accuracy: 0.9449 - grow_outputs_accuracy: 0.8039 - val_loss: 0.4990 - val_diease_outputs_loss: 0.0856 - val_grow_outputs_loss: 0.4133 - val_diease_outputs_accuracy: 0.9729 - val_grow_outputs_accuracy: 0.8330\n",
      "Epoch 45/1000\n",
      "671/671 [==============================] - 412s 613ms/step - loss: 0.4562 - diease_outputs_loss: 0.0869 - grow_outputs_loss: 0.3693 - diease_outputs_accuracy: 0.9707 - grow_outputs_accuracy: 0.8523 - val_loss: 0.4086 - val_diease_outputs_loss: 0.0750 - val_grow_outputs_loss: 0.3336 - val_diease_outputs_accuracy: 0.9756 - val_grow_outputs_accuracy: 0.8753\n",
      "Epoch 46/1000\n",
      "671/671 [==============================] - 411s 611ms/step - loss: 0.3456 - diease_outputs_loss: 0.0663 - grow_outputs_loss: 0.2793 - diease_outputs_accuracy: 0.9789 - grow_outputs_accuracy: 0.8990 - val_loss: 0.2703 - val_diease_outputs_loss: 0.0579 - val_grow_outputs_loss: 0.2124 - val_diease_outputs_accuracy: 0.9851 - val_grow_outputs_accuracy: 0.9238\n",
      "Epoch 47/1000\n",
      "671/671 [==============================] - 411s 611ms/step - loss: 0.2847 - diease_outputs_loss: 0.0465 - grow_outputs_loss: 0.2382 - diease_outputs_accuracy: 0.9861 - grow_outputs_accuracy: 0.9127 - val_loss: 0.2519 - val_diease_outputs_loss: 0.0509 - val_grow_outputs_loss: 0.2010 - val_diease_outputs_accuracy: 0.9848 - val_grow_outputs_accuracy: 0.9229\n",
      "Epoch 48/1000\n",
      "671/671 [==============================] - 410s 611ms/step - loss: 0.2304 - diease_outputs_loss: 0.0400 - grow_outputs_loss: 0.1905 - diease_outputs_accuracy: 0.9864 - grow_outputs_accuracy: 0.9308 - val_loss: 0.2687 - val_diease_outputs_loss: 0.0526 - val_grow_outputs_loss: 0.2161 - val_diease_outputs_accuracy: 0.9878 - val_grow_outputs_accuracy: 0.9190\n",
      "Epoch 49/1000\n",
      "671/671 [==============================] - 411s 611ms/step - loss: 0.1954 - diease_outputs_loss: 0.0348 - grow_outputs_loss: 0.1606 - diease_outputs_accuracy: 0.9896 - grow_outputs_accuracy: 0.9408 - val_loss: 0.2932 - val_diease_outputs_loss: 0.0533 - val_grow_outputs_loss: 0.2399 - val_diease_outputs_accuracy: 0.9896 - val_grow_outputs_accuracy: 0.9277\n",
      "Epoch 50/1000\n",
      "671/671 [==============================] - 410s 611ms/step - loss: 0.1982 - diease_outputs_loss: 0.0351 - grow_outputs_loss: 0.1631 - diease_outputs_accuracy: 0.9889 - grow_outputs_accuracy: 0.9390 - val_loss: 0.2752 - val_diease_outputs_loss: 0.0516 - val_grow_outputs_loss: 0.2237 - val_diease_outputs_accuracy: 0.9866 - val_grow_outputs_accuracy: 0.9324\n",
      "Epoch 51/1000\n",
      "671/671 [==============================] - 410s 611ms/step - loss: 0.1738 - diease_outputs_loss: 0.0279 - grow_outputs_loss: 0.1459 - diease_outputs_accuracy: 0.9918 - grow_outputs_accuracy: 0.9474 - val_loss: 0.2614 - val_diease_outputs_loss: 0.0565 - val_grow_outputs_loss: 0.2049 - val_diease_outputs_accuracy: 0.9848 - val_grow_outputs_accuracy: 0.9295\n",
      "Epoch 52/1000\n",
      "671/671 [==============================] - 410s 610ms/step - loss: 0.1638 - diease_outputs_loss: 0.0298 - grow_outputs_loss: 0.1340 - diease_outputs_accuracy: 0.9898 - grow_outputs_accuracy: 0.9498 - val_loss: 0.2004 - val_diease_outputs_loss: 0.0362 - val_grow_outputs_loss: 0.1642 - val_diease_outputs_accuracy: 0.9911 - val_grow_outputs_accuracy: 0.9420\n",
      "Epoch 53/1000\n",
      "671/671 [==============================] - 409s 609ms/step - loss: 0.1329 - diease_outputs_loss: 0.0154 - grow_outputs_loss: 0.1175 - diease_outputs_accuracy: 0.9942 - grow_outputs_accuracy: 0.9578 - val_loss: 0.1993 - val_diease_outputs_loss: 0.0538 - val_grow_outputs_loss: 0.1456 - val_diease_outputs_accuracy: 0.9857 - val_grow_outputs_accuracy: 0.9488\n",
      "Epoch 54/1000\n",
      "671/671 [==============================] - 409s 609ms/step - loss: 0.1431 - diease_outputs_loss: 0.0227 - grow_outputs_loss: 0.1204 - diease_outputs_accuracy: 0.9921 - grow_outputs_accuracy: 0.9556 - val_loss: 0.1780 - val_diease_outputs_loss: 0.0325 - val_grow_outputs_loss: 0.1455 - val_diease_outputs_accuracy: 0.9899 - val_grow_outputs_accuracy: 0.9485\n",
      "Epoch 55/1000\n",
      "671/671 [==============================] - 409s 608ms/step - loss: 0.1101 - diease_outputs_loss: 0.0188 - grow_outputs_loss: 0.0913 - diease_outputs_accuracy: 0.9946 - grow_outputs_accuracy: 0.9673 - val_loss: 0.1799 - val_diease_outputs_loss: 0.0512 - val_grow_outputs_loss: 0.1287 - val_diease_outputs_accuracy: 0.9833 - val_grow_outputs_accuracy: 0.9548\n",
      "Epoch 56/1000\n",
      "671/671 [==============================] - 409s 609ms/step - loss: 0.1085 - diease_outputs_loss: 0.0195 - grow_outputs_loss: 0.0890 - diease_outputs_accuracy: 0.9933 - grow_outputs_accuracy: 0.9699 - val_loss: 0.1753 - val_diease_outputs_loss: 0.0538 - val_grow_outputs_loss: 0.1215 - val_diease_outputs_accuracy: 0.9839 - val_grow_outputs_accuracy: 0.9589\n",
      "Epoch 57/1000\n",
      "671/671 [==============================] - 409s 609ms/step - loss: 0.0916 - diease_outputs_loss: 0.0132 - grow_outputs_loss: 0.0784 - diease_outputs_accuracy: 0.9964 - grow_outputs_accuracy: 0.9732 - val_loss: 0.1898 - val_diease_outputs_loss: 0.0261 - val_grow_outputs_loss: 0.1637 - val_diease_outputs_accuracy: 0.9937 - val_grow_outputs_accuracy: 0.9473\n",
      "Epoch 58/1000\n",
      "671/671 [==============================] - 409s 609ms/step - loss: 0.0982 - diease_outputs_loss: 0.0084 - grow_outputs_loss: 0.0897 - diease_outputs_accuracy: 0.9978 - grow_outputs_accuracy: 0.9706 - val_loss: 0.1625 - val_diease_outputs_loss: 0.0219 - val_grow_outputs_loss: 0.1407 - val_diease_outputs_accuracy: 0.9929 - val_grow_outputs_accuracy: 0.9476\n",
      "Epoch 59/1000\n",
      "671/671 [==============================] - 408s 608ms/step - loss: 0.1036 - diease_outputs_loss: 0.0169 - grow_outputs_loss: 0.0867 - diease_outputs_accuracy: 0.9954 - grow_outputs_accuracy: 0.9680 - val_loss: 0.1208 - val_diease_outputs_loss: 0.0199 - val_grow_outputs_loss: 0.1009 - val_diease_outputs_accuracy: 0.9952 - val_grow_outputs_accuracy: 0.9679\n",
      "Epoch 60/1000\n",
      "671/671 [==============================] - 408s 608ms/step - loss: 0.0810 - diease_outputs_loss: 0.0094 - grow_outputs_loss: 0.0716 - diease_outputs_accuracy: 0.9971 - grow_outputs_accuracy: 0.9769 - val_loss: 0.1668 - val_diease_outputs_loss: 0.0378 - val_grow_outputs_loss: 0.1290 - val_diease_outputs_accuracy: 0.9905 - val_grow_outputs_accuracy: 0.9646\n",
      "Epoch 61/1000\n",
      "671/671 [==============================] - 409s 608ms/step - loss: 0.0773 - diease_outputs_loss: 0.0138 - grow_outputs_loss: 0.0635 - diease_outputs_accuracy: 0.9956 - grow_outputs_accuracy: 0.9767 - val_loss: 0.2460 - val_diease_outputs_loss: 0.0659 - val_grow_outputs_loss: 0.1801 - val_diease_outputs_accuracy: 0.9842 - val_grow_outputs_accuracy: 0.9443\n",
      "Epoch 62/1000\n",
      "671/671 [==============================] - 408s 608ms/step - loss: 0.0894 - diease_outputs_loss: 0.0186 - grow_outputs_loss: 0.0708 - diease_outputs_accuracy: 0.9945 - grow_outputs_accuracy: 0.9767 - val_loss: 0.1862 - val_diease_outputs_loss: 0.0339 - val_grow_outputs_loss: 0.1524 - val_diease_outputs_accuracy: 0.9926 - val_grow_outputs_accuracy: 0.9548\n",
      "Epoch 63/1000\n",
      "671/671 [==============================] - 409s 608ms/step - loss: 0.0838 - diease_outputs_loss: 0.0121 - grow_outputs_loss: 0.0718 - diease_outputs_accuracy: 0.9970 - grow_outputs_accuracy: 0.9749 - val_loss: 0.2059 - val_diease_outputs_loss: 0.0291 - val_grow_outputs_loss: 0.1768 - val_diease_outputs_accuracy: 0.9923 - val_grow_outputs_accuracy: 0.9494\n",
      "Epoch 64/1000\n",
      "671/671 [==============================] - 408s 608ms/step - loss: 0.0922 - diease_outputs_loss: 0.0178 - grow_outputs_loss: 0.0744 - diease_outputs_accuracy: 0.9935 - grow_outputs_accuracy: 0.9748 - val_loss: 0.1708 - val_diease_outputs_loss: 0.0308 - val_grow_outputs_loss: 0.1400 - val_diease_outputs_accuracy: 0.9920 - val_grow_outputs_accuracy: 0.9530\n",
      "Epoch 65/1000\n",
      "671/671 [==============================] - 408s 608ms/step - loss: 0.0631 - diease_outputs_loss: 0.0033 - grow_outputs_loss: 0.0598 - diease_outputs_accuracy: 0.9993 - grow_outputs_accuracy: 0.9779 - val_loss: 0.2002 - val_diease_outputs_loss: 0.0296 - val_grow_outputs_loss: 0.1706 - val_diease_outputs_accuracy: 0.9926 - val_grow_outputs_accuracy: 0.9479\n",
      "Epoch 66/1000\n",
      "671/671 [==============================] - 408s 608ms/step - loss: 0.0782 - diease_outputs_loss: 0.0128 - grow_outputs_loss: 0.0654 - diease_outputs_accuracy: 0.9967 - grow_outputs_accuracy: 0.9784 - val_loss: 0.1847 - val_diease_outputs_loss: 0.0265 - val_grow_outputs_loss: 0.1582 - val_diease_outputs_accuracy: 0.9946 - val_grow_outputs_accuracy: 0.9601\n",
      "Epoch 67/1000\n",
      "671/671 [==============================] - 408s 608ms/step - loss: 0.0579 - diease_outputs_loss: 0.0072 - grow_outputs_loss: 0.0507 - diease_outputs_accuracy: 0.9987 - grow_outputs_accuracy: 0.9811 - val_loss: 0.1692 - val_diease_outputs_loss: 0.0317 - val_grow_outputs_loss: 0.1374 - val_diease_outputs_accuracy: 0.9911 - val_grow_outputs_accuracy: 0.9664\n",
      "Epoch 68/1000\n",
      "671/671 [==============================] - 408s 608ms/step - loss: 0.0675 - diease_outputs_loss: 0.0141 - grow_outputs_loss: 0.0533 - diease_outputs_accuracy: 0.9955 - grow_outputs_accuracy: 0.9799 - val_loss: 0.2079 - val_diease_outputs_loss: 0.0346 - val_grow_outputs_loss: 0.1733 - val_diease_outputs_accuracy: 0.9929 - val_grow_outputs_accuracy: 0.9589\n",
      "Epoch 69/1000\n",
      "671/671 [==============================] - 408s 608ms/step - loss: 0.0649 - diease_outputs_loss: 0.0066 - grow_outputs_loss: 0.0583 - diease_outputs_accuracy: 0.9975 - grow_outputs_accuracy: 0.9788 - val_loss: 0.1823 - val_diease_outputs_loss: 0.0429 - val_grow_outputs_loss: 0.1394 - val_diease_outputs_accuracy: 0.9854 - val_grow_outputs_accuracy: 0.9577\n",
      "Epoch 70/1000\n",
      "671/671 [==============================] - 408s 608ms/step - loss: 0.0681 - diease_outputs_loss: 0.0151 - grow_outputs_loss: 0.0530 - diease_outputs_accuracy: 0.9956 - grow_outputs_accuracy: 0.9826 - val_loss: 0.1515 - val_diease_outputs_loss: 0.0367 - val_grow_outputs_loss: 0.1147 - val_diease_outputs_accuracy: 0.9926 - val_grow_outputs_accuracy: 0.9720\n",
      "Epoch 71/1000\n",
      "671/671 [==============================] - 408s 607ms/step - loss: 0.0527 - diease_outputs_loss: 0.0061 - grow_outputs_loss: 0.0466 - diease_outputs_accuracy: 0.9982 - grow_outputs_accuracy: 0.9848 - val_loss: 0.1841 - val_diease_outputs_loss: 0.0332 - val_grow_outputs_loss: 0.1509 - val_diease_outputs_accuracy: 0.9920 - val_grow_outputs_accuracy: 0.9565\n",
      "Epoch 72/1000\n",
      "671/671 [==============================] - 408s 607ms/step - loss: 0.0691 - diease_outputs_loss: 0.0119 - grow_outputs_loss: 0.0572 - diease_outputs_accuracy: 0.9955 - grow_outputs_accuracy: 0.9801 - val_loss: 0.2340 - val_diease_outputs_loss: 0.0256 - val_grow_outputs_loss: 0.2083 - val_diease_outputs_accuracy: 0.9961 - val_grow_outputs_accuracy: 0.9479\n",
      "Epoch 73/1000\n",
      "671/671 [==============================] - 408s 607ms/step - loss: 0.0601 - diease_outputs_loss: 0.0065 - grow_outputs_loss: 0.0536 - diease_outputs_accuracy: 0.9976 - grow_outputs_accuracy: 0.9834 - val_loss: 0.1630 - val_diease_outputs_loss: 0.0250 - val_grow_outputs_loss: 0.1380 - val_diease_outputs_accuracy: 0.9952 - val_grow_outputs_accuracy: 0.9640\n",
      "Epoch 74/1000\n",
      "671/671 [==============================] - 408s 607ms/step - loss: 0.0527 - diease_outputs_loss: 0.0114 - grow_outputs_loss: 0.0413 - diease_outputs_accuracy: 0.9968 - grow_outputs_accuracy: 0.9860 - val_loss: 0.1806 - val_diease_outputs_loss: 0.0338 - val_grow_outputs_loss: 0.1467 - val_diease_outputs_accuracy: 0.9937 - val_grow_outputs_accuracy: 0.9580\n",
      "Epoch 75/1000\n",
      "671/671 [==============================] - 407s 607ms/step - loss: 0.0540 - diease_outputs_loss: 0.0136 - grow_outputs_loss: 0.0404 - diease_outputs_accuracy: 0.9959 - grow_outputs_accuracy: 0.9862 - val_loss: 0.1465 - val_diease_outputs_loss: 0.0264 - val_grow_outputs_loss: 0.1201 - val_diease_outputs_accuracy: 0.9958 - val_grow_outputs_accuracy: 0.9711\n",
      "Epoch 76/1000\n",
      "334/671 [=============>................] - ETA: 3:07 - loss: 0.0454 - diease_outputs_loss: 0.0036 - grow_outputs_loss: 0.0418 - diease_outputs_accuracy: 0.9985 - grow_outputs_accuracy: 0.9884"
     ]
    }
   ],
   "source": [
    "wandb.agent(sweep_id, finetune)"
   ]
  },
  {
   "cell_type": "code",
   "execution_count": null,
   "id": "f707f10e",
   "metadata": {
    "scrolled": true
   },
   "outputs": [
    {
     "name": "stderr",
     "output_type": "stream",
     "text": [
      "\u001b[34m\u001b[1mwandb\u001b[0m: Agent Starting Run: meqldopt with config:\n",
      "\u001b[34m\u001b[1mwandb\u001b[0m: \tfreeze_rate: 0.9\n",
      "Failed to detect the name of this notebook, you can set it manually with the WANDB_NOTEBOOK_NAME environment variable to enable code saving.\n",
      "\u001b[34m\u001b[1mwandb\u001b[0m: Currently logged in as: \u001b[33mhkleee\u001b[0m. Use \u001b[1m`wandb login --relogin`\u001b[0m to force relogin\n",
      "\u001b[34m\u001b[1mwandb\u001b[0m: \u001b[33mWARNING\u001b[0m Ignored wandb.init() arg project when running a sweep.\n"
     ]
    },
    {
     "data": {
      "text/html": [
       "Tracking run with wandb version 0.12.18"
      ],
      "text/plain": [
       "<IPython.core.display.HTML object>"
      ]
     },
     "metadata": {},
     "output_type": "display_data"
    },
    {
     "data": {
      "text/html": [
       "Run data is saved locally in <code>/home/lab38/Multi_proj_6/model/multi-output/strawberry/wandb/run-20220622_071020-meqldopt</code>"
      ],
      "text/plain": [
       "<IPython.core.display.HTML object>"
      ]
     },
     "metadata": {},
     "output_type": "display_data"
    },
    {
     "data": {
      "text/html": [
       "Syncing run <strong><a href=\"https://wandb.ai/hkleee/strawberry/runs/meqldopt\" target=\"_blank\">happy-sweep-3</a></strong> to <a href=\"https://wandb.ai/hkleee/strawberry\" target=\"_blank\">Weights & Biases</a> (<a href=\"https://wandb.me/run\" target=\"_blank\">docs</a>)<br/>Sweep page:  <a href=\"https://wandb.ai/hkleee/strawberry/sweeps/qvycddps\" target=\"_blank\">https://wandb.ai/hkleee/strawberry/sweeps/qvycddps</a>"
      ],
      "text/plain": [
       "<IPython.core.display.HTML object>"
      ]
     },
     "metadata": {},
     "output_type": "display_data"
    },
    {
     "name": "stdout",
     "output_type": "stream",
     "text": [
      "Found 13437 validated image filenames.\n",
      "Found 3360 validated image filenames.\n"
     ]
    },
    {
     "name": "stderr",
     "output_type": "stream",
     "text": [
      "2022-06-22 07:10:25.191765: I tensorflow/compiler/jit/xla_cpu_device.cc:41] Not creating XLA devices, tf_xla_enable_xla_devices not set\n",
      "2022-06-22 07:10:25.192818: I tensorflow/stream_executor/platform/default/dso_loader.cc:49] Successfully opened dynamic library libcuda.so.1\n",
      "2022-06-22 07:10:25.237751: I tensorflow/stream_executor/cuda/cuda_gpu_executor.cc:941] successful NUMA node read from SysFS had negative value (-1), but there must be at least one NUMA node, so returning NUMA node zero\n",
      "2022-06-22 07:10:25.238343: I tensorflow/core/common_runtime/gpu/gpu_device.cc:1720] Found device 0 with properties: \n",
      "pciBusID: 0000:00:1e.0 name: Tesla T4 computeCapability: 7.5\n",
      "coreClock: 1.59GHz coreCount: 40 deviceMemorySize: 14.75GiB deviceMemoryBandwidth: 298.08GiB/s\n",
      "2022-06-22 07:10:25.238389: I tensorflow/stream_executor/platform/default/dso_loader.cc:49] Successfully opened dynamic library libcudart.so.10.1\n",
      "2022-06-22 07:10:25.239897: I tensorflow/stream_executor/platform/default/dso_loader.cc:49] Successfully opened dynamic library libcublas.so.10\n",
      "2022-06-22 07:10:25.240012: I tensorflow/stream_executor/platform/default/dso_loader.cc:49] Successfully opened dynamic library libcublasLt.so.10\n",
      "2022-06-22 07:10:25.241527: I tensorflow/stream_executor/platform/default/dso_loader.cc:49] Successfully opened dynamic library libcufft.so.10\n",
      "2022-06-22 07:10:25.241834: I tensorflow/stream_executor/platform/default/dso_loader.cc:49] Successfully opened dynamic library libcurand.so.10\n",
      "2022-06-22 07:10:25.243801: I tensorflow/stream_executor/platform/default/dso_loader.cc:49] Successfully opened dynamic library libcusolver.so.10\n",
      "2022-06-22 07:10:25.245009: I tensorflow/stream_executor/platform/default/dso_loader.cc:49] Successfully opened dynamic library libcusparse.so.10\n",
      "2022-06-22 07:10:25.249200: I tensorflow/stream_executor/platform/default/dso_loader.cc:49] Successfully opened dynamic library libcudnn.so.7\n",
      "2022-06-22 07:10:25.249338: I tensorflow/stream_executor/cuda/cuda_gpu_executor.cc:941] successful NUMA node read from SysFS had negative value (-1), but there must be at least one NUMA node, so returning NUMA node zero\n",
      "2022-06-22 07:10:25.249966: I tensorflow/stream_executor/cuda/cuda_gpu_executor.cc:941] successful NUMA node read from SysFS had negative value (-1), but there must be at least one NUMA node, so returning NUMA node zero\n",
      "2022-06-22 07:10:25.250501: I tensorflow/core/common_runtime/gpu/gpu_device.cc:1862] Adding visible gpu devices: 0\n",
      "2022-06-22 07:10:25.250883: I tensorflow/core/platform/cpu_feature_guard.cc:142] This TensorFlow binary is optimized with oneAPI Deep Neural Network Library (oneDNN) to use the following CPU instructions in performance-critical operations:  SSE4.1 SSE4.2 AVX AVX2 AVX512F FMA\n",
      "To enable them in other operations, rebuild TensorFlow with the appropriate compiler flags.\n",
      "2022-06-22 07:10:25.251085: I tensorflow/compiler/jit/xla_gpu_device.cc:99] Not creating XLA devices, tf_xla_enable_xla_devices not set\n",
      "2022-06-22 07:10:25.251213: I tensorflow/stream_executor/cuda/cuda_gpu_executor.cc:941] successful NUMA node read from SysFS had negative value (-1), but there must be at least one NUMA node, so returning NUMA node zero\n",
      "2022-06-22 07:10:25.251789: I tensorflow/core/common_runtime/gpu/gpu_device.cc:1720] Found device 0 with properties: \n",
      "pciBusID: 0000:00:1e.0 name: Tesla T4 computeCapability: 7.5\n",
      "coreClock: 1.59GHz coreCount: 40 deviceMemorySize: 14.75GiB deviceMemoryBandwidth: 298.08GiB/s\n",
      "2022-06-22 07:10:25.251824: I tensorflow/stream_executor/platform/default/dso_loader.cc:49] Successfully opened dynamic library libcudart.so.10.1\n",
      "2022-06-22 07:10:25.251846: I tensorflow/stream_executor/platform/default/dso_loader.cc:49] Successfully opened dynamic library libcublas.so.10\n",
      "2022-06-22 07:10:25.251861: I tensorflow/stream_executor/platform/default/dso_loader.cc:49] Successfully opened dynamic library libcublasLt.so.10\n",
      "2022-06-22 07:10:25.251876: I tensorflow/stream_executor/platform/default/dso_loader.cc:49] Successfully opened dynamic library libcufft.so.10\n",
      "2022-06-22 07:10:25.251890: I tensorflow/stream_executor/platform/default/dso_loader.cc:49] Successfully opened dynamic library libcurand.so.10\n",
      "2022-06-22 07:10:25.251904: I tensorflow/stream_executor/platform/default/dso_loader.cc:49] Successfully opened dynamic library libcusolver.so.10\n",
      "2022-06-22 07:10:25.251920: I tensorflow/stream_executor/platform/default/dso_loader.cc:49] Successfully opened dynamic library libcusparse.so.10\n",
      "2022-06-22 07:10:25.251952: I tensorflow/stream_executor/platform/default/dso_loader.cc:49] Successfully opened dynamic library libcudnn.so.7\n",
      "2022-06-22 07:10:25.252031: I tensorflow/stream_executor/cuda/cuda_gpu_executor.cc:941] successful NUMA node read from SysFS had negative value (-1), but there must be at least one NUMA node, so returning NUMA node zero\n",
      "2022-06-22 07:10:25.252621: I tensorflow/stream_executor/cuda/cuda_gpu_executor.cc:941] successful NUMA node read from SysFS had negative value (-1), but there must be at least one NUMA node, so returning NUMA node zero\n",
      "2022-06-22 07:10:25.253150: I tensorflow/core/common_runtime/gpu/gpu_device.cc:1862] Adding visible gpu devices: 0\n",
      "2022-06-22 07:10:25.253189: I tensorflow/stream_executor/platform/default/dso_loader.cc:49] Successfully opened dynamic library libcudart.so.10.1\n",
      "2022-06-22 07:10:25.887248: I tensorflow/core/common_runtime/gpu/gpu_device.cc:1261] Device interconnect StreamExecutor with strength 1 edge matrix:\n",
      "2022-06-22 07:10:25.887278: I tensorflow/core/common_runtime/gpu/gpu_device.cc:1267]      0 \n",
      "2022-06-22 07:10:25.887287: I tensorflow/core/common_runtime/gpu/gpu_device.cc:1280] 0:   N \n",
      "2022-06-22 07:10:25.887583: I tensorflow/stream_executor/cuda/cuda_gpu_executor.cc:941] successful NUMA node read from SysFS had negative value (-1), but there must be at least one NUMA node, so returning NUMA node zero\n",
      "2022-06-22 07:10:25.888361: I tensorflow/stream_executor/cuda/cuda_gpu_executor.cc:941] successful NUMA node read from SysFS had negative value (-1), but there must be at least one NUMA node, so returning NUMA node zero\n",
      "2022-06-22 07:10:25.888946: I tensorflow/stream_executor/cuda/cuda_gpu_executor.cc:941] successful NUMA node read from SysFS had negative value (-1), but there must be at least one NUMA node, so returning NUMA node zero\n",
      "2022-06-22 07:10:25.889483: I tensorflow/core/common_runtime/gpu/gpu_device.cc:1406] Created TensorFlow device (/job:localhost/replica:0/task:0/device:GPU:0 with 13970 MB memory) -> physical GPU (device: 0, name: Tesla T4, pci bus id: 0000:00:1e.0, compute capability: 7.5)\n",
      "\u001b[34m\u001b[1mwandb\u001b[0m: \u001b[33mWARNING\u001b[0m The save_model argument by default saves the model in the HDF5 format that cannot save custom objects like subclassed models and custom layers. This behavior will be deprecated in a future release in favor of the SavedModel format. Meanwhile, the HDF5 model is saved as W&B files and the SavedModel as W&B Artifacts.\n",
      "2022-06-22 07:10:31.894673: I tensorflow/compiler/mlir/mlir_graph_optimization_pass.cc:116] None of the MLIR optimization passes are enabled (registered 2)\n",
      "2022-06-22 07:10:31.912032: I tensorflow/core/platform/profile_utils/cpu_utils.cc:112] CPU Frequency: 2499995000 Hz\n"
     ]
    },
    {
     "name": "stdout",
     "output_type": "stream",
     "text": [
      "Epoch 43/1000\n"
     ]
    },
    {
     "name": "stderr",
     "output_type": "stream",
     "text": [
      "2022-06-22 07:10:40.004976: I tensorflow/stream_executor/platform/default/dso_loader.cc:49] Successfully opened dynamic library libcublas.so.10\n",
      "2022-06-22 07:10:40.395419: I tensorflow/stream_executor/platform/default/dso_loader.cc:49] Successfully opened dynamic library libcudnn.so.7\n"
     ]
    },
    {
     "name": "stdout",
     "output_type": "stream",
     "text": [
      "671/671 [==============================] - 326s 471ms/step - loss: 1.2595 - diease_outputs_loss: 0.4624 - grow_outputs_loss: 0.7972 - diease_outputs_accuracy: 0.8204 - grow_outputs_accuracy: 0.6606 - val_loss: 0.6820 - val_diease_outputs_loss: 0.1339 - val_grow_outputs_loss: 0.5481 - val_diease_outputs_accuracy: 0.9524 - val_grow_outputs_accuracy: 0.7670\n",
      "\n",
      "Epoch 00043: val_loss improved from inf to 0.68200, saving model to ./finetune_strawberry_0.9.ckpt\n",
      "Epoch 44/1000\n",
      "671/671 [==============================] - 308s 459ms/step - loss: 0.5933 - diease_outputs_loss: 0.1379 - grow_outputs_loss: 0.4554 - diease_outputs_accuracy: 0.9489 - grow_outputs_accuracy: 0.8197 - val_loss: 0.4990 - val_diease_outputs_loss: 0.0832 - val_grow_outputs_loss: 0.4158 - val_diease_outputs_accuracy: 0.9741 - val_grow_outputs_accuracy: 0.8304\n",
      "\n",
      "Epoch 00044: val_loss improved from 0.68200 to 0.49904, saving model to ./finetune_strawberry_0.9.ckpt\n",
      "Epoch 45/1000\n",
      "671/671 [==============================] - 311s 463ms/step - loss: 0.4327 - diease_outputs_loss: 0.0917 - grow_outputs_loss: 0.3410 - diease_outputs_accuracy: 0.9669 - grow_outputs_accuracy: 0.8669 - val_loss: 0.4244 - val_diease_outputs_loss: 0.0522 - val_grow_outputs_loss: 0.3722 - val_diease_outputs_accuracy: 0.9821 - val_grow_outputs_accuracy: 0.8560\n",
      "\n",
      "Epoch 00045: val_loss improved from 0.49904 to 0.42436, saving model to ./finetune_strawberry_0.9.ckpt\n",
      "Epoch 46/1000\n",
      "671/671 [==============================] - 312s 464ms/step - loss: 0.3308 - diease_outputs_loss: 0.0648 - grow_outputs_loss: 0.2660 - diease_outputs_accuracy: 0.9793 - grow_outputs_accuracy: 0.9013 - val_loss: 0.3216 - val_diease_outputs_loss: 0.0559 - val_grow_outputs_loss: 0.2657 - val_diease_outputs_accuracy: 0.9804 - val_grow_outputs_accuracy: 0.9045\n",
      "\n",
      "Epoch 00046: val_loss improved from 0.42436 to 0.32165, saving model to ./finetune_strawberry_0.9.ckpt\n",
      "Epoch 47/1000\n",
      "671/671 [==============================] - 312s 465ms/step - loss: 0.2647 - diease_outputs_loss: 0.0434 - grow_outputs_loss: 0.2214 - diease_outputs_accuracy: 0.9844 - grow_outputs_accuracy: 0.9129 - val_loss: 0.2752 - val_diease_outputs_loss: 0.0444 - val_grow_outputs_loss: 0.2308 - val_diease_outputs_accuracy: 0.9833 - val_grow_outputs_accuracy: 0.9164\n",
      "\n",
      "Epoch 00047: val_loss improved from 0.32165 to 0.27517, saving model to ./finetune_strawberry_0.9.ckpt\n",
      "Epoch 48/1000\n",
      "671/671 [==============================] - 314s 468ms/step - loss: 0.2355 - diease_outputs_loss: 0.0388 - grow_outputs_loss: 0.1968 - diease_outputs_accuracy: 0.9864 - grow_outputs_accuracy: 0.9262 - val_loss: 0.2497 - val_diease_outputs_loss: 0.0309 - val_grow_outputs_loss: 0.2188 - val_diease_outputs_accuracy: 0.9884 - val_grow_outputs_accuracy: 0.9259\n",
      "\n",
      "Epoch 00048: val_loss improved from 0.27517 to 0.24968, saving model to ./finetune_strawberry_0.9.ckpt\n",
      "Epoch 49/1000\n",
      "671/671 [==============================] - 312s 465ms/step - loss: 0.1918 - diease_outputs_loss: 0.0284 - grow_outputs_loss: 0.1633 - diease_outputs_accuracy: 0.9909 - grow_outputs_accuracy: 0.9400 - val_loss: 0.2582 - val_diease_outputs_loss: 0.0516 - val_grow_outputs_loss: 0.2066 - val_diease_outputs_accuracy: 0.9842 - val_grow_outputs_accuracy: 0.9259\n",
      "\n",
      "Epoch 00049: val_loss did not improve from 0.24968\n",
      "Epoch 50/1000\n",
      "671/671 [==============================] - 311s 464ms/step - loss: 0.1748 - diease_outputs_loss: 0.0302 - grow_outputs_loss: 0.1446 - diease_outputs_accuracy: 0.9899 - grow_outputs_accuracy: 0.9456 - val_loss: 0.2286 - val_diease_outputs_loss: 0.0254 - val_grow_outputs_loss: 0.2032 - val_diease_outputs_accuracy: 0.9914 - val_grow_outputs_accuracy: 0.9307\n",
      "\n",
      "Epoch 00050: val_loss improved from 0.24968 to 0.22856, saving model to ./finetune_strawberry_0.9.ckpt\n",
      "Epoch 51/1000\n",
      "671/671 [==============================] - 308s 459ms/step - loss: 0.1726 - diease_outputs_loss: 0.0318 - grow_outputs_loss: 0.1409 - diease_outputs_accuracy: 0.9873 - grow_outputs_accuracy: 0.9504 - val_loss: 0.2870 - val_diease_outputs_loss: 0.0292 - val_grow_outputs_loss: 0.2579 - val_diease_outputs_accuracy: 0.9902 - val_grow_outputs_accuracy: 0.9116\n",
      "\n",
      "Epoch 00051: val_loss did not improve from 0.22856\n",
      "Epoch 52/1000\n",
      "671/671 [==============================] - 308s 459ms/step - loss: 0.1531 - diease_outputs_loss: 0.0222 - grow_outputs_loss: 0.1309 - diease_outputs_accuracy: 0.9925 - grow_outputs_accuracy: 0.9515 - val_loss: 0.2126 - val_diease_outputs_loss: 0.0191 - val_grow_outputs_loss: 0.1934 - val_diease_outputs_accuracy: 0.9929 - val_grow_outputs_accuracy: 0.9345\n",
      "\n",
      "Epoch 00052: val_loss improved from 0.22856 to 0.21259, saving model to ./finetune_strawberry_0.9.ckpt\n",
      "Epoch 53/1000\n",
      "671/671 [==============================] - 309s 459ms/step - loss: 0.1440 - diease_outputs_loss: 0.0163 - grow_outputs_loss: 0.1278 - diease_outputs_accuracy: 0.9943 - grow_outputs_accuracy: 0.9544 - val_loss: 0.2357 - val_diease_outputs_loss: 0.0311 - val_grow_outputs_loss: 0.2046 - val_diease_outputs_accuracy: 0.9884 - val_grow_outputs_accuracy: 0.9283\n",
      "\n",
      "Epoch 00053: val_loss did not improve from 0.21259\n",
      "Epoch 54/1000\n",
      "671/671 [==============================] - 311s 463ms/step - loss: 0.1329 - diease_outputs_loss: 0.0184 - grow_outputs_loss: 0.1144 - diease_outputs_accuracy: 0.9943 - grow_outputs_accuracy: 0.9586 - val_loss: 0.1793 - val_diease_outputs_loss: 0.0204 - val_grow_outputs_loss: 0.1590 - val_diease_outputs_accuracy: 0.9929 - val_grow_outputs_accuracy: 0.9405\n",
      "\n",
      "Epoch 00054: val_loss improved from 0.21259 to 0.17935, saving model to ./finetune_strawberry_0.9.ckpt\n",
      "Epoch 55/1000\n",
      "671/671 [==============================] - 310s 461ms/step - loss: 0.1343 - diease_outputs_loss: 0.0174 - grow_outputs_loss: 0.1169 - diease_outputs_accuracy: 0.9939 - grow_outputs_accuracy: 0.9587 - val_loss: 0.2135 - val_diease_outputs_loss: 0.0266 - val_grow_outputs_loss: 0.1869 - val_diease_outputs_accuracy: 0.9929 - val_grow_outputs_accuracy: 0.9396\n",
      "\n",
      "Epoch 00055: val_loss did not improve from 0.17935\n",
      "Epoch 56/1000\n",
      "671/671 [==============================] - 311s 463ms/step - loss: 0.1225 - diease_outputs_loss: 0.0127 - grow_outputs_loss: 0.1098 - diease_outputs_accuracy: 0.9958 - grow_outputs_accuracy: 0.9604 - val_loss: 0.2079 - val_diease_outputs_loss: 0.0216 - val_grow_outputs_loss: 0.1863 - val_diease_outputs_accuracy: 0.9949 - val_grow_outputs_accuracy: 0.9330\n",
      "\n",
      "Epoch 00056: val_loss did not improve from 0.17935\n",
      "Epoch 57/1000\n",
      "671/671 [==============================] - 309s 460ms/step - loss: 0.1178 - diease_outputs_loss: 0.0192 - grow_outputs_loss: 0.0986 - diease_outputs_accuracy: 0.9942 - grow_outputs_accuracy: 0.9658 - val_loss: 0.1659 - val_diease_outputs_loss: 0.0205 - val_grow_outputs_loss: 0.1454 - val_diease_outputs_accuracy: 0.9940 - val_grow_outputs_accuracy: 0.9470\n",
      "\n",
      "Epoch 00057: val_loss improved from 0.17935 to 0.16590, saving model to ./finetune_strawberry_0.9.ckpt\n",
      "Epoch 58/1000\n",
      "671/671 [==============================] - 311s 463ms/step - loss: 0.0939 - diease_outputs_loss: 0.0119 - grow_outputs_loss: 0.0820 - diease_outputs_accuracy: 0.9958 - grow_outputs_accuracy: 0.9713 - val_loss: 0.1733 - val_diease_outputs_loss: 0.0129 - val_grow_outputs_loss: 0.1604 - val_diease_outputs_accuracy: 0.9958 - val_grow_outputs_accuracy: 0.9396\n",
      "\n",
      "Epoch 00058: val_loss did not improve from 0.16590\n",
      "Epoch 59/1000\n",
      "671/671 [==============================] - 311s 464ms/step - loss: 0.0931 - diease_outputs_loss: 0.0117 - grow_outputs_loss: 0.0814 - diease_outputs_accuracy: 0.9966 - grow_outputs_accuracy: 0.9736 - val_loss: 0.2294 - val_diease_outputs_loss: 0.0312 - val_grow_outputs_loss: 0.1981 - val_diease_outputs_accuracy: 0.9893 - val_grow_outputs_accuracy: 0.9312\n",
      "\n",
      "Epoch 00059: val_loss did not improve from 0.16590\n",
      "Epoch 60/1000\n",
      "671/671 [==============================] - 312s 464ms/step - loss: 0.1092 - diease_outputs_loss: 0.0152 - grow_outputs_loss: 0.0940 - diease_outputs_accuracy: 0.9946 - grow_outputs_accuracy: 0.9666 - val_loss: 0.1819 - val_diease_outputs_loss: 0.0206 - val_grow_outputs_loss: 0.1613 - val_diease_outputs_accuracy: 0.9943 - val_grow_outputs_accuracy: 0.9470\n",
      "\n",
      "Epoch 00060: val_loss did not improve from 0.16590\n",
      "Epoch 61/1000\n"
     ]
    },
    {
     "name": "stdout",
     "output_type": "stream",
     "text": [
      "671/671 [==============================] - 311s 463ms/step - loss: 0.0963 - diease_outputs_loss: 0.0132 - grow_outputs_loss: 0.0831 - diease_outputs_accuracy: 0.9957 - grow_outputs_accuracy: 0.9698 - val_loss: 0.1937 - val_diease_outputs_loss: 0.0268 - val_grow_outputs_loss: 0.1669 - val_diease_outputs_accuracy: 0.9926 - val_grow_outputs_accuracy: 0.9515\n",
      "\n",
      "Epoch 00061: val_loss did not improve from 0.16590\n",
      "Epoch 62/1000\n",
      "671/671 [==============================] - 312s 465ms/step - loss: 0.0974 - diease_outputs_loss: 0.0153 - grow_outputs_loss: 0.0821 - diease_outputs_accuracy: 0.9942 - grow_outputs_accuracy: 0.9686 - val_loss: 0.1561 - val_diease_outputs_loss: 0.0179 - val_grow_outputs_loss: 0.1382 - val_diease_outputs_accuracy: 0.9935 - val_grow_outputs_accuracy: 0.9539\n",
      "\n",
      "Epoch 00062: val_loss improved from 0.16590 to 0.15607, saving model to ./finetune_strawberry_0.9.ckpt\n",
      "Epoch 63/1000\n",
      "671/671 [==============================] - 306s 455ms/step - loss: 0.0792 - diease_outputs_loss: 0.0095 - grow_outputs_loss: 0.0697 - diease_outputs_accuracy: 0.9964 - grow_outputs_accuracy: 0.9743 - val_loss: 0.1948 - val_diease_outputs_loss: 0.0211 - val_grow_outputs_loss: 0.1737 - val_diease_outputs_accuracy: 0.9937 - val_grow_outputs_accuracy: 0.9455\n",
      "\n",
      "Epoch 00063: val_loss did not improve from 0.15607\n",
      "Epoch 64/1000\n",
      "671/671 [==============================] - 308s 459ms/step - loss: 0.0812 - diease_outputs_loss: 0.0072 - grow_outputs_loss: 0.0740 - diease_outputs_accuracy: 0.9982 - grow_outputs_accuracy: 0.9731 - val_loss: 0.2334 - val_diease_outputs_loss: 0.0312 - val_grow_outputs_loss: 0.2022 - val_diease_outputs_accuracy: 0.9926 - val_grow_outputs_accuracy: 0.9372\n",
      "\n",
      "Epoch 00064: val_loss did not improve from 0.15607\n",
      "Epoch 65/1000\n",
      "671/671 [==============================] - 308s 459ms/step - loss: 0.0779 - diease_outputs_loss: 0.0105 - grow_outputs_loss: 0.0675 - diease_outputs_accuracy: 0.9965 - grow_outputs_accuracy: 0.9775 - val_loss: 0.2088 - val_diease_outputs_loss: 0.0392 - val_grow_outputs_loss: 0.1695 - val_diease_outputs_accuracy: 0.9914 - val_grow_outputs_accuracy: 0.9494\n",
      "\n",
      "Epoch 00065: val_loss did not improve from 0.15607\n",
      "Epoch 66/1000\n",
      "671/671 [==============================] - 308s 459ms/step - loss: 0.0727 - diease_outputs_loss: 0.0077 - grow_outputs_loss: 0.0651 - diease_outputs_accuracy: 0.9976 - grow_outputs_accuracy: 0.9765 - val_loss: 0.2032 - val_diease_outputs_loss: 0.0081 - val_grow_outputs_loss: 0.1950 - val_diease_outputs_accuracy: 0.9976 - val_grow_outputs_accuracy: 0.9467\n",
      "\n",
      "Epoch 00066: val_loss did not improve from 0.15607\n",
      "Epoch 67/1000\n",
      "671/671 [==============================] - 308s 459ms/step - loss: 0.0758 - diease_outputs_loss: 0.0081 - grow_outputs_loss: 0.0677 - diease_outputs_accuracy: 0.9975 - grow_outputs_accuracy: 0.9765 - val_loss: 0.1917 - val_diease_outputs_loss: 0.0221 - val_grow_outputs_loss: 0.1695 - val_diease_outputs_accuracy: 0.9935 - val_grow_outputs_accuracy: 0.9548\n",
      "\n",
      "Epoch 00067: val_loss did not improve from 0.15607\n",
      "Epoch 68/1000\n",
      "671/671 [==============================] - 308s 458ms/step - loss: 0.0701 - diease_outputs_loss: 0.0108 - grow_outputs_loss: 0.0593 - diease_outputs_accuracy: 0.9955 - grow_outputs_accuracy: 0.9795 - val_loss: 0.2008 - val_diease_outputs_loss: 0.0284 - val_grow_outputs_loss: 0.1724 - val_diease_outputs_accuracy: 0.9932 - val_grow_outputs_accuracy: 0.9491\n",
      "\n",
      "Epoch 00068: val_loss did not improve from 0.15607\n",
      "Epoch 69/1000\n",
      "671/671 [==============================] - 308s 459ms/step - loss: 0.0693 - diease_outputs_loss: 0.0098 - grow_outputs_loss: 0.0594 - diease_outputs_accuracy: 0.9967 - grow_outputs_accuracy: 0.9799 - val_loss: 0.2488 - val_diease_outputs_loss: 0.0425 - val_grow_outputs_loss: 0.2063 - val_diease_outputs_accuracy: 0.9893 - val_grow_outputs_accuracy: 0.9452\n",
      "\n",
      "Epoch 00069: val_loss did not improve from 0.15607\n",
      "Epoch 70/1000\n",
      "671/671 [==============================] - 308s 459ms/step - loss: 0.0654 - diease_outputs_loss: 0.0097 - grow_outputs_loss: 0.0557 - diease_outputs_accuracy: 0.9966 - grow_outputs_accuracy: 0.9811 - val_loss: 0.1623 - val_diease_outputs_loss: 0.0186 - val_grow_outputs_loss: 0.1436 - val_diease_outputs_accuracy: 0.9952 - val_grow_outputs_accuracy: 0.9595\n",
      "\n",
      "Epoch 00070: val_loss did not improve from 0.15607\n",
      "Epoch 71/1000\n",
      "671/671 [==============================] - 309s 461ms/step - loss: 0.0578 - diease_outputs_loss: 0.0073 - grow_outputs_loss: 0.0505 - diease_outputs_accuracy: 0.9978 - grow_outputs_accuracy: 0.9825 - val_loss: 0.1813 - val_diease_outputs_loss: 0.0226 - val_grow_outputs_loss: 0.1587 - val_diease_outputs_accuracy: 0.9958 - val_grow_outputs_accuracy: 0.9527\n",
      "\n",
      "Epoch 00071: val_loss did not improve from 0.15607\n",
      "Epoch 72/1000\n",
      "671/671 [==============================] - 305s 455ms/step - loss: 0.0596 - diease_outputs_loss: 0.0079 - grow_outputs_loss: 0.0517 - diease_outputs_accuracy: 0.9985 - grow_outputs_accuracy: 0.9824 - val_loss: 0.1776 - val_diease_outputs_loss: 0.0225 - val_grow_outputs_loss: 0.1551 - val_diease_outputs_accuracy: 0.9952 - val_grow_outputs_accuracy: 0.9554\n",
      "\n",
      "Epoch 00072: val_loss did not improve from 0.15607\n",
      "Epoch 73/1000\n",
      "671/671 [==============================] - 306s 456ms/step - loss: 0.0654 - diease_outputs_loss: 0.0052 - grow_outputs_loss: 0.0602 - diease_outputs_accuracy: 0.9983 - grow_outputs_accuracy: 0.9784 - val_loss: 0.2043 - val_diease_outputs_loss: 0.0273 - val_grow_outputs_loss: 0.1770 - val_diease_outputs_accuracy: 0.9955 - val_grow_outputs_accuracy: 0.9470\n",
      "\n",
      "Epoch 00073: val_loss did not improve from 0.15607\n",
      "Epoch 74/1000\n",
      "671/671 [==============================] - 306s 455ms/step - loss: 0.0566 - diease_outputs_loss: 0.0078 - grow_outputs_loss: 0.0488 - diease_outputs_accuracy: 0.9978 - grow_outputs_accuracy: 0.9826 - val_loss: 0.2396 - val_diease_outputs_loss: 0.0339 - val_grow_outputs_loss: 0.2057 - val_diease_outputs_accuracy: 0.9917 - val_grow_outputs_accuracy: 0.9497\n",
      "\n",
      "Epoch 00074: val_loss did not improve from 0.15607\n",
      "Epoch 75/1000\n",
      "671/671 [==============================] - 307s 457ms/step - loss: 0.0555 - diease_outputs_loss: 0.0097 - grow_outputs_loss: 0.0458 - diease_outputs_accuracy: 0.9975 - grow_outputs_accuracy: 0.9845 - val_loss: 0.2062 - val_diease_outputs_loss: 0.0252 - val_grow_outputs_loss: 0.1810 - val_diease_outputs_accuracy: 0.9955 - val_grow_outputs_accuracy: 0.9533\n",
      "\n",
      "Epoch 00075: val_loss did not improve from 0.15607\n",
      "Epoch 76/1000\n",
      "671/671 [==============================] - 311s 463ms/step - loss: 0.0549 - diease_outputs_loss: 0.0074 - grow_outputs_loss: 0.0475 - diease_outputs_accuracy: 0.9973 - grow_outputs_accuracy: 0.9823 - val_loss: 0.2893 - val_diease_outputs_loss: 0.0277 - val_grow_outputs_loss: 0.2616 - val_diease_outputs_accuracy: 0.9940 - val_grow_outputs_accuracy: 0.9399\n",
      "\n",
      "Epoch 00076: val_loss did not improve from 0.15607\n",
      "Epoch 77/1000\n",
      "671/671 [==============================] - 313s 466ms/step - loss: 0.0575 - diease_outputs_loss: 0.0100 - grow_outputs_loss: 0.0476 - diease_outputs_accuracy: 0.9969 - grow_outputs_accuracy: 0.9843 - val_loss: 0.1894 - val_diease_outputs_loss: 0.0209 - val_grow_outputs_loss: 0.1685 - val_diease_outputs_accuracy: 0.9952 - val_grow_outputs_accuracy: 0.9527\n",
      "\n",
      "Epoch 00077: val_loss did not improve from 0.15607\n",
      "Epoch 78/1000\n",
      "671/671 [==============================] - 309s 461ms/step - loss: 0.0531 - diease_outputs_loss: 0.0055 - grow_outputs_loss: 0.0476 - diease_outputs_accuracy: 0.9985 - grow_outputs_accuracy: 0.9829 - val_loss: 0.2035 - val_diease_outputs_loss: 0.0246 - val_grow_outputs_loss: 0.1788 - val_diease_outputs_accuracy: 0.9961 - val_grow_outputs_accuracy: 0.9560\n",
      "\n",
      "Epoch 00078: val_loss did not improve from 0.15607\n",
      "Epoch 79/1000\n",
      "671/671 [==============================] - 312s 465ms/step - loss: 0.0543 - diease_outputs_loss: 0.0126 - grow_outputs_loss: 0.0417 - diease_outputs_accuracy: 0.9963 - grow_outputs_accuracy: 0.9841 - val_loss: 0.1998 - val_diease_outputs_loss: 0.0196 - val_grow_outputs_loss: 0.1803 - val_diease_outputs_accuracy: 0.9973 - val_grow_outputs_accuracy: 0.9518\n",
      "\n",
      "Epoch 00079: val_loss did not improve from 0.15607\n",
      "Epoch 80/1000\n"
     ]
    },
    {
     "name": "stdout",
     "output_type": "stream",
     "text": [
      "671/671 [==============================] - 305s 455ms/step - loss: 0.0481 - diease_outputs_loss: 0.0062 - grow_outputs_loss: 0.0419 - diease_outputs_accuracy: 0.9980 - grow_outputs_accuracy: 0.9851 - val_loss: 0.1834 - val_diease_outputs_loss: 0.0175 - val_grow_outputs_loss: 0.1659 - val_diease_outputs_accuracy: 0.9961 - val_grow_outputs_accuracy: 0.9586\n",
      "\n",
      "Epoch 00080: val_loss did not improve from 0.15607\n",
      "Epoch 81/1000\n",
      "671/671 [==============================] - 307s 458ms/step - loss: 0.0492 - diease_outputs_loss: 0.0040 - grow_outputs_loss: 0.0451 - diease_outputs_accuracy: 0.9989 - grow_outputs_accuracy: 0.9844 - val_loss: 0.2029 - val_diease_outputs_loss: 0.0296 - val_grow_outputs_loss: 0.1733 - val_diease_outputs_accuracy: 0.9932 - val_grow_outputs_accuracy: 0.9592\n",
      "\n",
      "Epoch 00081: val_loss did not improve from 0.15607\n",
      "Epoch 82/1000\n",
      "671/671 [==============================] - 308s 459ms/step - loss: 0.0463 - diease_outputs_loss: 0.0084 - grow_outputs_loss: 0.0380 - diease_outputs_accuracy: 0.9977 - grow_outputs_accuracy: 0.9878 - val_loss: 0.2125 - val_diease_outputs_loss: 0.0235 - val_grow_outputs_loss: 0.1890 - val_diease_outputs_accuracy: 0.9949 - val_grow_outputs_accuracy: 0.9563\n",
      "\n",
      "Epoch 00082: val_loss did not improve from 0.15607\n",
      "Epoch 83/1000\n",
      "671/671 [==============================] - 306s 456ms/step - loss: 0.0503 - diease_outputs_loss: 0.0090 - grow_outputs_loss: 0.0414 - diease_outputs_accuracy: 0.9979 - grow_outputs_accuracy: 0.9868 - val_loss: 0.2380 - val_diease_outputs_loss: 0.0208 - val_grow_outputs_loss: 0.2172 - val_diease_outputs_accuracy: 0.9967 - val_grow_outputs_accuracy: 0.9488\n",
      "\n",
      "Epoch 00083: val_loss did not improve from 0.15607\n",
      "Epoch 84/1000\n",
      "671/671 [==============================] - 308s 459ms/step - loss: 0.0464 - diease_outputs_loss: 0.0106 - grow_outputs_loss: 0.0358 - diease_outputs_accuracy: 0.9978 - grow_outputs_accuracy: 0.9871 - val_loss: 0.1598 - val_diease_outputs_loss: 0.0206 - val_grow_outputs_loss: 0.1392 - val_diease_outputs_accuracy: 0.9958 - val_grow_outputs_accuracy: 0.9595\n",
      "\n",
      "Epoch 00084: val_loss did not improve from 0.15607\n",
      "Epoch 85/1000\n",
      "671/671 [==============================] - 308s 459ms/step - loss: 0.0445 - diease_outputs_loss: 0.0060 - grow_outputs_loss: 0.0385 - diease_outputs_accuracy: 0.9985 - grow_outputs_accuracy: 0.9868 - val_loss: 0.1777 - val_diease_outputs_loss: 0.0199 - val_grow_outputs_loss: 0.1578 - val_diease_outputs_accuracy: 0.9973 - val_grow_outputs_accuracy: 0.9577\n",
      "\n",
      "Epoch 00085: val_loss did not improve from 0.15607\n",
      "Epoch 86/1000\n",
      "671/671 [==============================] - 308s 459ms/step - loss: 0.0372 - diease_outputs_loss: 0.0046 - grow_outputs_loss: 0.0326 - diease_outputs_accuracy: 0.9986 - grow_outputs_accuracy: 0.9896 - val_loss: 0.2207 - val_diease_outputs_loss: 0.0224 - val_grow_outputs_loss: 0.1983 - val_diease_outputs_accuracy: 0.9967 - val_grow_outputs_accuracy: 0.9527\n",
      "\n",
      "Epoch 00086: val_loss did not improve from 0.15607\n",
      "Epoch 87/1000\n",
      "671/671 [==============================] - 308s 459ms/step - loss: 0.0400 - diease_outputs_loss: 0.0055 - grow_outputs_loss: 0.0345 - diease_outputs_accuracy: 0.9984 - grow_outputs_accuracy: 0.9859 - val_loss: 0.2189 - val_diease_outputs_loss: 0.0317 - val_grow_outputs_loss: 0.1872 - val_diease_outputs_accuracy: 0.9926 - val_grow_outputs_accuracy: 0.9554\n",
      "\n",
      "Epoch 00087: val_loss did not improve from 0.15607\n",
      "Epoch 88/1000\n",
      "671/671 [==============================] - 306s 455ms/step - loss: 0.0489 - diease_outputs_loss: 0.0101 - grow_outputs_loss: 0.0388 - diease_outputs_accuracy: 0.9971 - grow_outputs_accuracy: 0.9888 - val_loss: 0.2305 - val_diease_outputs_loss: 0.0140 - val_grow_outputs_loss: 0.2165 - val_diease_outputs_accuracy: 0.9970 - val_grow_outputs_accuracy: 0.9467\n",
      "\n",
      "Epoch 00088: val_loss did not improve from 0.15607\n",
      "Epoch 89/1000\n",
      "671/671 [==============================] - 308s 459ms/step - loss: 0.0460 - diease_outputs_loss: 0.0091 - grow_outputs_loss: 0.0368 - diease_outputs_accuracy: 0.9980 - grow_outputs_accuracy: 0.9872 - val_loss: 0.2075 - val_diease_outputs_loss: 0.0290 - val_grow_outputs_loss: 0.1786 - val_diease_outputs_accuracy: 0.9917 - val_grow_outputs_accuracy: 0.9563\n",
      "\n",
      "Epoch 00089: val_loss did not improve from 0.15607\n",
      "Epoch 90/1000\n",
      "671/671 [==============================] - 308s 458ms/step - loss: 0.0415 - diease_outputs_loss: 0.0108 - grow_outputs_loss: 0.0307 - diease_outputs_accuracy: 0.9978 - grow_outputs_accuracy: 0.9882 - val_loss: 0.2123 - val_diease_outputs_loss: 0.0213 - val_grow_outputs_loss: 0.1910 - val_diease_outputs_accuracy: 0.9955 - val_grow_outputs_accuracy: 0.9601\n",
      "\n",
      "Epoch 00090: val_loss did not improve from 0.15607\n",
      "Epoch 91/1000\n",
      "671/671 [==============================] - 309s 461ms/step - loss: 0.0328 - diease_outputs_loss: 0.0036 - grow_outputs_loss: 0.0292 - diease_outputs_accuracy: 0.9990 - grow_outputs_accuracy: 0.9893 - val_loss: 0.2472 - val_diease_outputs_loss: 0.0159 - val_grow_outputs_loss: 0.2313 - val_diease_outputs_accuracy: 0.9976 - val_grow_outputs_accuracy: 0.9571\n",
      "\n",
      "Epoch 00091: val_loss did not improve from 0.15607\n",
      "Epoch 92/1000\n",
      "671/671 [==============================] - 307s 457ms/step - loss: 0.0389 - diease_outputs_loss: 0.0056 - grow_outputs_loss: 0.0333 - diease_outputs_accuracy: 0.9985 - grow_outputs_accuracy: 0.9876 - val_loss: 0.2187 - val_diease_outputs_loss: 0.0194 - val_grow_outputs_loss: 0.1993 - val_diease_outputs_accuracy: 0.9943 - val_grow_outputs_accuracy: 0.9503\n",
      "\n",
      "Epoch 00092: val_loss did not improve from 0.15607\n",
      "Epoch 93/1000\n",
      "671/671 [==============================] - 309s 460ms/step - loss: 0.0474 - diease_outputs_loss: 0.0070 - grow_outputs_loss: 0.0405 - diease_outputs_accuracy: 0.9981 - grow_outputs_accuracy: 0.9871 - val_loss: 0.2436 - val_diease_outputs_loss: 0.0411 - val_grow_outputs_loss: 0.2025 - val_diease_outputs_accuracy: 0.9979 - val_grow_outputs_accuracy: 0.9515\n",
      "\n",
      "Epoch 00093: val_loss did not improve from 0.15607\n",
      "Epoch 94/1000\n",
      "671/671 [==============================] - 308s 459ms/step - loss: 0.0356 - diease_outputs_loss: 0.0041 - grow_outputs_loss: 0.0315 - diease_outputs_accuracy: 0.9988 - grow_outputs_accuracy: 0.9890 - val_loss: 0.2175 - val_diease_outputs_loss: 0.0175 - val_grow_outputs_loss: 0.2001 - val_diease_outputs_accuracy: 0.9952 - val_grow_outputs_accuracy: 0.9577\n",
      "\n",
      "Epoch 00094: val_loss did not improve from 0.15607\n",
      "Epoch 95/1000\n",
      "671/671 [==============================] - 306s 456ms/step - loss: 0.0360 - diease_outputs_loss: 0.0072 - grow_outputs_loss: 0.0288 - diease_outputs_accuracy: 0.9972 - grow_outputs_accuracy: 0.9899 - val_loss: 0.2078 - val_diease_outputs_loss: 0.0127 - val_grow_outputs_loss: 0.1951 - val_diease_outputs_accuracy: 0.9949 - val_grow_outputs_accuracy: 0.9494\n",
      "\n",
      "Epoch 00095: val_loss did not improve from 0.15607\n",
      "Epoch 96/1000\n",
      "671/671 [==============================] - 306s 456ms/step - loss: 0.0440 - diease_outputs_loss: 0.0031 - grow_outputs_loss: 0.0409 - diease_outputs_accuracy: 0.9990 - grow_outputs_accuracy: 0.9862 - val_loss: 0.1905 - val_diease_outputs_loss: 0.0162 - val_grow_outputs_loss: 0.1742 - val_diease_outputs_accuracy: 0.9958 - val_grow_outputs_accuracy: 0.9622\n",
      "\n",
      "Epoch 00096: val_loss did not improve from 0.15607\n",
      "Epoch 00096: early stopping\n"
     ]
    },
    {
     "data": {
      "text/html": [
       "Waiting for W&B process to finish... <strong style=\"color:green\">(success).</strong>"
      ],
      "text/plain": [
       "<IPython.core.display.HTML object>"
      ]
     },
     "metadata": {},
     "output_type": "display_data"
    },
    {
     "data": {
      "text/html": [
       "<style>\n",
       "    table.wandb td:nth-child(1) { padding: 0 10px; text-align: left ; width: auto;} td:nth-child(2) {text-align: left ; width: 100%}\n",
       "    .wandb-row { display: flex; flex-direction: row; flex-wrap: wrap; justify-content: flex-start; width: 100% }\n",
       "    .wandb-col { display: flex; flex-direction: column; flex-basis: 100%; flex: 1; padding: 10px; }\n",
       "    </style>\n",
       "<div class=\"wandb-row\"><div class=\"wandb-col\"><h3>Run history:</h3><br/><table class=\"wandb\"><tr><td>diease_outputs_accuracy</td><td>▁▅▆▇▇▇▇█████████████████████████████████</td></tr><tr><td>diease_outputs_loss</td><td>█▄▃▂▂▂▂▁▁▁▁▁▁▁▁▁▁▁▁▁▁▁▁▁▁▁▁▁▁▁▁▁▁▁▁▁▁▁▁▁</td></tr><tr><td>epoch</td><td>▁▁▁▂▂▂▂▂▂▃▃▃▃▃▄▄▄▄▄▄▅▅▅▅▅▅▆▆▆▆▆▇▇▇▇▇▇███</td></tr><tr><td>grow_outputs_accuracy</td><td>▁▄▅▆▆▇▇▇▇▇▇▇▇▇██████████████████████████</td></tr><tr><td>grow_outputs_loss</td><td>█▆▄▃▃▃▂▂▂▂▂▂▂▂▂▁▂▁▁▁▁▁▁▁▁▁▁▁▁▁▁▁▁▁▁▁▁▁▁▁</td></tr><tr><td>loss</td><td>█▅▄▃▃▂▂▂▂▂▂▂▂▂▁▁▁▁▁▁▁▁▁▁▁▁▁▁▁▁▁▁▁▁▁▁▁▁▁▁</td></tr><tr><td>val_diease_outputs_accuracy</td><td>▁▄▆▆▇▆▇▇▇▇█▇▇▇▇▇▇█▇▇███▇█▇██▇████▇▇█████</td></tr><tr><td>val_diease_outputs_loss</td><td>█▅▃▃▂▃▂▂▂▂▂▂▂▂▂▂▂▁▂▂▂▂▂▂▂▂▂▂▂▂▂▂▂▂▂▂▁▃▂▁</td></tr><tr><td>val_grow_outputs_accuracy</td><td>▁▃▄▆▇▇▆▇▇▇▇▇▇▇█▇▇▇███████▇██████████████</td></tr><tr><td>val_grow_outputs_loss</td><td>█▆▅▃▂▂▃▂▂▂▂▁▂▁▁▂▂▂▂▂▁▁▁▂▂▃▂▂▂▂▂▁▂▂▂▂▃▂▂▂</td></tr><tr><td>val_loss</td><td>█▆▅▃▂▂▃▂▂▂▂▁▂▁▁▂▂▂▁▂▁▁▁▂▂▃▂▂▂▂▂▁▂▂▂▂▂▂▂▁</td></tr></table><br/></div><div class=\"wandb-col\"><h3>Run summary:</h3><br/><table class=\"wandb\"><tr><td>best_epoch</td><td>61</td></tr><tr><td>best_val_loss</td><td>0.15607</td></tr><tr><td>diease_outputs_accuracy</td><td>0.99896</td></tr><tr><td>diease_outputs_loss</td><td>0.00399</td></tr><tr><td>epoch</td><td>95</td></tr><tr><td>grow_outputs_accuracy</td><td>0.98599</td></tr><tr><td>grow_outputs_loss</td><td>0.04243</td></tr><tr><td>loss</td><td>0.04643</td></tr><tr><td>val_diease_outputs_accuracy</td><td>0.99583</td></tr><tr><td>val_diease_outputs_loss</td><td>0.01624</td></tr><tr><td>val_grow_outputs_accuracy</td><td>0.9622</td></tr><tr><td>val_grow_outputs_loss</td><td>0.17424</td></tr><tr><td>val_loss</td><td>0.19048</td></tr></table><br/></div></div>"
      ],
      "text/plain": [
       "<IPython.core.display.HTML object>"
      ]
     },
     "metadata": {},
     "output_type": "display_data"
    },
    {
     "data": {
      "text/html": [
       "Synced <strong style=\"color:#cdcd00\">happy-sweep-3</strong>: <a href=\"https://wandb.ai/hkleee/strawberry/runs/meqldopt\" target=\"_blank\">https://wandb.ai/hkleee/strawberry/runs/meqldopt</a><br/>Synced 6 W&B file(s), 1 media file(s), 0 artifact file(s) and 1 other file(s)"
      ],
      "text/plain": [
       "<IPython.core.display.HTML object>"
      ]
     },
     "metadata": {},
     "output_type": "display_data"
    },
    {
     "data": {
      "text/html": [
       "Find logs at: <code>./wandb/run-20220622_071020-meqldopt/logs</code>"
      ],
      "text/plain": [
       "<IPython.core.display.HTML object>"
      ]
     },
     "metadata": {},
     "output_type": "display_data"
    },
    {
     "name": "stderr",
     "output_type": "stream",
     "text": [
      "\u001b[34m\u001b[1mwandb\u001b[0m: Sweep Agent: Waiting for job.\n",
      "\u001b[34m\u001b[1mwandb\u001b[0m: Job received.\n",
      "\u001b[34m\u001b[1mwandb\u001b[0m: Agent Starting Run: 2t6gwjgz with config:\n",
      "\u001b[34m\u001b[1mwandb\u001b[0m: \tfreeze_rate: 0.2\n",
      "Failed to detect the name of this notebook, you can set it manually with the WANDB_NOTEBOOK_NAME environment variable to enable code saving.\n",
      "\u001b[34m\u001b[1mwandb\u001b[0m: \u001b[33mWARNING\u001b[0m Ignored wandb.init() arg project when running a sweep.\n"
     ]
    },
    {
     "data": {
      "text/html": [
       "Tracking run with wandb version 0.12.18"
      ],
      "text/plain": [
       "<IPython.core.display.HTML object>"
      ]
     },
     "metadata": {},
     "output_type": "display_data"
    },
    {
     "data": {
      "text/html": [
       "Run data is saved locally in <code>/home/lab38/Multi_proj_6/model/multi-output/strawberry/wandb/run-20220622_114946-2t6gwjgz</code>"
      ],
      "text/plain": [
       "<IPython.core.display.HTML object>"
      ]
     },
     "metadata": {},
     "output_type": "display_data"
    },
    {
     "data": {
      "text/html": [
       "Syncing run <strong><a href=\"https://wandb.ai/hkleee/strawberry/runs/2t6gwjgz\" target=\"_blank\">laced-sweep-4</a></strong> to <a href=\"https://wandb.ai/hkleee/strawberry\" target=\"_blank\">Weights & Biases</a> (<a href=\"https://wandb.me/run\" target=\"_blank\">docs</a>)<br/>Sweep page:  <a href=\"https://wandb.ai/hkleee/strawberry/sweeps/qvycddps\" target=\"_blank\">https://wandb.ai/hkleee/strawberry/sweeps/qvycddps</a>"
      ],
      "text/plain": [
       "<IPython.core.display.HTML object>"
      ]
     },
     "metadata": {},
     "output_type": "display_data"
    },
    {
     "name": "stdout",
     "output_type": "stream",
     "text": [
      "Found 13437 validated image filenames.\n",
      "Found 3360 validated image filenames.\n",
      "Epoch 43/1000\n",
      "671/671 [==============================] - 434s 627ms/step - loss: 1.3225 - diease_outputs_loss: 0.4808 - grow_outputs_loss: 0.8418 - diease_outputs_accuracy: 0.8141 - grow_outputs_accuracy: 0.6507 - val_loss: 0.6245 - val_diease_outputs_loss: 0.1520 - val_grow_outputs_loss: 0.4725 - val_diease_outputs_accuracy: 0.9482 - val_grow_outputs_accuracy: 0.8128\n",
      "\n",
      "Epoch 00043: val_loss improved from inf to 0.62448, saving model to ./finetune_strawberry_0.2.ckpt\n",
      "Epoch 44/1000\n",
      "671/671 [==============================] - 403s 601ms/step - loss: 0.5971 - diease_outputs_loss: 0.1362 - grow_outputs_loss: 0.4609 - diease_outputs_accuracy: 0.9528 - grow_outputs_accuracy: 0.8166 - val_loss: 0.4686 - val_diease_outputs_loss: 0.1043 - val_grow_outputs_loss: 0.3642 - val_diease_outputs_accuracy: 0.9661 - val_grow_outputs_accuracy: 0.8595\n",
      "\n",
      "Epoch 00044: val_loss improved from 0.62448 to 0.46858, saving model to ./finetune_strawberry_0.2.ckpt\n",
      "Epoch 45/1000\n",
      "671/671 [==============================] - 421s 627ms/step - loss: 0.4305 - diease_outputs_loss: 0.0854 - grow_outputs_loss: 0.3450 - diease_outputs_accuracy: 0.9704 - grow_outputs_accuracy: 0.8665 - val_loss: 0.4092 - val_diease_outputs_loss: 0.0689 - val_grow_outputs_loss: 0.3403 - val_diease_outputs_accuracy: 0.9783 - val_grow_outputs_accuracy: 0.8726\n",
      "\n",
      "Epoch 00045: val_loss improved from 0.46858 to 0.40922, saving model to ./finetune_strawberry_0.2.ckpt\n",
      "Epoch 46/1000\n",
      "671/671 [==============================] - 402s 599ms/step - loss: 0.3258 - diease_outputs_loss: 0.0633 - grow_outputs_loss: 0.2625 - diease_outputs_accuracy: 0.9772 - grow_outputs_accuracy: 0.9008 - val_loss: 0.3004 - val_diease_outputs_loss: 0.0656 - val_grow_outputs_loss: 0.2348 - val_diease_outputs_accuracy: 0.9771 - val_grow_outputs_accuracy: 0.9220\n",
      "\n",
      "Epoch 00046: val_loss improved from 0.40922 to 0.30037, saving model to ./finetune_strawberry_0.2.ckpt\n",
      "Epoch 47/1000\n",
      "671/671 [==============================] - 402s 598ms/step - loss: 0.2989 - diease_outputs_loss: 0.0613 - grow_outputs_loss: 0.2376 - diease_outputs_accuracy: 0.9761 - grow_outputs_accuracy: 0.9111 - val_loss: 0.2488 - val_diease_outputs_loss: 0.0426 - val_grow_outputs_loss: 0.2062 - val_diease_outputs_accuracy: 0.9869 - val_grow_outputs_accuracy: 0.9268\n",
      "\n",
      "Epoch 00047: val_loss improved from 0.30037 to 0.24881, saving model to ./finetune_strawberry_0.2.ckpt\n",
      "Epoch 48/1000\n",
      "671/671 [==============================] - 419s 623ms/step - loss: 0.2251 - diease_outputs_loss: 0.0418 - grow_outputs_loss: 0.1833 - diease_outputs_accuracy: 0.9873 - grow_outputs_accuracy: 0.9318 - val_loss: 0.2847 - val_diease_outputs_loss: 0.0329 - val_grow_outputs_loss: 0.2518 - val_diease_outputs_accuracy: 0.9887 - val_grow_outputs_accuracy: 0.9054\n",
      "\n",
      "Epoch 00048: val_loss did not improve from 0.24881\n",
      "Epoch 49/1000\n",
      "671/671 [==============================] - 421s 627ms/step - loss: 0.2182 - diease_outputs_loss: 0.0404 - grow_outputs_loss: 0.1777 - diease_outputs_accuracy: 0.9859 - grow_outputs_accuracy: 0.9387 - val_loss: 0.1773 - val_diease_outputs_loss: 0.0264 - val_grow_outputs_loss: 0.1509 - val_diease_outputs_accuracy: 0.9920 - val_grow_outputs_accuracy: 0.9509\n",
      "\n",
      "Epoch 00049: val_loss improved from 0.24881 to 0.17729, saving model to ./finetune_strawberry_0.2.ckpt\n",
      "Epoch 50/1000\n",
      "671/671 [==============================] - 419s 624ms/step - loss: 0.1662 - diease_outputs_loss: 0.0231 - grow_outputs_loss: 0.1432 - diease_outputs_accuracy: 0.9931 - grow_outputs_accuracy: 0.9473 - val_loss: 0.2595 - val_diease_outputs_loss: 0.0550 - val_grow_outputs_loss: 0.2046 - val_diease_outputs_accuracy: 0.9810 - val_grow_outputs_accuracy: 0.9396\n",
      "\n",
      "Epoch 00050: val_loss did not improve from 0.17729\n",
      "Epoch 51/1000\n",
      "671/671 [==============================] - 420s 625ms/step - loss: 0.1559 - diease_outputs_loss: 0.0226 - grow_outputs_loss: 0.1332 - diease_outputs_accuracy: 0.9932 - grow_outputs_accuracy: 0.9534 - val_loss: 0.2718 - val_diease_outputs_loss: 0.0275 - val_grow_outputs_loss: 0.2443 - val_diease_outputs_accuracy: 0.9893 - val_grow_outputs_accuracy: 0.9187\n",
      "\n",
      "Epoch 00051: val_loss did not improve from 0.17729\n",
      "Epoch 52/1000\n",
      "671/671 [==============================] - 412s 613ms/step - loss: 0.1356 - diease_outputs_loss: 0.0217 - grow_outputs_loss: 0.1138 - diease_outputs_accuracy: 0.9932 - grow_outputs_accuracy: 0.9608 - val_loss: 0.2285 - val_diease_outputs_loss: 0.0315 - val_grow_outputs_loss: 0.1970 - val_diease_outputs_accuracy: 0.9899 - val_grow_outputs_accuracy: 0.9354\n",
      "\n",
      "Epoch 00052: val_loss did not improve from 0.17729\n",
      "Epoch 53/1000\n",
      "671/671 [==============================] - 399s 594ms/step - loss: 0.1285 - diease_outputs_loss: 0.0237 - grow_outputs_loss: 0.1048 - diease_outputs_accuracy: 0.9917 - grow_outputs_accuracy: 0.9634 - val_loss: 0.2250 - val_diease_outputs_loss: 0.0264 - val_grow_outputs_loss: 0.1986 - val_diease_outputs_accuracy: 0.9937 - val_grow_outputs_accuracy: 0.9440\n",
      "\n",
      "Epoch 00053: val_loss did not improve from 0.17729\n",
      "Epoch 54/1000\n",
      "671/671 [==============================] - 415s 618ms/step - loss: 0.1309 - diease_outputs_loss: 0.0173 - grow_outputs_loss: 0.1136 - diease_outputs_accuracy: 0.9940 - grow_outputs_accuracy: 0.9611 - val_loss: 0.1863 - val_diease_outputs_loss: 0.0263 - val_grow_outputs_loss: 0.1600 - val_diease_outputs_accuracy: 0.9926 - val_grow_outputs_accuracy: 0.9503\n",
      "\n",
      "Epoch 00054: val_loss did not improve from 0.17729\n",
      "Epoch 55/1000\n",
      "671/671 [==============================] - 410s 610ms/step - loss: 0.1291 - diease_outputs_loss: 0.0237 - grow_outputs_loss: 0.1054 - diease_outputs_accuracy: 0.9914 - grow_outputs_accuracy: 0.9611 - val_loss: 0.3763 - val_diease_outputs_loss: 0.0527 - val_grow_outputs_loss: 0.3236 - val_diease_outputs_accuracy: 0.9860 - val_grow_outputs_accuracy: 0.9137\n",
      "\n",
      "Epoch 00055: val_loss did not improve from 0.17729\n",
      "Epoch 56/1000\n",
      "671/671 [==============================] - 409s 609ms/step - loss: 0.1197 - diease_outputs_loss: 0.0175 - grow_outputs_loss: 0.1022 - diease_outputs_accuracy: 0.9949 - grow_outputs_accuracy: 0.9657 - val_loss: 0.2018 - val_diease_outputs_loss: 0.0217 - val_grow_outputs_loss: 0.1801 - val_diease_outputs_accuracy: 0.9932 - val_grow_outputs_accuracy: 0.9420\n",
      "\n",
      "Epoch 00056: val_loss did not improve from 0.17729\n",
      "Epoch 57/1000\n",
      "671/671 [==============================] - 409s 609ms/step - loss: 0.0970 - diease_outputs_loss: 0.0101 - grow_outputs_loss: 0.0869 - diease_outputs_accuracy: 0.9968 - grow_outputs_accuracy: 0.9705 - val_loss: 0.2032 - val_diease_outputs_loss: 0.0219 - val_grow_outputs_loss: 0.1813 - val_diease_outputs_accuracy: 0.9943 - val_grow_outputs_accuracy: 0.9479\n",
      "\n",
      "Epoch 00057: val_loss did not improve from 0.17729\n",
      "Epoch 58/1000\n",
      "671/671 [==============================] - 400s 596ms/step - loss: 0.0997 - diease_outputs_loss: 0.0124 - grow_outputs_loss: 0.0873 - diease_outputs_accuracy: 0.9965 - grow_outputs_accuracy: 0.9710 - val_loss: 0.1614 - val_diease_outputs_loss: 0.0233 - val_grow_outputs_loss: 0.1381 - val_diease_outputs_accuracy: 0.9958 - val_grow_outputs_accuracy: 0.9598\n",
      "\n",
      "Epoch 00058: val_loss improved from 0.17729 to 0.16141, saving model to ./finetune_strawberry_0.2.ckpt\n",
      "Epoch 59/1000\n",
      "671/671 [==============================] - 417s 621ms/step - loss: 0.0845 - diease_outputs_loss: 0.0107 - grow_outputs_loss: 0.0738 - diease_outputs_accuracy: 0.9964 - grow_outputs_accuracy: 0.9748 - val_loss: 0.1672 - val_diease_outputs_loss: 0.0270 - val_grow_outputs_loss: 0.1402 - val_diease_outputs_accuracy: 0.9923 - val_grow_outputs_accuracy: 0.9571\n",
      "\n",
      "Epoch 00059: val_loss did not improve from 0.16141\n",
      "Epoch 60/1000\n",
      "671/671 [==============================] - 402s 598ms/step - loss: 0.0965 - diease_outputs_loss: 0.0138 - grow_outputs_loss: 0.0827 - diease_outputs_accuracy: 0.9951 - grow_outputs_accuracy: 0.9712 - val_loss: 0.2431 - val_diease_outputs_loss: 0.0363 - val_grow_outputs_loss: 0.2068 - val_diease_outputs_accuracy: 0.9911 - val_grow_outputs_accuracy: 0.9384\n",
      "\n",
      "Epoch 00060: val_loss did not improve from 0.16141\n",
      "Epoch 61/1000\n"
     ]
    },
    {
     "name": "stdout",
     "output_type": "stream",
     "text": [
      "671/671 [==============================] - 418s 623ms/step - loss: 0.0797 - diease_outputs_loss: 0.0086 - grow_outputs_loss: 0.0711 - diease_outputs_accuracy: 0.9969 - grow_outputs_accuracy: 0.9744 - val_loss: 0.1548 - val_diease_outputs_loss: 0.0207 - val_grow_outputs_loss: 0.1341 - val_diease_outputs_accuracy: 0.9952 - val_grow_outputs_accuracy: 0.9583\n",
      "\n",
      "Epoch 00061: val_loss improved from 0.16141 to 0.15479, saving model to ./finetune_strawberry_0.2.ckpt\n",
      "Epoch 62/1000\n",
      "671/671 [==============================] - 401s 597ms/step - loss: 0.0803 - diease_outputs_loss: 0.0097 - grow_outputs_loss: 0.0706 - diease_outputs_accuracy: 0.9961 - grow_outputs_accuracy: 0.9784 - val_loss: 0.1467 - val_diease_outputs_loss: 0.0211 - val_grow_outputs_loss: 0.1256 - val_diease_outputs_accuracy: 0.9946 - val_grow_outputs_accuracy: 0.9601\n",
      "\n",
      "Epoch 00062: val_loss improved from 0.15479 to 0.14670, saving model to ./finetune_strawberry_0.2.ckpt\n",
      "Epoch 63/1000\n",
      "671/671 [==============================] - 416s 619ms/step - loss: 0.0681 - diease_outputs_loss: 0.0137 - grow_outputs_loss: 0.0544 - diease_outputs_accuracy: 0.9964 - grow_outputs_accuracy: 0.9806 - val_loss: 0.2193 - val_diease_outputs_loss: 0.0197 - val_grow_outputs_loss: 0.1996 - val_diease_outputs_accuracy: 0.9940 - val_grow_outputs_accuracy: 0.9485\n",
      "\n",
      "Epoch 00063: val_loss did not improve from 0.14670\n",
      "Epoch 64/1000\n",
      "671/671 [==============================] - 417s 621ms/step - loss: 0.0786 - diease_outputs_loss: 0.0140 - grow_outputs_loss: 0.0645 - diease_outputs_accuracy: 0.9959 - grow_outputs_accuracy: 0.9779 - val_loss: 0.1725 - val_diease_outputs_loss: 0.0179 - val_grow_outputs_loss: 0.1547 - val_diease_outputs_accuracy: 0.9949 - val_grow_outputs_accuracy: 0.9557\n",
      "\n",
      "Epoch 00064: val_loss did not improve from 0.14670\n",
      "Epoch 65/1000\n",
      "671/671 [==============================] - 413s 615ms/step - loss: 0.0678 - diease_outputs_loss: 0.0077 - grow_outputs_loss: 0.0601 - diease_outputs_accuracy: 0.9983 - grow_outputs_accuracy: 0.9782 - val_loss: 0.1866 - val_diease_outputs_loss: 0.0155 - val_grow_outputs_loss: 0.1711 - val_diease_outputs_accuracy: 0.9955 - val_grow_outputs_accuracy: 0.9604\n",
      "\n",
      "Epoch 00065: val_loss did not improve from 0.14670\n",
      "Epoch 66/1000\n",
      "671/671 [==============================] - 404s 601ms/step - loss: 0.0602 - diease_outputs_loss: 0.0073 - grow_outputs_loss: 0.0529 - diease_outputs_accuracy: 0.9978 - grow_outputs_accuracy: 0.9810 - val_loss: 0.2104 - val_diease_outputs_loss: 0.0259 - val_grow_outputs_loss: 0.1845 - val_diease_outputs_accuracy: 0.9937 - val_grow_outputs_accuracy: 0.9482\n",
      "\n",
      "Epoch 00066: val_loss did not improve from 0.14670\n",
      "Epoch 67/1000\n",
      "671/671 [==============================] - 417s 620ms/step - loss: 0.0517 - diease_outputs_loss: 0.0059 - grow_outputs_loss: 0.0459 - diease_outputs_accuracy: 0.9977 - grow_outputs_accuracy: 0.9835 - val_loss: 0.1570 - val_diease_outputs_loss: 0.0201 - val_grow_outputs_loss: 0.1369 - val_diease_outputs_accuracy: 0.9932 - val_grow_outputs_accuracy: 0.9622\n",
      "\n",
      "Epoch 00067: val_loss did not improve from 0.14670\n",
      "Epoch 68/1000\n",
      "671/671 [==============================] - 403s 601ms/step - loss: 0.0534 - diease_outputs_loss: 0.0058 - grow_outputs_loss: 0.0476 - diease_outputs_accuracy: 0.9985 - grow_outputs_accuracy: 0.9842 - val_loss: 0.1580 - val_diease_outputs_loss: 0.0150 - val_grow_outputs_loss: 0.1430 - val_diease_outputs_accuracy: 0.9952 - val_grow_outputs_accuracy: 0.9524\n",
      "\n",
      "Epoch 00068: val_loss did not improve from 0.14670\n",
      "Epoch 69/1000\n",
      "671/671 [==============================] - 406s 605ms/step - loss: 0.0595 - diease_outputs_loss: 0.0126 - grow_outputs_loss: 0.0469 - diease_outputs_accuracy: 0.9955 - grow_outputs_accuracy: 0.9844 - val_loss: 0.1708 - val_diease_outputs_loss: 0.0200 - val_grow_outputs_loss: 0.1507 - val_diease_outputs_accuracy: 0.9943 - val_grow_outputs_accuracy: 0.9542\n",
      "\n",
      "Epoch 00069: val_loss did not improve from 0.14670\n",
      "Epoch 70/1000\n",
      "671/671 [==============================] - 391s 583ms/step - loss: 0.0481 - diease_outputs_loss: 0.0082 - grow_outputs_loss: 0.0398 - diease_outputs_accuracy: 0.9979 - grow_outputs_accuracy: 0.9865 - val_loss: 0.1642 - val_diease_outputs_loss: 0.0176 - val_grow_outputs_loss: 0.1466 - val_diease_outputs_accuracy: 0.9946 - val_grow_outputs_accuracy: 0.9622\n",
      "\n",
      "Epoch 00070: val_loss did not improve from 0.14670\n",
      "Epoch 71/1000\n",
      "671/671 [==============================] - 407s 606ms/step - loss: 0.0488 - diease_outputs_loss: 0.0032 - grow_outputs_loss: 0.0456 - diease_outputs_accuracy: 0.9991 - grow_outputs_accuracy: 0.9834 - val_loss: 0.1608 - val_diease_outputs_loss: 0.0238 - val_grow_outputs_loss: 0.1370 - val_diease_outputs_accuracy: 0.9926 - val_grow_outputs_accuracy: 0.9607\n",
      "\n",
      "Epoch 00071: val_loss did not improve from 0.14670\n",
      "Epoch 72/1000\n",
      "671/671 [==============================] - 393s 586ms/step - loss: 0.0650 - diease_outputs_loss: 0.0153 - grow_outputs_loss: 0.0498 - diease_outputs_accuracy: 0.9947 - grow_outputs_accuracy: 0.9833 - val_loss: 0.1573 - val_diease_outputs_loss: 0.0200 - val_grow_outputs_loss: 0.1373 - val_diease_outputs_accuracy: 0.9958 - val_grow_outputs_accuracy: 0.9655\n",
      "\n",
      "Epoch 00072: val_loss did not improve from 0.14670\n",
      "Epoch 73/1000\n",
      "671/671 [==============================] - 433s 645ms/step - loss: 0.0524 - diease_outputs_loss: 0.0086 - grow_outputs_loss: 0.0438 - diease_outputs_accuracy: 0.9971 - grow_outputs_accuracy: 0.9858 - val_loss: 0.2065 - val_diease_outputs_loss: 0.0321 - val_grow_outputs_loss: 0.1743 - val_diease_outputs_accuracy: 0.9917 - val_grow_outputs_accuracy: 0.9568\n",
      "\n",
      "Epoch 00073: val_loss did not improve from 0.14670\n",
      "Epoch 74/1000\n",
      "671/671 [==============================] - 417s 621ms/step - loss: 0.0490 - diease_outputs_loss: 0.0073 - grow_outputs_loss: 0.0417 - diease_outputs_accuracy: 0.9981 - grow_outputs_accuracy: 0.9848 - val_loss: 0.1767 - val_diease_outputs_loss: 0.0291 - val_grow_outputs_loss: 0.1476 - val_diease_outputs_accuracy: 0.9940 - val_grow_outputs_accuracy: 0.9649\n",
      "\n",
      "Epoch 00074: val_loss did not improve from 0.14670\n",
      "Epoch 75/1000\n",
      "278/671 [===========>..................] - ETA: 3:42 - loss: 0.0446 - diease_outputs_loss: 0.0031 - grow_outputs_loss: 0.0415 - diease_outputs_accuracy: 0.9990 - grow_outputs_accuracy: 0.9842"
     ]
    }
   ],
   "source": [
    "wandb.agent('qvycddps', finetune)"
   ]
  },
  {
   "cell_type": "code",
   "execution_count": null,
   "id": "9d4ebe46",
   "metadata": {},
   "outputs": [],
   "source": []
  }
 ],
 "metadata": {
  "kernelspec": {
   "display_name": "Python [conda env:smartpot]",
   "language": "python",
   "name": "conda-env-smartpot-py"
  },
  "language_info": {
   "codemirror_mode": {
    "name": "ipython",
    "version": 3
   },
   "file_extension": ".py",
   "mimetype": "text/x-python",
   "name": "python",
   "nbconvert_exporter": "python",
   "pygments_lexer": "ipython3",
   "version": "3.9.12"
  }
 },
 "nbformat": 4,
 "nbformat_minor": 5
}
