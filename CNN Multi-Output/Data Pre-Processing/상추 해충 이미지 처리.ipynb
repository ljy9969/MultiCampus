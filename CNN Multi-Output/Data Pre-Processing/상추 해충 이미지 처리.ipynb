{
 "cells": [
  {
   "cell_type": "markdown",
   "id": "f5ff0d5b",
   "metadata": {},
   "source": [
    "상추 아닌데 벌레먹은 잎의 사진은 포함했고  \n",
    "상추가 아닌 것 최대한 제외했는데(놓친 부분 많고)  \n",
    "아주 건강해보이는데 확인이 어려운 것들은 그냥 두었음"
   ]
  },
  {
   "cell_type": "code",
   "execution_count": null,
   "id": "2faa9db5",
   "metadata": {},
   "outputs": [],
   "source": [
    "import matplotlib.pyplot as plt\n",
    "import os\n",
    "\n",
    "root_dir = '/home/lab38/images/상추_해충'\n",
    "file_name = os.listdir(root_dir)\n",
    "file_dir = [os.path.join(root_dir, x) for x in file_name]\n",
    "remove_list = []\n",
    "\n",
    "for f in file_dir :\n",
    "    plt.figure(figsize=(10,10))\n",
    "    img = plt.imread(f)\n",
    "    plt.imshow(img)\n",
    "    plt.axis('off')\n",
    "    plt.show()\n",
    "    \n",
    "    print('관련없는 사진이면 n')\n",
    "    while True :\n",
    "        c = input('y or n : ')\n",
    "        if c == 'y':\n",
    "            break\n",
    "        elif c=='n':\n",
    "            remove_list.append(f)\n",
    "            break\n",
    "        else :\n",
    "            print('TYPO!!')\n",
    "    print('next')\n",
    "    \n",
    "for f in remove_list :\n",
    "    if os.path.exists(f):\n",
    "        os.remove(f)\n",
    "print('all removed!!')\n",
    "print(len(os.listdir(root_dir) ,'files left')"
   ]
  },
  {
   "cell_type": "code",
   "execution_count": null,
   "id": "f8f5ac69",
   "metadata": {},
   "outputs": [],
   "source": []
  },
  {
   "cell_type": "code",
   "execution_count": 2,
   "id": "18d3841f",
   "metadata": {},
   "outputs": [
    {
     "name": "stdout",
     "output_type": "stream",
     "text": [
      "226\n"
     ]
    }
   ],
   "source": [
    "import matplotlib.pyplot as plt\n",
    "import os\n",
    "\n",
    "root_dir = '/home/lab38/images/상추_해충'\n",
    "file_name = os.listdir(root_dir)\n",
    "file_dir = [os.path.join(root_dir, x) for x in file_name]\n",
    "print(len(file_dir))"
   ]
  },
  {
   "cell_type": "code",
   "execution_count": 4,
   "id": "1f4c41f0",
   "metadata": {},
   "outputs": [
    {
     "data": {
      "text/plain": [
       "'/home/lab38/images/상추_해충/112.jpg'"
      ]
     },
     "execution_count": 4,
     "metadata": {},
     "output_type": "execute_result"
    }
   ],
   "source": [
    "file_dir[0]"
   ]
  },
  {
   "cell_type": "code",
   "execution_count": null,
   "id": "7fbd757a",
   "metadata": {},
   "outputs": [],
   "source": []
  },
  {
   "cell_type": "markdown",
   "id": "ace39f26",
   "metadata": {},
   "source": [
    "## 1. 이미지 리스트 만들기"
   ]
  },
  {
   "cell_type": "code",
   "execution_count": null,
   "id": "a1fe1e06",
   "metadata": {},
   "outputs": [],
   "source": [
    "img_list = []\n",
    "grow = []\n",
    "\n",
    "for i,f in enumerate(file_dir) :\n",
    "    plt.figure(figsize=(10,10))\n",
    "    img = plt.imread(f)\n",
    "    plt.imshow(img)\n",
    "    plt.axis('off')\n",
    "    plt.show()\n",
    "    \n",
    "    print('pretrainnet에 사용할 이미지이면 y')\n",
    "    while True :\n",
    "        c = input('y or n : ')\n",
    "        if c == 'y':\n",
    "            img_list.append(f.split('/')[-1])\n",
    "            grow.append(int(input('애기-0, 다 자라면-1 :')))\n",
    "            break\n",
    "        elif c=='n':\n",
    "            break\n",
    "        else :\n",
    "            print('TYPO!!')\n",
    "            \n",
    "    \n",
    "    print(i, 'next')"
   ]
  },
  {
   "cell_type": "code",
   "execution_count": 7,
   "id": "c2a212e1",
   "metadata": {
    "collapsed": true
   },
   "outputs": [
    {
     "name": "stdout",
     "output_type": "stream",
     "text": [
      "54\n"
     ]
    },
    {
     "data": {
      "text/html": [
       "<div>\n",
       "<style scoped>\n",
       "    .dataframe tbody tr th:only-of-type {\n",
       "        vertical-align: middle;\n",
       "    }\n",
       "\n",
       "    .dataframe tbody tr th {\n",
       "        vertical-align: top;\n",
       "    }\n",
       "\n",
       "    .dataframe thead th {\n",
       "        text-align: right;\n",
       "    }\n",
       "</style>\n",
       "<table border=\"1\" class=\"dataframe\">\n",
       "  <thead>\n",
       "    <tr style=\"text-align: right;\">\n",
       "      <th></th>\n",
       "      <th>image</th>\n",
       "      <th>grow</th>\n",
       "    </tr>\n",
       "  </thead>\n",
       "  <tbody>\n",
       "    <tr>\n",
       "      <th>0</th>\n",
       "      <td>358.jpg</td>\n",
       "      <td>1</td>\n",
       "    </tr>\n",
       "    <tr>\n",
       "      <th>1</th>\n",
       "      <td>235.jpg</td>\n",
       "      <td>1</td>\n",
       "    </tr>\n",
       "    <tr>\n",
       "      <th>2</th>\n",
       "      <td>39.jpg</td>\n",
       "      <td>0</td>\n",
       "    </tr>\n",
       "    <tr>\n",
       "      <th>3</th>\n",
       "      <td>345.jpg</td>\n",
       "      <td>1</td>\n",
       "    </tr>\n",
       "    <tr>\n",
       "      <th>4</th>\n",
       "      <td>97.jpg</td>\n",
       "      <td>1</td>\n",
       "    </tr>\n",
       "  </tbody>\n",
       "</table>\n",
       "</div>"
      ],
      "text/plain": [
       "     image  grow\n",
       "0  358.jpg     1\n",
       "1  235.jpg     1\n",
       "2   39.jpg     0\n",
       "3  345.jpg     1\n",
       "4   97.jpg     1"
      ]
     },
     "execution_count": 7,
     "metadata": {},
     "output_type": "execute_result"
    }
   ],
   "source": [
    "import pandas as pd\n",
    "result = pd.DataFrame({'image' : img_list,\n",
    "                      'grow' : grow})\n",
    "print(result.__len__())\n",
    "result.head()"
   ]
  },
  {
   "cell_type": "code",
   "execution_count": null,
   "id": "9f42ee60",
   "metadata": {},
   "outputs": [],
   "source": []
  },
  {
   "cell_type": "code",
   "execution_count": 19,
   "id": "d90c1680",
   "metadata": {},
   "outputs": [],
   "source": [
    "import albumentations as A\n",
    "\n",
    "transform = A.Compose([\n",
    "    A.RandomCrop(width=256, height=256),\n",
    "    A.HorizontalFlip(p=0.5),\n",
    "    A.RandomBrightnessContrast(p=0.5),\n",
    "    A.VerticalFlip(p=0.5),\n",
    "    A.RandomRotate90(p=0.5),\n",
    "    A.OneOf([\n",
    "        A.ElasticTransform(p=0.5, alpha=120, sigma=120 * 0.05, alpha_affine=120 * 0.03),\n",
    "        A.GridDistortion(p=0.5),\n",
    "        A.OpticalDistortion(distort_limit=1, shift_limit=0.5, p=1),\n",
    "    ], p=0.8)\n",
    "])"
   ]
  },
  {
   "cell_type": "code",
   "execution_count": 33,
   "id": "78ecf2e6",
   "metadata": {},
   "outputs": [
    {
     "name": "stderr",
     "output_type": "stream",
     "text": [
      "/home/ubuntu/anaconda3/envs/smartpot/lib/python3.9/site-packages/tqdm/auto.py:22: TqdmWarning: IProgress not found. Please update jupyter and ipywidgets. See https://ipywidgets.readthedocs.io/en/stable/user_install.html\n",
      "  from .autonotebook import tqdm as notebook_tqdm\n"
     ]
    }
   ],
   "source": [
    "import cv2\n",
    "from tqdm.auto import tqdm"
   ]
  },
  {
   "cell_type": "code",
   "execution_count": 44,
   "id": "85b0ae8a",
   "metadata": {},
   "outputs": [
    {
     "name": "stderr",
     "output_type": "stream",
     "text": [
      "100%|███████████████████████████████████████████| 54/54 [00:01<00:00, 36.14it/s]\n"
     ]
    }
   ],
   "source": [
    "root_dir = '/home/lab38/images/상추_해충'\n",
    "folder_dir = '/home/lab38/상추'\n",
    "\n",
    "aug_img_list = []\n",
    "aug_grow = []\n",
    "\n",
    "for idx, img_name in enumerate(tqdm(result['image'])):\n",
    "    from_dir = os.path.join(root_dir, img_name)\n",
    "    \n",
    "    img = plt.imread(from_dir)\n",
    "    img = cv2.resize(img, dsize=(320,320))\n",
    "    plt.imsave(os.path.join(folder_dir, img_name), img)\n",
    "    grow_label = result.loc[idx, 'grow']\n",
    "    \n",
    "    # augmentation\n",
    "    for i in range(3) :\n",
    "        aug_img = transform(image=img)\n",
    "        aug_img = aug_img['image']\n",
    "        aug_img_name = img_name.split('.')[0]+'_a'+str(i)+'.'+img_name.split('.')[-1]\n",
    "        \n",
    "        # labeling\n",
    "        aug_img_list.append(aug_img_name)\n",
    "        aug_grow.append(grow_label)\n",
    "        \n",
    "        #img save\n",
    "        plt.imsave(os.path.join(folder_dir, aug_img_name), aug_img)"
   ]
  },
  {
   "cell_type": "code",
   "execution_count": 50,
   "id": "929e462f",
   "metadata": {},
   "outputs": [
    {
     "data": {
      "text/plain": [
       "216"
      ]
     },
     "execution_count": 50,
     "metadata": {},
     "output_type": "execute_result"
    }
   ],
   "source": [
    "total_img = result['image'].to_list() + aug_img_list\n",
    "len(total_img)"
   ]
  },
  {
   "cell_type": "code",
   "execution_count": 53,
   "id": "65cd3067",
   "metadata": {},
   "outputs": [
    {
     "data": {
      "text/plain": [
       "216"
      ]
     },
     "execution_count": 53,
     "metadata": {},
     "output_type": "execute_result"
    }
   ],
   "source": [
    "total_grow = result['grow'].to_list() + aug_grow\n",
    "len(total_grow)"
   ]
  },
  {
   "cell_type": "code",
   "execution_count": 55,
   "id": "e916bd46",
   "metadata": {},
   "outputs": [
    {
     "name": "stdout",
     "output_type": "stream",
     "text": [
      "216\n"
     ]
    },
    {
     "data": {
      "text/html": [
       "<div>\n",
       "<style scoped>\n",
       "    .dataframe tbody tr th:only-of-type {\n",
       "        vertical-align: middle;\n",
       "    }\n",
       "\n",
       "    .dataframe tbody tr th {\n",
       "        vertical-align: top;\n",
       "    }\n",
       "\n",
       "    .dataframe thead th {\n",
       "        text-align: right;\n",
       "    }\n",
       "</style>\n",
       "<table border=\"1\" class=\"dataframe\">\n",
       "  <thead>\n",
       "    <tr style=\"text-align: right;\">\n",
       "      <th></th>\n",
       "      <th>image</th>\n",
       "      <th>grow</th>\n",
       "    </tr>\n",
       "  </thead>\n",
       "  <tbody>\n",
       "    <tr>\n",
       "      <th>0</th>\n",
       "      <td>358.jpg</td>\n",
       "      <td>1</td>\n",
       "    </tr>\n",
       "    <tr>\n",
       "      <th>1</th>\n",
       "      <td>235.jpg</td>\n",
       "      <td>1</td>\n",
       "    </tr>\n",
       "    <tr>\n",
       "      <th>2</th>\n",
       "      <td>39.jpg</td>\n",
       "      <td>0</td>\n",
       "    </tr>\n",
       "    <tr>\n",
       "      <th>3</th>\n",
       "      <td>345.jpg</td>\n",
       "      <td>1</td>\n",
       "    </tr>\n",
       "    <tr>\n",
       "      <th>4</th>\n",
       "      <td>97.jpg</td>\n",
       "      <td>1</td>\n",
       "    </tr>\n",
       "  </tbody>\n",
       "</table>\n",
       "</div>"
      ],
      "text/plain": [
       "     image  grow\n",
       "0  358.jpg     1\n",
       "1  235.jpg     1\n",
       "2   39.jpg     0\n",
       "3  345.jpg     1\n",
       "4   97.jpg     1"
      ]
     },
     "execution_count": 55,
     "metadata": {},
     "output_type": "execute_result"
    }
   ],
   "source": [
    "aug_result = pd.DataFrame({'image' : total_img,\n",
    "                      'grow' : total_grow})\n",
    "print(aug_result.__len__())\n",
    "aug_result.head()"
   ]
  },
  {
   "cell_type": "code",
   "execution_count": 61,
   "id": "49b6adf6",
   "metadata": {
    "scrolled": true
   },
   "outputs": [
    {
     "data": {
      "text/html": [
       "<div>\n",
       "<style scoped>\n",
       "    .dataframe tbody tr th:only-of-type {\n",
       "        vertical-align: middle;\n",
       "    }\n",
       "\n",
       "    .dataframe tbody tr th {\n",
       "        vertical-align: top;\n",
       "    }\n",
       "\n",
       "    .dataframe thead th {\n",
       "        text-align: right;\n",
       "    }\n",
       "</style>\n",
       "<table border=\"1\" class=\"dataframe\">\n",
       "  <thead>\n",
       "    <tr style=\"text-align: right;\">\n",
       "      <th></th>\n",
       "      <th>image</th>\n",
       "      <th>grow</th>\n",
       "      <th>disease</th>\n",
       "    </tr>\n",
       "  </thead>\n",
       "  <tbody>\n",
       "    <tr>\n",
       "      <th>0</th>\n",
       "      <td>/home/lab38/상추/358.jpg</td>\n",
       "      <td>1</td>\n",
       "      <td>12</td>\n",
       "    </tr>\n",
       "    <tr>\n",
       "      <th>1</th>\n",
       "      <td>/home/lab38/상추/235.jpg</td>\n",
       "      <td>1</td>\n",
       "      <td>12</td>\n",
       "    </tr>\n",
       "    <tr>\n",
       "      <th>2</th>\n",
       "      <td>/home/lab38/상추/39.jpg</td>\n",
       "      <td>0</td>\n",
       "      <td>12</td>\n",
       "    </tr>\n",
       "    <tr>\n",
       "      <th>3</th>\n",
       "      <td>/home/lab38/상추/345.jpg</td>\n",
       "      <td>1</td>\n",
       "      <td>12</td>\n",
       "    </tr>\n",
       "    <tr>\n",
       "      <th>4</th>\n",
       "      <td>/home/lab38/상추/97.jpg</td>\n",
       "      <td>1</td>\n",
       "      <td>12</td>\n",
       "    </tr>\n",
       "  </tbody>\n",
       "</table>\n",
       "</div>"
      ],
      "text/plain": [
       "                    image  grow  disease\n",
       "0  /home/lab38/상추/358.jpg     1       12\n",
       "1  /home/lab38/상추/235.jpg     1       12\n",
       "2   /home/lab38/상추/39.jpg     0       12\n",
       "3  /home/lab38/상추/345.jpg     1       12\n",
       "4   /home/lab38/상추/97.jpg     1       12"
      ]
     },
     "execution_count": 61,
     "metadata": {},
     "output_type": "execute_result"
    }
   ],
   "source": [
    "aug_result['image'] = aug_result['image'].map(lambda x: os.path.join(folder_dir, x))\n",
    "aug_result['disease'] = 12\n",
    "aug_result.head()"
   ]
  },
  {
   "cell_type": "code",
   "execution_count": 62,
   "id": "2cbfa2eb",
   "metadata": {},
   "outputs": [
    {
     "data": {
      "text/html": [
       "<div>\n",
       "<style scoped>\n",
       "    .dataframe tbody tr th:only-of-type {\n",
       "        vertical-align: middle;\n",
       "    }\n",
       "\n",
       "    .dataframe tbody tr th {\n",
       "        vertical-align: top;\n",
       "    }\n",
       "\n",
       "    .dataframe thead th {\n",
       "        text-align: right;\n",
       "    }\n",
       "</style>\n",
       "<table border=\"1\" class=\"dataframe\">\n",
       "  <thead>\n",
       "    <tr style=\"text-align: right;\">\n",
       "      <th></th>\n",
       "      <th>image</th>\n",
       "      <th>grow</th>\n",
       "      <th>disease</th>\n",
       "      <th>disease-grow</th>\n",
       "    </tr>\n",
       "  </thead>\n",
       "  <tbody>\n",
       "    <tr>\n",
       "      <th>0</th>\n",
       "      <td>/home/lab38/상추/358.jpg</td>\n",
       "      <td>1</td>\n",
       "      <td>12</td>\n",
       "      <td>12-1</td>\n",
       "    </tr>\n",
       "    <tr>\n",
       "      <th>1</th>\n",
       "      <td>/home/lab38/상추/235.jpg</td>\n",
       "      <td>1</td>\n",
       "      <td>12</td>\n",
       "      <td>12-1</td>\n",
       "    </tr>\n",
       "    <tr>\n",
       "      <th>2</th>\n",
       "      <td>/home/lab38/상추/39.jpg</td>\n",
       "      <td>0</td>\n",
       "      <td>12</td>\n",
       "      <td>12-0</td>\n",
       "    </tr>\n",
       "    <tr>\n",
       "      <th>3</th>\n",
       "      <td>/home/lab38/상추/345.jpg</td>\n",
       "      <td>1</td>\n",
       "      <td>12</td>\n",
       "      <td>12-1</td>\n",
       "    </tr>\n",
       "    <tr>\n",
       "      <th>4</th>\n",
       "      <td>/home/lab38/상추/97.jpg</td>\n",
       "      <td>1</td>\n",
       "      <td>12</td>\n",
       "      <td>12-1</td>\n",
       "    </tr>\n",
       "  </tbody>\n",
       "</table>\n",
       "</div>"
      ],
      "text/plain": [
       "                    image  grow  disease disease-grow\n",
       "0  /home/lab38/상추/358.jpg     1       12         12-1\n",
       "1  /home/lab38/상추/235.jpg     1       12         12-1\n",
       "2   /home/lab38/상추/39.jpg     0       12         12-0\n",
       "3  /home/lab38/상추/345.jpg     1       12         12-1\n",
       "4   /home/lab38/상추/97.jpg     1       12         12-1"
      ]
     },
     "execution_count": 62,
     "metadata": {},
     "output_type": "execute_result"
    }
   ],
   "source": [
    "aug_result['disease-grow'] = list(map(lambda x,y : str(x)+'-'+str(y), aug_result['disease'], aug_result['grow']))\n",
    "aug_result.head()"
   ]
  },
  {
   "cell_type": "code",
   "execution_count": 68,
   "id": "b448b14d",
   "metadata": {},
   "outputs": [],
   "source": [
    "lettu = pd.read_csv('/home/lab38/Multi_proj_6/data/lettuce_smallsizeimg.csv')"
   ]
  },
  {
   "cell_type": "code",
   "execution_count": 69,
   "id": "9c0dcc91",
   "metadata": {
    "scrolled": false
   },
   "outputs": [
    {
     "data": {
      "text/html": [
       "<div>\n",
       "<style scoped>\n",
       "    .dataframe tbody tr th:only-of-type {\n",
       "        vertical-align: middle;\n",
       "    }\n",
       "\n",
       "    .dataframe tbody tr th {\n",
       "        vertical-align: top;\n",
       "    }\n",
       "\n",
       "    .dataframe thead th {\n",
       "        text-align: right;\n",
       "    }\n",
       "</style>\n",
       "<table border=\"1\" class=\"dataframe\">\n",
       "  <thead>\n",
       "    <tr style=\"text-align: right;\">\n",
       "      <th></th>\n",
       "      <th>image</th>\n",
       "      <th>disease</th>\n",
       "      <th>area</th>\n",
       "      <th>grow</th>\n",
       "      <th>points</th>\n",
       "      <th>original</th>\n",
       "      <th>disease-grow</th>\n",
       "    </tr>\n",
       "  </thead>\n",
       "  <tbody>\n",
       "    <tr>\n",
       "      <th>0</th>\n",
       "      <td>/home/lab38/상추/V006_77_0_00_05_03_11_0_b04_202...</td>\n",
       "      <td>0</td>\n",
       "      <td>3</td>\n",
       "      <td>11</td>\n",
       "      <td>[{'xtl': 2034, 'ytl': 1153, 'xbr': 2436, 'ybr'...</td>\n",
       "      <td>NaN</td>\n",
       "      <td>0-11</td>\n",
       "    </tr>\n",
       "    <tr>\n",
       "      <th>1</th>\n",
       "      <td>/home/lab38/상추/V006_77_0_00_05_03_11_0_b04_202...</td>\n",
       "      <td>0</td>\n",
       "      <td>3</td>\n",
       "      <td>11</td>\n",
       "      <td>[{'xtl': 1513, 'ytl': 676, 'xbr': 2325, 'ybr':...</td>\n",
       "      <td>NaN</td>\n",
       "      <td>0-11</td>\n",
       "    </tr>\n",
       "    <tr>\n",
       "      <th>2</th>\n",
       "      <td>/home/lab38/상추/V006_77_0_00_05_03_11_0_b04_202...</td>\n",
       "      <td>0</td>\n",
       "      <td>3</td>\n",
       "      <td>11</td>\n",
       "      <td>[{'xtl': 1272, 'ytl': 1220, 'xbr': 2229, 'ybr'...</td>\n",
       "      <td>NaN</td>\n",
       "      <td>0-11</td>\n",
       "    </tr>\n",
       "    <tr>\n",
       "      <th>3</th>\n",
       "      <td>/home/lab38/상추/V006_77_0_00_05_03_11_0_b04_202...</td>\n",
       "      <td>0</td>\n",
       "      <td>3</td>\n",
       "      <td>11</td>\n",
       "      <td>[{'xtl': 1723, 'ytl': 1388, 'xbr': 2514, 'ybr'...</td>\n",
       "      <td>NaN</td>\n",
       "      <td>0-11</td>\n",
       "    </tr>\n",
       "    <tr>\n",
       "      <th>4</th>\n",
       "      <td>/home/lab38/상추/V006_77_0_00_05_03_11_0_b04_202...</td>\n",
       "      <td>0</td>\n",
       "      <td>3</td>\n",
       "      <td>11</td>\n",
       "      <td>[{'xtl': 1200, 'ytl': 681, 'xbr': 1816, 'ybr':...</td>\n",
       "      <td>NaN</td>\n",
       "      <td>0-11</td>\n",
       "    </tr>\n",
       "  </tbody>\n",
       "</table>\n",
       "</div>"
      ],
      "text/plain": [
       "                                               image  disease  area  grow  \\\n",
       "0  /home/lab38/상추/V006_77_0_00_05_03_11_0_b04_202...        0     3    11   \n",
       "1  /home/lab38/상추/V006_77_0_00_05_03_11_0_b04_202...        0     3    11   \n",
       "2  /home/lab38/상추/V006_77_0_00_05_03_11_0_b04_202...        0     3    11   \n",
       "3  /home/lab38/상추/V006_77_0_00_05_03_11_0_b04_202...        0     3    11   \n",
       "4  /home/lab38/상추/V006_77_0_00_05_03_11_0_b04_202...        0     3    11   \n",
       "\n",
       "                                              points original disease-grow  \n",
       "0  [{'xtl': 2034, 'ytl': 1153, 'xbr': 2436, 'ybr'...      NaN         0-11  \n",
       "1  [{'xtl': 1513, 'ytl': 676, 'xbr': 2325, 'ybr':...      NaN         0-11  \n",
       "2  [{'xtl': 1272, 'ytl': 1220, 'xbr': 2229, 'ybr'...      NaN         0-11  \n",
       "3  [{'xtl': 1723, 'ytl': 1388, 'xbr': 2514, 'ybr'...      NaN         0-11  \n",
       "4  [{'xtl': 1200, 'ytl': 681, 'xbr': 1816, 'ybr':...      NaN         0-11  "
      ]
     },
     "execution_count": 69,
     "metadata": {},
     "output_type": "execute_result"
    }
   ],
   "source": [
    "lettu.head()"
   ]
  },
  {
   "cell_type": "code",
   "execution_count": 70,
   "id": "6256a881",
   "metadata": {},
   "outputs": [
    {
     "data": {
      "text/plain": [
       "array([11, 12])"
      ]
     },
     "execution_count": 70,
     "metadata": {},
     "output_type": "execute_result"
    }
   ],
   "source": [
    "lettu['grow'].unique()"
   ]
  },
  {
   "cell_type": "code",
   "execution_count": 72,
   "id": "d8bd3df3",
   "metadata": {},
   "outputs": [
    {
     "name": "stdout",
     "output_type": "stream",
     "text": [
      "[0 1]\n"
     ]
    }
   ],
   "source": [
    "from sklearn.preprocessing import LabelEncoder\n",
    "disease_encoder = LabelEncoder()\n",
    "disease_encoder.fit(lettu['grow'])\n",
    "lettu['grow'] = disease_encoder.transform(lettu['grow'])\n",
    "print(lettu['grow'].unique())"
   ]
  },
  {
   "cell_type": "code",
   "execution_count": 73,
   "id": "199378b5",
   "metadata": {
    "scrolled": true
   },
   "outputs": [
    {
     "data": {
      "text/html": [
       "<div>\n",
       "<style scoped>\n",
       "    .dataframe tbody tr th:only-of-type {\n",
       "        vertical-align: middle;\n",
       "    }\n",
       "\n",
       "    .dataframe tbody tr th {\n",
       "        vertical-align: top;\n",
       "    }\n",
       "\n",
       "    .dataframe thead th {\n",
       "        text-align: right;\n",
       "    }\n",
       "</style>\n",
       "<table border=\"1\" class=\"dataframe\">\n",
       "  <thead>\n",
       "    <tr style=\"text-align: right;\">\n",
       "      <th></th>\n",
       "      <th>image</th>\n",
       "      <th>grow</th>\n",
       "      <th>disease</th>\n",
       "      <th>disease-grow</th>\n",
       "      <th>area</th>\n",
       "      <th>points</th>\n",
       "      <th>original</th>\n",
       "    </tr>\n",
       "  </thead>\n",
       "  <tbody>\n",
       "    <tr>\n",
       "      <th>0</th>\n",
       "      <td>/home/lab38/상추/358.jpg</td>\n",
       "      <td>1</td>\n",
       "      <td>12</td>\n",
       "      <td>12-1</td>\n",
       "      <td>NaN</td>\n",
       "      <td>NaN</td>\n",
       "      <td>NaN</td>\n",
       "    </tr>\n",
       "    <tr>\n",
       "      <th>1</th>\n",
       "      <td>/home/lab38/상추/235.jpg</td>\n",
       "      <td>1</td>\n",
       "      <td>12</td>\n",
       "      <td>12-1</td>\n",
       "      <td>NaN</td>\n",
       "      <td>NaN</td>\n",
       "      <td>NaN</td>\n",
       "    </tr>\n",
       "    <tr>\n",
       "      <th>2</th>\n",
       "      <td>/home/lab38/상추/39.jpg</td>\n",
       "      <td>0</td>\n",
       "      <td>12</td>\n",
       "      <td>12-0</td>\n",
       "      <td>NaN</td>\n",
       "      <td>NaN</td>\n",
       "      <td>NaN</td>\n",
       "    </tr>\n",
       "    <tr>\n",
       "      <th>3</th>\n",
       "      <td>/home/lab38/상추/345.jpg</td>\n",
       "      <td>1</td>\n",
       "      <td>12</td>\n",
       "      <td>12-1</td>\n",
       "      <td>NaN</td>\n",
       "      <td>NaN</td>\n",
       "      <td>NaN</td>\n",
       "    </tr>\n",
       "    <tr>\n",
       "      <th>4</th>\n",
       "      <td>/home/lab38/상추/97.jpg</td>\n",
       "      <td>1</td>\n",
       "      <td>12</td>\n",
       "      <td>12-1</td>\n",
       "      <td>NaN</td>\n",
       "      <td>NaN</td>\n",
       "      <td>NaN</td>\n",
       "    </tr>\n",
       "  </tbody>\n",
       "</table>\n",
       "</div>"
      ],
      "text/plain": [
       "                    image  grow  disease disease-grow  area points original\n",
       "0  /home/lab38/상추/358.jpg     1       12         12-1   NaN    NaN      NaN\n",
       "1  /home/lab38/상추/235.jpg     1       12         12-1   NaN    NaN      NaN\n",
       "2   /home/lab38/상추/39.jpg     0       12         12-0   NaN    NaN      NaN\n",
       "3  /home/lab38/상추/345.jpg     1       12         12-1   NaN    NaN      NaN\n",
       "4   /home/lab38/상추/97.jpg     1       12         12-1   NaN    NaN      NaN"
      ]
     },
     "execution_count": 73,
     "metadata": {},
     "output_type": "execute_result"
    }
   ],
   "source": [
    "new_lettu = pd.concat([aug_result, lettu])\n",
    "new_lettu.head()"
   ]
  },
  {
   "cell_type": "code",
   "execution_count": 74,
   "id": "3ab10572",
   "metadata": {},
   "outputs": [
    {
     "data": {
      "text/html": [
       "<div>\n",
       "<style scoped>\n",
       "    .dataframe tbody tr th:only-of-type {\n",
       "        vertical-align: middle;\n",
       "    }\n",
       "\n",
       "    .dataframe tbody tr th {\n",
       "        vertical-align: top;\n",
       "    }\n",
       "\n",
       "    .dataframe thead th {\n",
       "        text-align: right;\n",
       "    }\n",
       "</style>\n",
       "<table border=\"1\" class=\"dataframe\">\n",
       "  <thead>\n",
       "    <tr style=\"text-align: right;\">\n",
       "      <th></th>\n",
       "      <th>image</th>\n",
       "      <th>grow</th>\n",
       "      <th>disease</th>\n",
       "      <th>disease-grow</th>\n",
       "      <th>area</th>\n",
       "      <th>points</th>\n",
       "      <th>original</th>\n",
       "    </tr>\n",
       "  </thead>\n",
       "  <tbody>\n",
       "    <tr>\n",
       "      <th>0</th>\n",
       "      <td>/home/lab38/상추/358.jpg</td>\n",
       "      <td>1</td>\n",
       "      <td>12</td>\n",
       "      <td>12-1</td>\n",
       "      <td>NaN</td>\n",
       "      <td>NaN</td>\n",
       "      <td>NaN</td>\n",
       "    </tr>\n",
       "    <tr>\n",
       "      <th>1</th>\n",
       "      <td>/home/lab38/상추/235.jpg</td>\n",
       "      <td>1</td>\n",
       "      <td>12</td>\n",
       "      <td>12-1</td>\n",
       "      <td>NaN</td>\n",
       "      <td>NaN</td>\n",
       "      <td>NaN</td>\n",
       "    </tr>\n",
       "    <tr>\n",
       "      <th>2</th>\n",
       "      <td>/home/lab38/상추/39.jpg</td>\n",
       "      <td>0</td>\n",
       "      <td>12</td>\n",
       "      <td>12-0</td>\n",
       "      <td>NaN</td>\n",
       "      <td>NaN</td>\n",
       "      <td>NaN</td>\n",
       "    </tr>\n",
       "    <tr>\n",
       "      <th>3</th>\n",
       "      <td>/home/lab38/상추/345.jpg</td>\n",
       "      <td>1</td>\n",
       "      <td>12</td>\n",
       "      <td>12-1</td>\n",
       "      <td>NaN</td>\n",
       "      <td>NaN</td>\n",
       "      <td>NaN</td>\n",
       "    </tr>\n",
       "    <tr>\n",
       "      <th>4</th>\n",
       "      <td>/home/lab38/상추/97.jpg</td>\n",
       "      <td>1</td>\n",
       "      <td>12</td>\n",
       "      <td>12-1</td>\n",
       "      <td>NaN</td>\n",
       "      <td>NaN</td>\n",
       "      <td>NaN</td>\n",
       "    </tr>\n",
       "    <tr>\n",
       "      <th>...</th>\n",
       "      <td>...</td>\n",
       "      <td>...</td>\n",
       "      <td>...</td>\n",
       "      <td>...</td>\n",
       "      <td>...</td>\n",
       "      <td>...</td>\n",
       "      <td>...</td>\n",
       "    </tr>\n",
       "    <tr>\n",
       "      <th>5697</th>\n",
       "      <td>/home/lab38/상추/V006_77_1_10_05_03_12_2_1249e_2...</td>\n",
       "      <td>1</td>\n",
       "      <td>10</td>\n",
       "      <td>10-12</td>\n",
       "      <td>3.0</td>\n",
       "      <td>[{'xtl': 132, 'ytl': 0, 'xbr': 2805, 'ybr': 34...</td>\n",
       "      <td>V006_77_1_10_05_03_12_2_1249e_20201211_31.jpeg</td>\n",
       "    </tr>\n",
       "    <tr>\n",
       "      <th>5698</th>\n",
       "      <td>/home/lab38/상추/V006_77_1_10_05_03_12_1_6432e_2...</td>\n",
       "      <td>1</td>\n",
       "      <td>10</td>\n",
       "      <td>10-12</td>\n",
       "      <td>3.0</td>\n",
       "      <td>[{'xtl': 8, 'ytl': 33, 'xbr': 3144, 'ybr': 2517}]</td>\n",
       "      <td>V006_77_1_10_05_03_12_1_6432e_20201209_54.jpeg</td>\n",
       "    </tr>\n",
       "    <tr>\n",
       "      <th>5699</th>\n",
       "      <td>/home/lab38/상추/V006_77_1_10_05_03_12_2_0517e_2...</td>\n",
       "      <td>1</td>\n",
       "      <td>10</td>\n",
       "      <td>10-12</td>\n",
       "      <td>3.0</td>\n",
       "      <td>[{'xtl': 1134, 'ytl': 1159, 'xbr': 2655, 'ybr'...</td>\n",
       "      <td>V006_77_1_10_05_03_12_2_0517e_20201210_11.jpeg</td>\n",
       "    </tr>\n",
       "    <tr>\n",
       "      <th>5700</th>\n",
       "      <td>/home/lab38/상추/V006_77_1_10_05_03_12_2_6998e_2...</td>\n",
       "      <td>1</td>\n",
       "      <td>10</td>\n",
       "      <td>10-12</td>\n",
       "      <td>3.0</td>\n",
       "      <td>[{'xtl': 322, 'ytl': 0, 'xbr': 3741, 'ybr': 25...</td>\n",
       "      <td>V006_77_1_10_05_03_12_2_6998e_20201208_23.jpeg</td>\n",
       "    </tr>\n",
       "    <tr>\n",
       "      <th>5701</th>\n",
       "      <td>/home/lab38/상추/V006_77_1_10_05_03_12_1_0517e_2...</td>\n",
       "      <td>1</td>\n",
       "      <td>10</td>\n",
       "      <td>10-12</td>\n",
       "      <td>3.0</td>\n",
       "      <td>[{'xtl': 730, 'ytl': 673, 'xbr': 2782, 'ybr': ...</td>\n",
       "      <td>V006_77_1_10_05_03_12_1_0517e_20201210_64.jpeg</td>\n",
       "    </tr>\n",
       "  </tbody>\n",
       "</table>\n",
       "<p>5918 rows × 7 columns</p>\n",
       "</div>"
      ],
      "text/plain": [
       "                                                  image  grow  disease  \\\n",
       "0                                /home/lab38/상추/358.jpg     1       12   \n",
       "1                                /home/lab38/상추/235.jpg     1       12   \n",
       "2                                 /home/lab38/상추/39.jpg     0       12   \n",
       "3                                /home/lab38/상추/345.jpg     1       12   \n",
       "4                                 /home/lab38/상추/97.jpg     1       12   \n",
       "...                                                 ...   ...      ...   \n",
       "5697  /home/lab38/상추/V006_77_1_10_05_03_12_2_1249e_2...     1       10   \n",
       "5698  /home/lab38/상추/V006_77_1_10_05_03_12_1_6432e_2...     1       10   \n",
       "5699  /home/lab38/상추/V006_77_1_10_05_03_12_2_0517e_2...     1       10   \n",
       "5700  /home/lab38/상추/V006_77_1_10_05_03_12_2_6998e_2...     1       10   \n",
       "5701  /home/lab38/상추/V006_77_1_10_05_03_12_1_0517e_2...     1       10   \n",
       "\n",
       "     disease-grow  area                                             points  \\\n",
       "0            12-1   NaN                                                NaN   \n",
       "1            12-1   NaN                                                NaN   \n",
       "2            12-0   NaN                                                NaN   \n",
       "3            12-1   NaN                                                NaN   \n",
       "4            12-1   NaN                                                NaN   \n",
       "...           ...   ...                                                ...   \n",
       "5697        10-12   3.0  [{'xtl': 132, 'ytl': 0, 'xbr': 2805, 'ybr': 34...   \n",
       "5698        10-12   3.0  [{'xtl': 8, 'ytl': 33, 'xbr': 3144, 'ybr': 2517}]   \n",
       "5699        10-12   3.0  [{'xtl': 1134, 'ytl': 1159, 'xbr': 2655, 'ybr'...   \n",
       "5700        10-12   3.0  [{'xtl': 322, 'ytl': 0, 'xbr': 3741, 'ybr': 25...   \n",
       "5701        10-12   3.0  [{'xtl': 730, 'ytl': 673, 'xbr': 2782, 'ybr': ...   \n",
       "\n",
       "                                            original  \n",
       "0                                                NaN  \n",
       "1                                                NaN  \n",
       "2                                                NaN  \n",
       "3                                                NaN  \n",
       "4                                                NaN  \n",
       "...                                              ...  \n",
       "5697  V006_77_1_10_05_03_12_2_1249e_20201211_31.jpeg  \n",
       "5698  V006_77_1_10_05_03_12_1_6432e_20201209_54.jpeg  \n",
       "5699  V006_77_1_10_05_03_12_2_0517e_20201210_11.jpeg  \n",
       "5700  V006_77_1_10_05_03_12_2_6998e_20201208_23.jpeg  \n",
       "5701  V006_77_1_10_05_03_12_1_0517e_20201210_64.jpeg  \n",
       "\n",
       "[5918 rows x 7 columns]"
      ]
     },
     "execution_count": 74,
     "metadata": {},
     "output_type": "execute_result"
    }
   ],
   "source": [
    "new_lettu.head(-5)"
   ]
  },
  {
   "cell_type": "code",
   "execution_count": 75,
   "id": "076b574f",
   "metadata": {
    "scrolled": true
   },
   "outputs": [
    {
     "data": {
      "text/plain": [
       "array(['12-1', '12-0', '0-11', '9-11', '10-11', '0-12', '9-12', '10-12'],\n",
       "      dtype=object)"
      ]
     },
     "execution_count": 75,
     "metadata": {},
     "output_type": "execute_result"
    }
   ],
   "source": [
    "new_lettu['disease-grow'].unique()"
   ]
  },
  {
   "cell_type": "code",
   "execution_count": 77,
   "id": "63a39cb7",
   "metadata": {},
   "outputs": [
    {
     "data": {
      "text/plain": [
       "array([1, 0])"
      ]
     },
     "execution_count": 77,
     "metadata": {},
     "output_type": "execute_result"
    }
   ],
   "source": [
    "new_lettu['grow'].unique()"
   ]
  },
  {
   "cell_type": "code",
   "execution_count": 78,
   "id": "c76d0e6f",
   "metadata": {},
   "outputs": [],
   "source": [
    "new_lettu.to_csv('/home/lab38/Multi_proj_6/data/lettu_smallsizeimg_with_pest.csv', index=False)"
   ]
  },
  {
   "cell_type": "code",
   "execution_count": null,
   "id": "cca200c7",
   "metadata": {},
   "outputs": [],
   "source": []
  }
 ],
 "metadata": {
  "kernelspec": {
   "display_name": "Python [conda env:smartpot]",
   "language": "python",
   "name": "conda-env-smartpot-py"
  },
  "language_info": {
   "codemirror_mode": {
    "name": "ipython",
    "version": 3
   },
   "file_extension": ".py",
   "mimetype": "text/x-python",
   "name": "python",
   "nbconvert_exporter": "python",
   "pygments_lexer": "ipython3",
   "version": "3.9.12"
  }
 },
 "nbformat": 4,
 "nbformat_minor": 5
}
