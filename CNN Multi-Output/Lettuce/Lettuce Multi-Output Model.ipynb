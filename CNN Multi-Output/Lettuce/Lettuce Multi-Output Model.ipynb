{
 "cells": [
  {
   "cell_type": "code",
   "execution_count": 1,
   "id": "b709f143",
   "metadata": {},
   "outputs": [],
   "source": [
    "import warnings \n",
    "warnings.filterwarnings(action='ignore')"
   ]
  },
  {
   "cell_type": "code",
   "execution_count": 2,
   "id": "78afe61c",
   "metadata": {},
   "outputs": [
    {
     "name": "stderr",
     "output_type": "stream",
     "text": [
      "2022-06-27 16:59:41.418393: I tensorflow/stream_executor/platform/default/dso_loader.cc:49] Successfully opened dynamic library libcudart.so.10.1\n"
     ]
    }
   ],
   "source": [
    "import os \n",
    "import numpy as np\n",
    "import pandas as pd\n",
    "import matplotlib.pyplot as plt\n",
    "from glob import glob\n",
    "from tqdm.auto import tqdm\n",
    "import cv2\n",
    "\n",
    "# from tensorflow.keras.applications import Densnet\n",
    "import tensorflow as tf\n",
    "from tensorflow.keras.models import Sequential, Model\n",
    "from tensorflow.keras import layers\n",
    "import tensorflow.keras as keras\n",
    "from tensorflow.data import Dataset\n",
    "\n",
    "from tensorflow.keras.optimizers import Adam, RMSprop, Nadam, SGD\n",
    "from tensorflow.keras.callbacks import ModelCheckpoint, EarlyStopping\n",
    "\n",
    "from itertools import product\n",
    "from tensorflow.keras.preprocessing.image import ImageDataGenerator\n",
    "\n",
    "from tensorflow.keras.applications import *\n",
    "from sklearn.model_selection import train_test_split\n",
    "from sklearn.preprocessing import LabelEncoder\n",
    "from skmultilearn.model_selection import iterative_train_test_split\n",
    "import wandb\n",
    "from wandb.keras import WandbCallback"
   ]
  },
  {
   "cell_type": "code",
   "execution_count": 3,
   "id": "7db429c9",
   "metadata": {},
   "outputs": [
    {
     "data": {
      "text/plain": [
       "'2.4.1'"
      ]
     },
     "execution_count": 3,
     "metadata": {},
     "output_type": "execute_result"
    }
   ],
   "source": [
    "tf.__version__"
   ]
  },
  {
   "cell_type": "markdown",
   "id": "696102fe",
   "metadata": {},
   "source": [
    "# Data Load"
   ]
  },
  {
   "cell_type": "code",
   "execution_count": 4,
   "id": "f3bfeec5",
   "metadata": {},
   "outputs": [
    {
     "data": {
      "text/html": [
       "<div>\n",
       "<style scoped>\n",
       "    .dataframe tbody tr th:only-of-type {\n",
       "        vertical-align: middle;\n",
       "    }\n",
       "\n",
       "    .dataframe tbody tr th {\n",
       "        vertical-align: top;\n",
       "    }\n",
       "\n",
       "    .dataframe thead th {\n",
       "        text-align: right;\n",
       "    }\n",
       "</style>\n",
       "<table border=\"1\" class=\"dataframe\">\n",
       "  <thead>\n",
       "    <tr style=\"text-align: right;\">\n",
       "      <th></th>\n",
       "      <th>image</th>\n",
       "      <th>grow</th>\n",
       "      <th>disease</th>\n",
       "      <th>disease-grow</th>\n",
       "      <th>area</th>\n",
       "      <th>points</th>\n",
       "      <th>original</th>\n",
       "    </tr>\n",
       "  </thead>\n",
       "  <tbody>\n",
       "    <tr>\n",
       "      <th>0</th>\n",
       "      <td>/home/lab38/상추/358.jpg</td>\n",
       "      <td>1</td>\n",
       "      <td>12</td>\n",
       "      <td>12-1</td>\n",
       "      <td>NaN</td>\n",
       "      <td>NaN</td>\n",
       "      <td>NaN</td>\n",
       "    </tr>\n",
       "    <tr>\n",
       "      <th>1</th>\n",
       "      <td>/home/lab38/상추/235.jpg</td>\n",
       "      <td>1</td>\n",
       "      <td>12</td>\n",
       "      <td>12-1</td>\n",
       "      <td>NaN</td>\n",
       "      <td>NaN</td>\n",
       "      <td>NaN</td>\n",
       "    </tr>\n",
       "    <tr>\n",
       "      <th>2</th>\n",
       "      <td>/home/lab38/상추/39.jpg</td>\n",
       "      <td>0</td>\n",
       "      <td>12</td>\n",
       "      <td>12-0</td>\n",
       "      <td>NaN</td>\n",
       "      <td>NaN</td>\n",
       "      <td>NaN</td>\n",
       "    </tr>\n",
       "    <tr>\n",
       "      <th>3</th>\n",
       "      <td>/home/lab38/상추/345.jpg</td>\n",
       "      <td>1</td>\n",
       "      <td>12</td>\n",
       "      <td>12-1</td>\n",
       "      <td>NaN</td>\n",
       "      <td>NaN</td>\n",
       "      <td>NaN</td>\n",
       "    </tr>\n",
       "    <tr>\n",
       "      <th>4</th>\n",
       "      <td>/home/lab38/상추/97.jpg</td>\n",
       "      <td>1</td>\n",
       "      <td>12</td>\n",
       "      <td>12-1</td>\n",
       "      <td>NaN</td>\n",
       "      <td>NaN</td>\n",
       "      <td>NaN</td>\n",
       "    </tr>\n",
       "  </tbody>\n",
       "</table>\n",
       "</div>"
      ],
      "text/plain": [
       "                    image  grow  disease disease-grow  area points original\n",
       "0  /home/lab38/상추/358.jpg     1       12         12-1   NaN    NaN      NaN\n",
       "1  /home/lab38/상추/235.jpg     1       12         12-1   NaN    NaN      NaN\n",
       "2   /home/lab38/상추/39.jpg     0       12         12-0   NaN    NaN      NaN\n",
       "3  /home/lab38/상추/345.jpg     1       12         12-1   NaN    NaN      NaN\n",
       "4   /home/lab38/상추/97.jpg     1       12         12-1   NaN    NaN      NaN"
      ]
     },
     "execution_count": 4,
     "metadata": {},
     "output_type": "execute_result"
    }
   ],
   "source": [
    "####### 자료 경로\n",
    "df = pd.read_csv('/home/lab38/Multi_proj_6/data/lettu_smallsizeimg_with_pest.csv')\n",
    "df.head()"
   ]
  },
  {
   "cell_type": "code",
   "execution_count": 5,
   "id": "10892c25",
   "metadata": {},
   "outputs": [
    {
     "name": "stdout",
     "output_type": "stream",
     "text": [
      "[3 0 1 2]\n",
      "[1 0]\n"
     ]
    }
   ],
   "source": [
    "# label encoding\n",
    "disease_encoder = LabelEncoder()\n",
    "disease_encoder.fit(df['disease'])\n",
    "df['disease'] = disease_encoder.transform(df['disease'])\n",
    "print(df['disease'].unique())\n",
    "\n",
    "grow_encoder = LabelEncoder()\n",
    "grow_encoder.fit(df['grow'])\n",
    "df['grow'] = grow_encoder.transform(df['grow'])\n",
    "print(df['grow'].unique())"
   ]
  },
  {
   "cell_type": "code",
   "execution_count": 6,
   "id": "c2baac10",
   "metadata": {},
   "outputs": [],
   "source": [
    "shuffled_df = df.sample(frac=1)"
   ]
  },
  {
   "cell_type": "code",
   "execution_count": 7,
   "id": "b66c5966",
   "metadata": {},
   "outputs": [],
   "source": [
    "X_train, X_test, y_train, y_test = train_test_split(df['image'],\n",
    "                                                   df['disease-grow'],\n",
    "                                                   stratify=df['disease-grow'],\n",
    "                                                   test_size=0.2)"
   ]
  },
  {
   "cell_type": "code",
   "execution_count": 8,
   "id": "855e9c07",
   "metadata": {},
   "outputs": [],
   "source": [
    "train_df = df[df['image'].isin(X_train)]\n",
    "test_df = df[df['image'].isin(X_test)]"
   ]
  },
  {
   "cell_type": "code",
   "execution_count": 9,
   "id": "09053375",
   "metadata": {
    "scrolled": true
   },
   "outputs": [
    {
     "name": "stdout",
     "output_type": "stream",
     "text": [
      "[3 0 1 2]\n",
      "[1 0]\n",
      "[3 0 1 2]\n",
      "[1 0]\n"
     ]
    }
   ],
   "source": [
    "print(train_df['disease'].unique())\n",
    "print(train_df['grow'].unique())\n",
    "print(test_df['disease'].unique())\n",
    "print(test_df['grow'].unique())"
   ]
  },
  {
   "cell_type": "code",
   "execution_count": 11,
   "id": "bbea9a29",
   "metadata": {},
   "outputs": [],
   "source": [
    "test_df.to_csv('/home/lab38/Multi_proj_6/data/lettuce_valid_set.csv', index=False)"
   ]
  },
  {
   "cell_type": "code",
   "execution_count": 10,
   "id": "f981e509",
   "metadata": {},
   "outputs": [],
   "source": [
    "train_gen = ImageDataGenerator(rescale=1./255,\n",
    "                            rotation_range=20, # 최대 20도까지 회전\n",
    "                            width_shift_range=0.1, # 최대 x 범위안에서 좌우/상하 이동\n",
    "                            height_shift_range=0.1,\n",
    "                            zoom_range=0.2, # 확대 축소 비율,\n",
    "                            horizontal_flip=True, # 좌우반전\n",
    "                            vertical_flip=True, # 상하반전\n",
    "                            fill_mode='nearest')\n",
    "valid_gen = ImageDataGenerator(rescale= 1. /255.)"
   ]
  },
  {
   "cell_type": "markdown",
   "id": "b0a85eac",
   "metadata": {},
   "source": [
    "# Model Top Layer 학습"
   ]
  },
  {
   "cell_type": "code",
   "execution_count": 11,
   "id": "b3e7435f",
   "metadata": {
    "collapsed": true
   },
   "outputs": [
    {
     "name": "stderr",
     "output_type": "stream",
     "text": [
      "Failed to detect the name of this notebook, you can set it manually with the WANDB_NOTEBOOK_NAME environment variable to enable code saving.\n",
      "\u001b[34m\u001b[1mwandb\u001b[0m: Currently logged in as: \u001b[33mhkleee\u001b[0m. Use \u001b[1m`wandb login --relogin`\u001b[0m to force relogin\n"
     ]
    },
    {
     "data": {
      "text/html": [
       "wandb version 0.12.19 is available!  To upgrade, please run:\n",
       " $ pip install wandb --upgrade"
      ],
      "text/plain": [
       "<IPython.core.display.HTML object>"
      ]
     },
     "metadata": {},
     "output_type": "display_data"
    },
    {
     "data": {
      "text/html": [
       "Tracking run with wandb version 0.12.18"
      ],
      "text/plain": [
       "<IPython.core.display.HTML object>"
      ]
     },
     "metadata": {},
     "output_type": "display_data"
    },
    {
     "data": {
      "text/html": [
       "Run data is saved locally in <code>/home/lab38/Multi_proj_6/model/multi-output/lettuce/wandb/run-20220624_093323-8jzsjnrx</code>"
      ],
      "text/plain": [
       "<IPython.core.display.HTML object>"
      ]
     },
     "metadata": {},
     "output_type": "display_data"
    },
    {
     "data": {
      "text/html": [
       "Syncing run <strong><a href=\"https://wandb.ai/hkleee/lettuce/runs/8jzsjnrx\" target=\"_blank\">radiant-snowflake-81</a></strong> to <a href=\"https://wandb.ai/hkleee/lettuce\" target=\"_blank\">Weights & Biases</a> (<a href=\"https://wandb.me/run\" target=\"_blank\">docs</a>)<br/>"
      ],
      "text/plain": [
       "<IPython.core.display.HTML object>"
      ]
     },
     "metadata": {},
     "output_type": "display_data"
    },
    {
     "name": "stdout",
     "output_type": "stream",
     "text": [
      "Found 4738 validated image filenames.\n",
      "Found 1185 validated image filenames.\n"
     ]
    },
    {
     "name": "stderr",
     "output_type": "stream",
     "text": [
      "2022-06-24 09:33:28.062428: I tensorflow/compiler/jit/xla_cpu_device.cc:41] Not creating XLA devices, tf_xla_enable_xla_devices not set\n",
      "2022-06-24 09:33:28.063480: I tensorflow/stream_executor/platform/default/dso_loader.cc:49] Successfully opened dynamic library libcuda.so.1\n",
      "2022-06-24 09:33:28.106500: I tensorflow/stream_executor/cuda/cuda_gpu_executor.cc:941] successful NUMA node read from SysFS had negative value (-1), but there must be at least one NUMA node, so returning NUMA node zero\n",
      "2022-06-24 09:33:28.107094: I tensorflow/core/common_runtime/gpu/gpu_device.cc:1720] Found device 0 with properties: \n",
      "pciBusID: 0000:00:1e.0 name: Tesla T4 computeCapability: 7.5\n",
      "coreClock: 1.59GHz coreCount: 40 deviceMemorySize: 14.75GiB deviceMemoryBandwidth: 298.08GiB/s\n",
      "2022-06-24 09:33:28.107144: I tensorflow/stream_executor/platform/default/dso_loader.cc:49] Successfully opened dynamic library libcudart.so.10.1\n",
      "2022-06-24 09:33:28.108939: I tensorflow/stream_executor/platform/default/dso_loader.cc:49] Successfully opened dynamic library libcublas.so.10\n",
      "2022-06-24 09:33:28.109038: I tensorflow/stream_executor/platform/default/dso_loader.cc:49] Successfully opened dynamic library libcublasLt.so.10\n",
      "2022-06-24 09:33:28.110681: I tensorflow/stream_executor/platform/default/dso_loader.cc:49] Successfully opened dynamic library libcufft.so.10\n",
      "2022-06-24 09:33:28.111011: I tensorflow/stream_executor/platform/default/dso_loader.cc:49] Successfully opened dynamic library libcurand.so.10\n",
      "2022-06-24 09:33:28.112870: I tensorflow/stream_executor/platform/default/dso_loader.cc:49] Successfully opened dynamic library libcusolver.so.10\n",
      "2022-06-24 09:33:28.113937: I tensorflow/stream_executor/platform/default/dso_loader.cc:49] Successfully opened dynamic library libcusparse.so.10\n",
      "2022-06-24 09:33:28.117793: I tensorflow/stream_executor/platform/default/dso_loader.cc:49] Successfully opened dynamic library libcudnn.so.7\n",
      "2022-06-24 09:33:28.117951: I tensorflow/stream_executor/cuda/cuda_gpu_executor.cc:941] successful NUMA node read from SysFS had negative value (-1), but there must be at least one NUMA node, so returning NUMA node zero\n",
      "2022-06-24 09:33:28.118574: I tensorflow/stream_executor/cuda/cuda_gpu_executor.cc:941] successful NUMA node read from SysFS had negative value (-1), but there must be at least one NUMA node, so returning NUMA node zero\n",
      "2022-06-24 09:33:28.119106: I tensorflow/core/common_runtime/gpu/gpu_device.cc:1862] Adding visible gpu devices: 0\n",
      "2022-06-24 09:33:28.119500: I tensorflow/core/platform/cpu_feature_guard.cc:142] This TensorFlow binary is optimized with oneAPI Deep Neural Network Library (oneDNN) to use the following CPU instructions in performance-critical operations:  SSE4.1 SSE4.2 AVX AVX2 AVX512F FMA\n",
      "To enable them in other operations, rebuild TensorFlow with the appropriate compiler flags.\n",
      "2022-06-24 09:33:28.119710: I tensorflow/compiler/jit/xla_gpu_device.cc:99] Not creating XLA devices, tf_xla_enable_xla_devices not set\n",
      "2022-06-24 09:33:28.119851: I tensorflow/stream_executor/cuda/cuda_gpu_executor.cc:941] successful NUMA node read from SysFS had negative value (-1), but there must be at least one NUMA node, so returning NUMA node zero\n",
      "2022-06-24 09:33:28.120419: I tensorflow/core/common_runtime/gpu/gpu_device.cc:1720] Found device 0 with properties: \n",
      "pciBusID: 0000:00:1e.0 name: Tesla T4 computeCapability: 7.5\n",
      "coreClock: 1.59GHz coreCount: 40 deviceMemorySize: 14.75GiB deviceMemoryBandwidth: 298.08GiB/s\n",
      "2022-06-24 09:33:28.120462: I tensorflow/stream_executor/platform/default/dso_loader.cc:49] Successfully opened dynamic library libcudart.so.10.1\n",
      "2022-06-24 09:33:28.120486: I tensorflow/stream_executor/platform/default/dso_loader.cc:49] Successfully opened dynamic library libcublas.so.10\n",
      "2022-06-24 09:33:28.120502: I tensorflow/stream_executor/platform/default/dso_loader.cc:49] Successfully opened dynamic library libcublasLt.so.10\n",
      "2022-06-24 09:33:28.120516: I tensorflow/stream_executor/platform/default/dso_loader.cc:49] Successfully opened dynamic library libcufft.so.10\n",
      "2022-06-24 09:33:28.120531: I tensorflow/stream_executor/platform/default/dso_loader.cc:49] Successfully opened dynamic library libcurand.so.10\n",
      "2022-06-24 09:33:28.120546: I tensorflow/stream_executor/platform/default/dso_loader.cc:49] Successfully opened dynamic library libcusolver.so.10\n",
      "2022-06-24 09:33:28.120562: I tensorflow/stream_executor/platform/default/dso_loader.cc:49] Successfully opened dynamic library libcusparse.so.10\n",
      "2022-06-24 09:33:28.120576: I tensorflow/stream_executor/platform/default/dso_loader.cc:49] Successfully opened dynamic library libcudnn.so.7\n",
      "2022-06-24 09:33:28.120653: I tensorflow/stream_executor/cuda/cuda_gpu_executor.cc:941] successful NUMA node read from SysFS had negative value (-1), but there must be at least one NUMA node, so returning NUMA node zero\n",
      "2022-06-24 09:33:28.121265: I tensorflow/stream_executor/cuda/cuda_gpu_executor.cc:941] successful NUMA node read from SysFS had negative value (-1), but there must be at least one NUMA node, so returning NUMA node zero\n",
      "2022-06-24 09:33:28.121793: I tensorflow/core/common_runtime/gpu/gpu_device.cc:1862] Adding visible gpu devices: 0\n",
      "2022-06-24 09:33:28.121833: I tensorflow/stream_executor/platform/default/dso_loader.cc:49] Successfully opened dynamic library libcudart.so.10.1\n",
      "2022-06-24 09:33:28.745153: I tensorflow/core/common_runtime/gpu/gpu_device.cc:1261] Device interconnect StreamExecutor with strength 1 edge matrix:\n",
      "2022-06-24 09:33:28.745187: I tensorflow/core/common_runtime/gpu/gpu_device.cc:1267]      0 \n",
      "2022-06-24 09:33:28.745194: I tensorflow/core/common_runtime/gpu/gpu_device.cc:1280] 0:   N \n",
      "2022-06-24 09:33:28.745432: I tensorflow/stream_executor/cuda/cuda_gpu_executor.cc:941] successful NUMA node read from SysFS had negative value (-1), but there must be at least one NUMA node, so returning NUMA node zero\n",
      "2022-06-24 09:33:28.746140: I tensorflow/stream_executor/cuda/cuda_gpu_executor.cc:941] successful NUMA node read from SysFS had negative value (-1), but there must be at least one NUMA node, so returning NUMA node zero\n",
      "2022-06-24 09:33:28.746717: I tensorflow/stream_executor/cuda/cuda_gpu_executor.cc:941] successful NUMA node read from SysFS had negative value (-1), but there must be at least one NUMA node, so returning NUMA node zero\n",
      "2022-06-24 09:33:28.747256: I tensorflow/core/common_runtime/gpu/gpu_device.cc:1406] Created TensorFlow device (/job:localhost/replica:0/task:0/device:GPU:0 with 13970 MB memory) -> physical GPU (device: 0, name: Tesla T4, pci bus id: 0000:00:1e.0, compute capability: 7.5)\n",
      "2022-06-24 09:33:35.465793: I tensorflow/compiler/mlir/mlir_graph_optimization_pass.cc:116] None of the MLIR optimization passes are enabled (registered 2)\n",
      "2022-06-24 09:33:35.484896: I tensorflow/core/platform/profile_utils/cpu_utils.cc:112] CPU Frequency: 2499995000 Hz\n"
     ]
    },
    {
     "name": "stdout",
     "output_type": "stream",
     "text": [
      "Epoch 1/1000\n"
     ]
    },
    {
     "name": "stderr",
     "output_type": "stream",
     "text": [
      "2022-06-24 09:33:43.508320: I tensorflow/stream_executor/platform/default/dso_loader.cc:49] Successfully opened dynamic library libcublas.so.10\n",
      "2022-06-24 09:33:44.572403: I tensorflow/stream_executor/platform/default/dso_loader.cc:49] Successfully opened dynamic library libcudnn.so.7\n"
     ]
    },
    {
     "name": "stdout",
     "output_type": "stream",
     "text": [
      "94/94 [==============================] - 129s 1s/step - loss: 1.2834 - diease_outputs_loss: 0.9505 - grow_outputs_loss: 0.3328 - diease_outputs_accuracy: 0.6119 - grow_outputs_accuracy: 0.8538 - val_loss: 0.6003 - val_diease_outputs_loss: 0.4445 - val_grow_outputs_loss: 0.1559 - val_diease_outputs_accuracy: 0.8489 - val_grow_outputs_accuracy: 0.9502\n",
      "\n",
      "Epoch 00001: val_loss improved from inf to 0.60034, saving model to ./toplayer_lettuce.ckpt\n",
      "Epoch 2/1000\n",
      "94/94 [==============================] - 113s 1s/step - loss: 0.6011 - diease_outputs_loss: 0.4432 - grow_outputs_loss: 0.1580 - diease_outputs_accuracy: 0.8349 - grow_outputs_accuracy: 0.9438 - val_loss: 0.4727 - val_diease_outputs_loss: 0.3500 - val_grow_outputs_loss: 0.1227 - val_diease_outputs_accuracy: 0.8768 - val_grow_outputs_accuracy: 0.9620\n",
      "\n",
      "Epoch 00002: val_loss improved from 0.60034 to 0.47266, saving model to ./toplayer_lettuce.ckpt\n",
      "Epoch 3/1000\n",
      "94/94 [==============================] - 113s 1s/step - loss: 0.5123 - diease_outputs_loss: 0.3658 - grow_outputs_loss: 0.1465 - diease_outputs_accuracy: 0.8661 - grow_outputs_accuracy: 0.9468 - val_loss: 0.4125 - val_diease_outputs_loss: 0.3087 - val_grow_outputs_loss: 0.1038 - val_diease_outputs_accuracy: 0.8869 - val_grow_outputs_accuracy: 0.9688\n",
      "\n",
      "Epoch 00003: val_loss improved from 0.47266 to 0.41247, saving model to ./toplayer_lettuce.ckpt\n",
      "Epoch 4/1000\n",
      "94/94 [==============================] - 113s 1s/step - loss: 0.4368 - diease_outputs_loss: 0.3194 - grow_outputs_loss: 0.1173 - diease_outputs_accuracy: 0.8891 - grow_outputs_accuracy: 0.9583 - val_loss: 0.4096 - val_diease_outputs_loss: 0.3181 - val_grow_outputs_loss: 0.0916 - val_diease_outputs_accuracy: 0.8827 - val_grow_outputs_accuracy: 0.9662\n",
      "\n",
      "Epoch 00004: val_loss improved from 0.41247 to 0.40963, saving model to ./toplayer_lettuce.ckpt\n",
      "Epoch 5/1000\n",
      "94/94 [==============================] - 113s 1s/step - loss: 0.3859 - diease_outputs_loss: 0.2829 - grow_outputs_loss: 0.1031 - diease_outputs_accuracy: 0.8923 - grow_outputs_accuracy: 0.9595 - val_loss: 0.3937 - val_diease_outputs_loss: 0.2858 - val_grow_outputs_loss: 0.1079 - val_diease_outputs_accuracy: 0.9021 - val_grow_outputs_accuracy: 0.9595\n",
      "\n",
      "Epoch 00005: val_loss improved from 0.40963 to 0.39367, saving model to ./toplayer_lettuce.ckpt\n",
      "Epoch 6/1000\n",
      "94/94 [==============================] - 113s 1s/step - loss: 0.3526 - diease_outputs_loss: 0.2564 - grow_outputs_loss: 0.0963 - diease_outputs_accuracy: 0.9100 - grow_outputs_accuracy: 0.9684 - val_loss: 0.3405 - val_diease_outputs_loss: 0.2589 - val_grow_outputs_loss: 0.0815 - val_diease_outputs_accuracy: 0.9105 - val_grow_outputs_accuracy: 0.9747\n",
      "\n",
      "Epoch 00006: val_loss improved from 0.39367 to 0.34047, saving model to ./toplayer_lettuce.ckpt\n",
      "Epoch 7/1000\n",
      "94/94 [==============================] - 112s 1s/step - loss: 0.3655 - diease_outputs_loss: 0.2668 - grow_outputs_loss: 0.0987 - diease_outputs_accuracy: 0.8990 - grow_outputs_accuracy: 0.9676 - val_loss: 0.3308 - val_diease_outputs_loss: 0.2547 - val_grow_outputs_loss: 0.0760 - val_diease_outputs_accuracy: 0.9122 - val_grow_outputs_accuracy: 0.9755\n",
      "\n",
      "Epoch 00007: val_loss improved from 0.34047 to 0.33079, saving model to ./toplayer_lettuce.ckpt\n",
      "Epoch 8/1000\n",
      "94/94 [==============================] - 113s 1s/step - loss: 0.3408 - diease_outputs_loss: 0.2490 - grow_outputs_loss: 0.0918 - diease_outputs_accuracy: 0.9089 - grow_outputs_accuracy: 0.9683 - val_loss: 0.3115 - val_diease_outputs_loss: 0.2373 - val_grow_outputs_loss: 0.0743 - val_diease_outputs_accuracy: 0.9165 - val_grow_outputs_accuracy: 0.9806\n",
      "\n",
      "Epoch 00008: val_loss improved from 0.33079 to 0.31154, saving model to ./toplayer_lettuce.ckpt\n",
      "Epoch 9/1000\n",
      "94/94 [==============================] - 113s 1s/step - loss: 0.3167 - diease_outputs_loss: 0.2355 - grow_outputs_loss: 0.0812 - diease_outputs_accuracy: 0.9162 - grow_outputs_accuracy: 0.9721 - val_loss: 0.3249 - val_diease_outputs_loss: 0.2541 - val_grow_outputs_loss: 0.0708 - val_diease_outputs_accuracy: 0.9105 - val_grow_outputs_accuracy: 0.9738\n",
      "\n",
      "Epoch 00009: val_loss did not improve from 0.31154\n",
      "Epoch 10/1000\n",
      "94/94 [==============================] - 113s 1s/step - loss: 0.3359 - diease_outputs_loss: 0.2513 - grow_outputs_loss: 0.0845 - diease_outputs_accuracy: 0.9157 - grow_outputs_accuracy: 0.9746 - val_loss: 0.3097 - val_diease_outputs_loss: 0.2387 - val_grow_outputs_loss: 0.0710 - val_diease_outputs_accuracy: 0.9215 - val_grow_outputs_accuracy: 0.9831\n",
      "\n",
      "Epoch 00010: val_loss improved from 0.31154 to 0.30968, saving model to ./toplayer_lettuce.ckpt\n",
      "Epoch 11/1000\n",
      "94/94 [==============================] - 113s 1s/step - loss: 0.2991 - diease_outputs_loss: 0.2261 - grow_outputs_loss: 0.0730 - diease_outputs_accuracy: 0.9175 - grow_outputs_accuracy: 0.9758 - val_loss: 0.3250 - val_diease_outputs_loss: 0.2551 - val_grow_outputs_loss: 0.0699 - val_diease_outputs_accuracy: 0.9097 - val_grow_outputs_accuracy: 0.9781\n",
      "\n",
      "Epoch 00011: val_loss did not improve from 0.30968\n",
      "Epoch 12/1000\n",
      "94/94 [==============================] - 112s 1s/step - loss: 0.3197 - diease_outputs_loss: 0.2396 - grow_outputs_loss: 0.0801 - diease_outputs_accuracy: 0.9126 - grow_outputs_accuracy: 0.9739 - val_loss: 0.2885 - val_diease_outputs_loss: 0.2239 - val_grow_outputs_loss: 0.0646 - val_diease_outputs_accuracy: 0.9249 - val_grow_outputs_accuracy: 0.9840\n",
      "\n",
      "Epoch 00012: val_loss improved from 0.30968 to 0.28847, saving model to ./toplayer_lettuce.ckpt\n",
      "Epoch 13/1000\n",
      "94/94 [==============================] - 113s 1s/step - loss: 0.2988 - diease_outputs_loss: 0.2267 - grow_outputs_loss: 0.0720 - diease_outputs_accuracy: 0.9212 - grow_outputs_accuracy: 0.9755 - val_loss: 0.2763 - val_diease_outputs_loss: 0.2139 - val_grow_outputs_loss: 0.0624 - val_diease_outputs_accuracy: 0.9283 - val_grow_outputs_accuracy: 0.9814\n",
      "\n",
      "Epoch 00013: val_loss improved from 0.28847 to 0.27633, saving model to ./toplayer_lettuce.ckpt\n",
      "Epoch 14/1000\n",
      "94/94 [==============================] - 113s 1s/step - loss: 0.2935 - diease_outputs_loss: 0.2173 - grow_outputs_loss: 0.0761 - diease_outputs_accuracy: 0.9216 - grow_outputs_accuracy: 0.9743 - val_loss: 0.3177 - val_diease_outputs_loss: 0.2503 - val_grow_outputs_loss: 0.0673 - val_diease_outputs_accuracy: 0.9165 - val_grow_outputs_accuracy: 0.9755\n",
      "\n",
      "Epoch 00014: val_loss did not improve from 0.27633\n",
      "Epoch 15/1000\n",
      "94/94 [==============================] - 113s 1s/step - loss: 0.3080 - diease_outputs_loss: 0.2382 - grow_outputs_loss: 0.0699 - diease_outputs_accuracy: 0.9106 - grow_outputs_accuracy: 0.9737 - val_loss: 0.3102 - val_diease_outputs_loss: 0.2410 - val_grow_outputs_loss: 0.0692 - val_diease_outputs_accuracy: 0.9097 - val_grow_outputs_accuracy: 0.9797\n",
      "\n",
      "Epoch 00015: val_loss did not improve from 0.27633\n",
      "Epoch 16/1000\n",
      "94/94 [==============================] - 113s 1s/step - loss: 0.2718 - diease_outputs_loss: 0.2078 - grow_outputs_loss: 0.0640 - diease_outputs_accuracy: 0.9258 - grow_outputs_accuracy: 0.9780 - val_loss: 0.2811 - val_diease_outputs_loss: 0.2204 - val_grow_outputs_loss: 0.0607 - val_diease_outputs_accuracy: 0.9249 - val_grow_outputs_accuracy: 0.9831\n",
      "\n",
      "Epoch 00016: val_loss did not improve from 0.27633\n",
      "Epoch 17/1000\n",
      "94/94 [==============================] - 113s 1s/step - loss: 0.3003 - diease_outputs_loss: 0.2169 - grow_outputs_loss: 0.0834 - diease_outputs_accuracy: 0.9214 - grow_outputs_accuracy: 0.9730 - val_loss: 0.2582 - val_diease_outputs_loss: 0.2015 - val_grow_outputs_loss: 0.0567 - val_diease_outputs_accuracy: 0.9376 - val_grow_outputs_accuracy: 0.9848\n",
      "\n",
      "Epoch 00017: val_loss improved from 0.27633 to 0.25819, saving model to ./toplayer_lettuce.ckpt\n",
      "Epoch 18/1000\n",
      "94/94 [==============================] - 113s 1s/step - loss: 0.2794 - diease_outputs_loss: 0.2131 - grow_outputs_loss: 0.0662 - diease_outputs_accuracy: 0.9246 - grow_outputs_accuracy: 0.9779 - val_loss: 0.2695 - val_diease_outputs_loss: 0.2100 - val_grow_outputs_loss: 0.0595 - val_diease_outputs_accuracy: 0.9308 - val_grow_outputs_accuracy: 0.9840\n",
      "\n",
      "Epoch 00018: val_loss did not improve from 0.25819\n",
      "Epoch 19/1000\n",
      "94/94 [==============================] - 113s 1s/step - loss: 0.2763 - diease_outputs_loss: 0.2061 - grow_outputs_loss: 0.0702 - diease_outputs_accuracy: 0.9239 - grow_outputs_accuracy: 0.9778 - val_loss: 0.2869 - val_diease_outputs_loss: 0.2258 - val_grow_outputs_loss: 0.0612 - val_diease_outputs_accuracy: 0.9241 - val_grow_outputs_accuracy: 0.9840\n",
      "\n",
      "Epoch 00019: val_loss did not improve from 0.25819\n",
      "Epoch 20/1000\n",
      "94/94 [==============================] - 113s 1s/step - loss: 0.2814 - diease_outputs_loss: 0.2094 - grow_outputs_loss: 0.0721 - diease_outputs_accuracy: 0.9216 - grow_outputs_accuracy: 0.9765 - val_loss: 0.2662 - val_diease_outputs_loss: 0.2094 - val_grow_outputs_loss: 0.0568 - val_diease_outputs_accuracy: 0.9316 - val_grow_outputs_accuracy: 0.9840\n",
      "\n",
      "Epoch 00020: val_loss did not improve from 0.25819\n",
      "Epoch 21/1000\n",
      "94/94 [==============================] - 113s 1s/step - loss: 0.2729 - diease_outputs_loss: 0.2176 - grow_outputs_loss: 0.0553 - diease_outputs_accuracy: 0.9168 - grow_outputs_accuracy: 0.9820 - val_loss: 0.2613 - val_diease_outputs_loss: 0.2061 - val_grow_outputs_loss: 0.0553 - val_diease_outputs_accuracy: 0.9316 - val_grow_outputs_accuracy: 0.9831\n",
      "\n",
      "Epoch 00021: val_loss did not improve from 0.25819\n",
      "Epoch 22/1000\n",
      "94/94 [==============================] - 113s 1s/step - loss: 0.2765 - diease_outputs_loss: 0.2045 - grow_outputs_loss: 0.0720 - diease_outputs_accuracy: 0.9282 - grow_outputs_accuracy: 0.9748 - val_loss: 0.2515 - val_diease_outputs_loss: 0.1950 - val_grow_outputs_loss: 0.0565 - val_diease_outputs_accuracy: 0.9325 - val_grow_outputs_accuracy: 0.9823\n",
      "\n",
      "Epoch 00022: val_loss improved from 0.25819 to 0.25152, saving model to ./toplayer_lettuce.ckpt\n",
      "Epoch 23/1000\n",
      "94/94 [==============================] - 114s 1s/step - loss: 0.2612 - diease_outputs_loss: 0.1983 - grow_outputs_loss: 0.0629 - diease_outputs_accuracy: 0.9318 - grow_outputs_accuracy: 0.9794 - val_loss: 0.2591 - val_diease_outputs_loss: 0.2053 - val_grow_outputs_loss: 0.0538 - val_diease_outputs_accuracy: 0.9308 - val_grow_outputs_accuracy: 0.9865\n",
      "\n",
      "Epoch 00023: val_loss did not improve from 0.25152\n",
      "Epoch 24/1000\n",
      "94/94 [==============================] - 113s 1s/step - loss: 0.2668 - diease_outputs_loss: 0.1937 - grow_outputs_loss: 0.0731 - diease_outputs_accuracy: 0.9248 - grow_outputs_accuracy: 0.9780 - val_loss: 0.2387 - val_diease_outputs_loss: 0.1859 - val_grow_outputs_loss: 0.0529 - val_diease_outputs_accuracy: 0.9384 - val_grow_outputs_accuracy: 0.9857\n",
      "\n",
      "Epoch 00024: val_loss improved from 0.25152 to 0.23874, saving model to ./toplayer_lettuce.ckpt\n",
      "Epoch 25/1000\n",
      "94/94 [==============================] - 115s 1s/step - loss: 0.2504 - diease_outputs_loss: 0.1993 - grow_outputs_loss: 0.0511 - diease_outputs_accuracy: 0.9276 - grow_outputs_accuracy: 0.9819 - val_loss: 0.2583 - val_diease_outputs_loss: 0.2044 - val_grow_outputs_loss: 0.0539 - val_diease_outputs_accuracy: 0.9342 - val_grow_outputs_accuracy: 0.9848\n",
      "\n",
      "Epoch 00025: val_loss did not improve from 0.23874\n",
      "Epoch 26/1000\n",
      "44/94 [=============>................] - ETA: 54s - loss: 0.2703 - diease_outputs_loss: 0.1977 - grow_outputs_loss: 0.0726 - diease_outputs_accuracy: 0.9253 - grow_outputs_accuracy: 0.9720"
     ]
    },
    {
     "ename": "KeyboardInterrupt",
     "evalue": "",
     "output_type": "error",
     "traceback": [
      "\u001b[0;31m---------------------------------------------------------------------------\u001b[0m",
      "\u001b[0;31mKeyboardInterrupt\u001b[0m                         Traceback (most recent call last)",
      "Input \u001b[0;32mIn [11]\u001b[0m, in \u001b[0;36m<cell line: 83>\u001b[0;34m()\u001b[0m\n\u001b[1;32m     70\u001b[0m checkpointer \u001b[38;5;241m=\u001b[39m ModelCheckpoint(filepath\u001b[38;5;241m=\u001b[39mckpt_path,\n\u001b[1;32m     71\u001b[0m                               monitor\u001b[38;5;241m=\u001b[39m\u001b[38;5;124m'\u001b[39m\u001b[38;5;124mval_loss\u001b[39m\u001b[38;5;124m'\u001b[39m,\n\u001b[1;32m     72\u001b[0m                               save_weights_only \u001b[38;5;241m=\u001b[39m \u001b[38;5;28;01mTrue\u001b[39;00m,\n\u001b[1;32m     73\u001b[0m                               save_best_only\u001b[38;5;241m=\u001b[39m \u001b[38;5;28;01mTrue\u001b[39;00m,\n\u001b[1;32m     74\u001b[0m                               verbose\u001b[38;5;241m=\u001b[39m\u001b[38;5;241m1\u001b[39m)\n\u001b[1;32m     76\u001b[0m model\u001b[38;5;241m.\u001b[39mcompile(loss\u001b[38;5;241m=\u001b[39m{\n\u001b[1;32m     77\u001b[0m                   \u001b[38;5;124m'\u001b[39m\u001b[38;5;124mdiease_outputs\u001b[39m\u001b[38;5;124m'\u001b[39m : \u001b[38;5;124m'\u001b[39m\u001b[38;5;124msparse_categorical_crossentropy\u001b[39m\u001b[38;5;124m'\u001b[39m,\n\u001b[1;32m     78\u001b[0m                   \u001b[38;5;124m'\u001b[39m\u001b[38;5;124mgrow_outputs\u001b[39m\u001b[38;5;124m'\u001b[39m : \u001b[38;5;124m'\u001b[39m\u001b[38;5;124mbinary_crossentropy\u001b[39m\u001b[38;5;124m'\u001b[39m\n\u001b[1;32m     79\u001b[0m               },\n\u001b[1;32m     80\u001b[0m               optimizer\u001b[38;5;241m=\u001b[39moptimizer,\n\u001b[1;32m     81\u001b[0m               metrics\u001b[38;5;241m=\u001b[39m[\u001b[38;5;124m'\u001b[39m\u001b[38;5;124maccuracy\u001b[39m\u001b[38;5;124m'\u001b[39m])\n\u001b[0;32m---> 83\u001b[0m history \u001b[38;5;241m=\u001b[39m \u001b[43mmodel\u001b[49m\u001b[38;5;241;43m.\u001b[39;49m\u001b[43mfit\u001b[49m\u001b[43m(\u001b[49m\u001b[43mtrain_generator\u001b[49m\u001b[43m,\u001b[49m\n\u001b[1;32m     84\u001b[0m \u001b[43m                  \u001b[49m\u001b[43mvalidation_data\u001b[49m\u001b[38;5;241;43m=\u001b[39;49m\u001b[43mvalid_generator\u001b[49m\u001b[43m,\u001b[49m\n\u001b[1;32m     85\u001b[0m \u001b[43m                  \u001b[49m\u001b[43mverbose\u001b[49m\u001b[38;5;241;43m=\u001b[39;49m\u001b[38;5;241;43m1\u001b[39;49m\u001b[43m,\u001b[49m\n\u001b[1;32m     86\u001b[0m \u001b[43m                  \u001b[49m\u001b[43mepochs\u001b[49m\u001b[38;5;241;43m=\u001b[39;49m\u001b[43mconfig\u001b[49m\u001b[38;5;241;43m.\u001b[39;49m\u001b[43mepochs\u001b[49m\u001b[43m,\u001b[49m\n\u001b[1;32m     87\u001b[0m \u001b[43m                  \u001b[49m\u001b[43mcallbacks\u001b[49m\u001b[38;5;241;43m=\u001b[39;49m\u001b[43m[\u001b[49m\u001b[43mes\u001b[49m\u001b[43m,\u001b[49m\u001b[43m \u001b[49m\u001b[43mcheckpointer\u001b[49m\u001b[43m]\u001b[49m\u001b[43m,\u001b[49m\n\u001b[1;32m     88\u001b[0m \u001b[43m                  \u001b[49m\u001b[43msteps_per_epoch\u001b[49m\u001b[38;5;241;43m=\u001b[39;49m\u001b[38;5;28;43mlen\u001b[39;49m\u001b[43m(\u001b[49m\u001b[43mtrain_df\u001b[49m\u001b[43m)\u001b[49m\u001b[38;5;241;43m/\u001b[39;49m\u001b[38;5;241;43m/\u001b[39;49m\u001b[43mconfig\u001b[49m\u001b[38;5;241;43m.\u001b[39;49m\u001b[43mbatch_size\u001b[49m\u001b[43m)\u001b[49m\n",
      "File \u001b[0;32m/home/ubuntu/anaconda3/envs/smartpot/lib/python3.9/site-packages/wandb/integration/keras/keras.py:163\u001b[0m, in \u001b[0;36mpatch_tf_keras.<locals>.new_v2\u001b[0;34m(*args, **kwargs)\u001b[0m\n\u001b[1;32m    161\u001b[0m     \u001b[38;5;28;01mfor\u001b[39;00m cbk \u001b[38;5;129;01min\u001b[39;00m cbks:\n\u001b[1;32m    162\u001b[0m         set_wandb_attrs(cbk, val_data)\n\u001b[0;32m--> 163\u001b[0m \u001b[38;5;28;01mreturn\u001b[39;00m \u001b[43mold_v2\u001b[49m\u001b[43m(\u001b[49m\u001b[38;5;241;43m*\u001b[39;49m\u001b[43margs\u001b[49m\u001b[43m,\u001b[49m\u001b[43m \u001b[49m\u001b[38;5;241;43m*\u001b[39;49m\u001b[38;5;241;43m*\u001b[39;49m\u001b[43mkwargs\u001b[49m\u001b[43m)\u001b[49m\n",
      "File \u001b[0;32m/home/ubuntu/anaconda3/envs/smartpot/lib/python3.9/site-packages/tensorflow/python/keras/engine/training.py:1100\u001b[0m, in \u001b[0;36mModel.fit\u001b[0;34m(self, x, y, batch_size, epochs, verbose, callbacks, validation_split, validation_data, shuffle, class_weight, sample_weight, initial_epoch, steps_per_epoch, validation_steps, validation_batch_size, validation_freq, max_queue_size, workers, use_multiprocessing)\u001b[0m\n\u001b[1;32m   1093\u001b[0m \u001b[38;5;28;01mwith\u001b[39;00m trace\u001b[38;5;241m.\u001b[39mTrace(\n\u001b[1;32m   1094\u001b[0m     \u001b[38;5;124m'\u001b[39m\u001b[38;5;124mtrain\u001b[39m\u001b[38;5;124m'\u001b[39m,\n\u001b[1;32m   1095\u001b[0m     epoch_num\u001b[38;5;241m=\u001b[39mepoch,\n\u001b[1;32m   1096\u001b[0m     step_num\u001b[38;5;241m=\u001b[39mstep,\n\u001b[1;32m   1097\u001b[0m     batch_size\u001b[38;5;241m=\u001b[39mbatch_size,\n\u001b[1;32m   1098\u001b[0m     _r\u001b[38;5;241m=\u001b[39m\u001b[38;5;241m1\u001b[39m):\n\u001b[1;32m   1099\u001b[0m   callbacks\u001b[38;5;241m.\u001b[39mon_train_batch_begin(step)\n\u001b[0;32m-> 1100\u001b[0m   tmp_logs \u001b[38;5;241m=\u001b[39m \u001b[38;5;28;43mself\u001b[39;49m\u001b[38;5;241;43m.\u001b[39;49m\u001b[43mtrain_function\u001b[49m\u001b[43m(\u001b[49m\u001b[43miterator\u001b[49m\u001b[43m)\u001b[49m\n\u001b[1;32m   1101\u001b[0m   \u001b[38;5;28;01mif\u001b[39;00m data_handler\u001b[38;5;241m.\u001b[39mshould_sync:\n\u001b[1;32m   1102\u001b[0m     context\u001b[38;5;241m.\u001b[39masync_wait()\n",
      "File \u001b[0;32m/home/ubuntu/anaconda3/envs/smartpot/lib/python3.9/site-packages/tensorflow/python/eager/def_function.py:828\u001b[0m, in \u001b[0;36mFunction.__call__\u001b[0;34m(self, *args, **kwds)\u001b[0m\n\u001b[1;32m    826\u001b[0m tracing_count \u001b[38;5;241m=\u001b[39m \u001b[38;5;28mself\u001b[39m\u001b[38;5;241m.\u001b[39mexperimental_get_tracing_count()\n\u001b[1;32m    827\u001b[0m \u001b[38;5;28;01mwith\u001b[39;00m trace\u001b[38;5;241m.\u001b[39mTrace(\u001b[38;5;28mself\u001b[39m\u001b[38;5;241m.\u001b[39m_name) \u001b[38;5;28;01mas\u001b[39;00m tm:\n\u001b[0;32m--> 828\u001b[0m   result \u001b[38;5;241m=\u001b[39m \u001b[38;5;28;43mself\u001b[39;49m\u001b[38;5;241;43m.\u001b[39;49m\u001b[43m_call\u001b[49m\u001b[43m(\u001b[49m\u001b[38;5;241;43m*\u001b[39;49m\u001b[43margs\u001b[49m\u001b[43m,\u001b[49m\u001b[43m \u001b[49m\u001b[38;5;241;43m*\u001b[39;49m\u001b[38;5;241;43m*\u001b[39;49m\u001b[43mkwds\u001b[49m\u001b[43m)\u001b[49m\n\u001b[1;32m    829\u001b[0m   compiler \u001b[38;5;241m=\u001b[39m \u001b[38;5;124m\"\u001b[39m\u001b[38;5;124mxla\u001b[39m\u001b[38;5;124m\"\u001b[39m \u001b[38;5;28;01mif\u001b[39;00m \u001b[38;5;28mself\u001b[39m\u001b[38;5;241m.\u001b[39m_experimental_compile \u001b[38;5;28;01melse\u001b[39;00m \u001b[38;5;124m\"\u001b[39m\u001b[38;5;124mnonXla\u001b[39m\u001b[38;5;124m\"\u001b[39m\n\u001b[1;32m    830\u001b[0m   new_tracing_count \u001b[38;5;241m=\u001b[39m \u001b[38;5;28mself\u001b[39m\u001b[38;5;241m.\u001b[39mexperimental_get_tracing_count()\n",
      "File \u001b[0;32m/home/ubuntu/anaconda3/envs/smartpot/lib/python3.9/site-packages/tensorflow/python/eager/def_function.py:855\u001b[0m, in \u001b[0;36mFunction._call\u001b[0;34m(self, *args, **kwds)\u001b[0m\n\u001b[1;32m    852\u001b[0m   \u001b[38;5;28mself\u001b[39m\u001b[38;5;241m.\u001b[39m_lock\u001b[38;5;241m.\u001b[39mrelease()\n\u001b[1;32m    853\u001b[0m   \u001b[38;5;66;03m# In this case we have created variables on the first call, so we run the\u001b[39;00m\n\u001b[1;32m    854\u001b[0m   \u001b[38;5;66;03m# defunned version which is guaranteed to never create variables.\u001b[39;00m\n\u001b[0;32m--> 855\u001b[0m   \u001b[38;5;28;01mreturn\u001b[39;00m \u001b[38;5;28;43mself\u001b[39;49m\u001b[38;5;241;43m.\u001b[39;49m\u001b[43m_stateless_fn\u001b[49m\u001b[43m(\u001b[49m\u001b[38;5;241;43m*\u001b[39;49m\u001b[43margs\u001b[49m\u001b[43m,\u001b[49m\u001b[43m \u001b[49m\u001b[38;5;241;43m*\u001b[39;49m\u001b[38;5;241;43m*\u001b[39;49m\u001b[43mkwds\u001b[49m\u001b[43m)\u001b[49m  \u001b[38;5;66;03m# pylint: disable=not-callable\u001b[39;00m\n\u001b[1;32m    856\u001b[0m \u001b[38;5;28;01melif\u001b[39;00m \u001b[38;5;28mself\u001b[39m\u001b[38;5;241m.\u001b[39m_stateful_fn \u001b[38;5;129;01mis\u001b[39;00m \u001b[38;5;129;01mnot\u001b[39;00m \u001b[38;5;28;01mNone\u001b[39;00m:\n\u001b[1;32m    857\u001b[0m   \u001b[38;5;66;03m# Release the lock early so that multiple threads can perform the call\u001b[39;00m\n\u001b[1;32m    858\u001b[0m   \u001b[38;5;66;03m# in parallel.\u001b[39;00m\n\u001b[1;32m    859\u001b[0m   \u001b[38;5;28mself\u001b[39m\u001b[38;5;241m.\u001b[39m_lock\u001b[38;5;241m.\u001b[39mrelease()\n",
      "File \u001b[0;32m/home/ubuntu/anaconda3/envs/smartpot/lib/python3.9/site-packages/tensorflow/python/eager/function.py:2942\u001b[0m, in \u001b[0;36mFunction.__call__\u001b[0;34m(self, *args, **kwargs)\u001b[0m\n\u001b[1;32m   2939\u001b[0m \u001b[38;5;28;01mwith\u001b[39;00m \u001b[38;5;28mself\u001b[39m\u001b[38;5;241m.\u001b[39m_lock:\n\u001b[1;32m   2940\u001b[0m   (graph_function,\n\u001b[1;32m   2941\u001b[0m    filtered_flat_args) \u001b[38;5;241m=\u001b[39m \u001b[38;5;28mself\u001b[39m\u001b[38;5;241m.\u001b[39m_maybe_define_function(args, kwargs)\n\u001b[0;32m-> 2942\u001b[0m \u001b[38;5;28;01mreturn\u001b[39;00m \u001b[43mgraph_function\u001b[49m\u001b[38;5;241;43m.\u001b[39;49m\u001b[43m_call_flat\u001b[49m\u001b[43m(\u001b[49m\n\u001b[1;32m   2943\u001b[0m \u001b[43m    \u001b[49m\u001b[43mfiltered_flat_args\u001b[49m\u001b[43m,\u001b[49m\u001b[43m \u001b[49m\u001b[43mcaptured_inputs\u001b[49m\u001b[38;5;241;43m=\u001b[39;49m\u001b[43mgraph_function\u001b[49m\u001b[38;5;241;43m.\u001b[39;49m\u001b[43mcaptured_inputs\u001b[49m\u001b[43m)\u001b[49m\n",
      "File \u001b[0;32m/home/ubuntu/anaconda3/envs/smartpot/lib/python3.9/site-packages/tensorflow/python/eager/function.py:1918\u001b[0m, in \u001b[0;36mConcreteFunction._call_flat\u001b[0;34m(self, args, captured_inputs, cancellation_manager)\u001b[0m\n\u001b[1;32m   1914\u001b[0m possible_gradient_type \u001b[38;5;241m=\u001b[39m gradients_util\u001b[38;5;241m.\u001b[39mPossibleTapeGradientTypes(args)\n\u001b[1;32m   1915\u001b[0m \u001b[38;5;28;01mif\u001b[39;00m (possible_gradient_type \u001b[38;5;241m==\u001b[39m gradients_util\u001b[38;5;241m.\u001b[39mPOSSIBLE_GRADIENT_TYPES_NONE\n\u001b[1;32m   1916\u001b[0m     \u001b[38;5;129;01mand\u001b[39;00m executing_eagerly):\n\u001b[1;32m   1917\u001b[0m   \u001b[38;5;66;03m# No tape is watching; skip to running the function.\u001b[39;00m\n\u001b[0;32m-> 1918\u001b[0m   \u001b[38;5;28;01mreturn\u001b[39;00m \u001b[38;5;28mself\u001b[39m\u001b[38;5;241m.\u001b[39m_build_call_outputs(\u001b[38;5;28;43mself\u001b[39;49m\u001b[38;5;241;43m.\u001b[39;49m\u001b[43m_inference_function\u001b[49m\u001b[38;5;241;43m.\u001b[39;49m\u001b[43mcall\u001b[49m\u001b[43m(\u001b[49m\n\u001b[1;32m   1919\u001b[0m \u001b[43m      \u001b[49m\u001b[43mctx\u001b[49m\u001b[43m,\u001b[49m\u001b[43m \u001b[49m\u001b[43margs\u001b[49m\u001b[43m,\u001b[49m\u001b[43m \u001b[49m\u001b[43mcancellation_manager\u001b[49m\u001b[38;5;241;43m=\u001b[39;49m\u001b[43mcancellation_manager\u001b[49m\u001b[43m)\u001b[49m)\n\u001b[1;32m   1920\u001b[0m forward_backward \u001b[38;5;241m=\u001b[39m \u001b[38;5;28mself\u001b[39m\u001b[38;5;241m.\u001b[39m_select_forward_and_backward_functions(\n\u001b[1;32m   1921\u001b[0m     args,\n\u001b[1;32m   1922\u001b[0m     possible_gradient_type,\n\u001b[1;32m   1923\u001b[0m     executing_eagerly)\n\u001b[1;32m   1924\u001b[0m forward_function, args_with_tangents \u001b[38;5;241m=\u001b[39m forward_backward\u001b[38;5;241m.\u001b[39mforward()\n",
      "File \u001b[0;32m/home/ubuntu/anaconda3/envs/smartpot/lib/python3.9/site-packages/tensorflow/python/eager/function.py:555\u001b[0m, in \u001b[0;36m_EagerDefinedFunction.call\u001b[0;34m(self, ctx, args, cancellation_manager)\u001b[0m\n\u001b[1;32m    553\u001b[0m \u001b[38;5;28;01mwith\u001b[39;00m _InterpolateFunctionError(\u001b[38;5;28mself\u001b[39m):\n\u001b[1;32m    554\u001b[0m   \u001b[38;5;28;01mif\u001b[39;00m cancellation_manager \u001b[38;5;129;01mis\u001b[39;00m \u001b[38;5;28;01mNone\u001b[39;00m:\n\u001b[0;32m--> 555\u001b[0m     outputs \u001b[38;5;241m=\u001b[39m \u001b[43mexecute\u001b[49m\u001b[38;5;241;43m.\u001b[39;49m\u001b[43mexecute\u001b[49m\u001b[43m(\u001b[49m\n\u001b[1;32m    556\u001b[0m \u001b[43m        \u001b[49m\u001b[38;5;28;43mstr\u001b[39;49m\u001b[43m(\u001b[49m\u001b[38;5;28;43mself\u001b[39;49m\u001b[38;5;241;43m.\u001b[39;49m\u001b[43msignature\u001b[49m\u001b[38;5;241;43m.\u001b[39;49m\u001b[43mname\u001b[49m\u001b[43m)\u001b[49m\u001b[43m,\u001b[49m\n\u001b[1;32m    557\u001b[0m \u001b[43m        \u001b[49m\u001b[43mnum_outputs\u001b[49m\u001b[38;5;241;43m=\u001b[39;49m\u001b[38;5;28;43mself\u001b[39;49m\u001b[38;5;241;43m.\u001b[39;49m\u001b[43m_num_outputs\u001b[49m\u001b[43m,\u001b[49m\n\u001b[1;32m    558\u001b[0m \u001b[43m        \u001b[49m\u001b[43minputs\u001b[49m\u001b[38;5;241;43m=\u001b[39;49m\u001b[43margs\u001b[49m\u001b[43m,\u001b[49m\n\u001b[1;32m    559\u001b[0m \u001b[43m        \u001b[49m\u001b[43mattrs\u001b[49m\u001b[38;5;241;43m=\u001b[39;49m\u001b[43mattrs\u001b[49m\u001b[43m,\u001b[49m\n\u001b[1;32m    560\u001b[0m \u001b[43m        \u001b[49m\u001b[43mctx\u001b[49m\u001b[38;5;241;43m=\u001b[39;49m\u001b[43mctx\u001b[49m\u001b[43m)\u001b[49m\n\u001b[1;32m    561\u001b[0m   \u001b[38;5;28;01melse\u001b[39;00m:\n\u001b[1;32m    562\u001b[0m     outputs \u001b[38;5;241m=\u001b[39m execute\u001b[38;5;241m.\u001b[39mexecute_with_cancellation(\n\u001b[1;32m    563\u001b[0m         \u001b[38;5;28mstr\u001b[39m(\u001b[38;5;28mself\u001b[39m\u001b[38;5;241m.\u001b[39msignature\u001b[38;5;241m.\u001b[39mname),\n\u001b[1;32m    564\u001b[0m         num_outputs\u001b[38;5;241m=\u001b[39m\u001b[38;5;28mself\u001b[39m\u001b[38;5;241m.\u001b[39m_num_outputs,\n\u001b[0;32m   (...)\u001b[0m\n\u001b[1;32m    567\u001b[0m         ctx\u001b[38;5;241m=\u001b[39mctx,\n\u001b[1;32m    568\u001b[0m         cancellation_manager\u001b[38;5;241m=\u001b[39mcancellation_manager)\n",
      "File \u001b[0;32m/home/ubuntu/anaconda3/envs/smartpot/lib/python3.9/site-packages/tensorflow/python/eager/execute.py:59\u001b[0m, in \u001b[0;36mquick_execute\u001b[0;34m(op_name, num_outputs, inputs, attrs, ctx, name)\u001b[0m\n\u001b[1;32m     57\u001b[0m \u001b[38;5;28;01mtry\u001b[39;00m:\n\u001b[1;32m     58\u001b[0m   ctx\u001b[38;5;241m.\u001b[39mensure_initialized()\n\u001b[0;32m---> 59\u001b[0m   tensors \u001b[38;5;241m=\u001b[39m \u001b[43mpywrap_tfe\u001b[49m\u001b[38;5;241;43m.\u001b[39;49m\u001b[43mTFE_Py_Execute\u001b[49m\u001b[43m(\u001b[49m\u001b[43mctx\u001b[49m\u001b[38;5;241;43m.\u001b[39;49m\u001b[43m_handle\u001b[49m\u001b[43m,\u001b[49m\u001b[43m \u001b[49m\u001b[43mdevice_name\u001b[49m\u001b[43m,\u001b[49m\u001b[43m \u001b[49m\u001b[43mop_name\u001b[49m\u001b[43m,\u001b[49m\n\u001b[1;32m     60\u001b[0m \u001b[43m                                      \u001b[49m\u001b[43minputs\u001b[49m\u001b[43m,\u001b[49m\u001b[43m \u001b[49m\u001b[43mattrs\u001b[49m\u001b[43m,\u001b[49m\u001b[43m \u001b[49m\u001b[43mnum_outputs\u001b[49m\u001b[43m)\u001b[49m\n\u001b[1;32m     61\u001b[0m \u001b[38;5;28;01mexcept\u001b[39;00m core\u001b[38;5;241m.\u001b[39m_NotOkStatusException \u001b[38;5;28;01mas\u001b[39;00m e:\n\u001b[1;32m     62\u001b[0m   \u001b[38;5;28;01mif\u001b[39;00m name \u001b[38;5;129;01mis\u001b[39;00m \u001b[38;5;129;01mnot\u001b[39;00m \u001b[38;5;28;01mNone\u001b[39;00m:\n",
      "\u001b[0;31mKeyboardInterrupt\u001b[0m: "
     ]
    }
   ],
   "source": [
    "config_default = {\n",
    "    'pretrain_net': 'inception',\n",
    "    'epochs' : 1000,\n",
    "    'batch_size': 50,\n",
    "    'dropout' : 0.2,\n",
    "    'learning_rate' : 1e-3,\n",
    "    'activation': 'relu',\n",
    "    'optimizer': 'rmsprop',\n",
    "    'dense': 32,\n",
    "}\n",
    "wandb.init(project='lettuce',\n",
    "          config=config_default)\n",
    "config = wandb.config\n",
    "IMAGE_SIZE = 320\n",
    "\n",
    "train_generator = train_gen.flow_from_dataframe(train_df, \n",
    "                                           x_col='image',\n",
    "                                           y_col=['disease', 'grow'],\n",
    "                                           target_size=(IMAGE_SIZE, IMAGE_SIZE),\n",
    "                                           class_mode='multi_output',\n",
    "                                           batch_size=config.batch_size)\n",
    "valid_generator = valid_gen.flow_from_dataframe(test_df,\n",
    "                                           x_col='image',\n",
    "                                           y_col=['disease','grow'],\n",
    "                                           target_size=(IMAGE_SIZE, IMAGE_SIZE),\n",
    "                                           class_mode='multi_output',\n",
    "                                           batch_size=config.batch_size)\n",
    "\n",
    "if config.pretrain_net == 'inception' :\n",
    "    MODEL_IMAGE_SIZE = 299\n",
    "    base_model = inception_resnet_v2.InceptionResNetV2(\n",
    "        weights='imagenet',\n",
    "        include_top = False,\n",
    "        input_shape = (MODEL_IMAGE_SIZE, MODEL_IMAGE_SIZE,3)\n",
    "    )\n",
    "base_model.trainable = False \n",
    "\n",
    "# resizing model\n",
    "input_data = layers.Input((IMAGE_SIZE, IMAGE_SIZE, 3))\n",
    "x = tf.keras.layers.experimental.preprocessing.Resizing(MODEL_IMAGE_SIZE, MODEL_IMAGE_SIZE)(input_data)\n",
    "resizing = Model(inputs=input_data, outputs=x, name='resize')\n",
    "\n",
    "# model\n",
    "inputs = layers.Input(shape=(IMAGE_SIZE, IMAGE_SIZE, 3))\n",
    "x = resizing(inputs)\n",
    "x = base_model(x, training=False)\n",
    "x = layers.GlobalAveragePooling2D()(x)\n",
    "x = layers.Dropout(config.dropout)(x)\n",
    "backbone_out = layers.Dense(config.dense, activation=config.activation)(x)\n",
    "\n",
    "disease_outputs = layers.Dense(df['disease'].nunique(), activation='softmax',\n",
    "                        name = 'diease_outputs')(backbone_out)\n",
    "grow_outputs = layers.Dense(1, activation='sigmoid',\n",
    "                    name = 'grow_outputs')(backbone_out)\n",
    "\n",
    "model = Model(inputs=inputs, \n",
    "              outputs=[disease_outputs, grow_outputs],\n",
    "              name='lettuce') \n",
    "\n",
    "if config.optimizer=='rmsprop':\n",
    "    optimizer = RMSprop(learning_rate=config.learning_rate)\n",
    "\n",
    "es = EarlyStopping(monitor='loss',\n",
    "                   mode='auto',\n",
    "                  patience=5,\n",
    "                  verbose=1)\n",
    "\n",
    "######### 경로설정 ############\n",
    "ckpt_path = './toplayer_lettuce.ckpt'\n",
    "checkpointer = ModelCheckpoint(filepath=ckpt_path,\n",
    "                              monitor='val_loss',\n",
    "                              save_weights_only = True,\n",
    "                              save_best_only= True,\n",
    "                              verbose=1)\n",
    "    \n",
    "model.compile(loss={\n",
    "                  'diease_outputs' : 'sparse_categorical_crossentropy',\n",
    "                  'grow_outputs' : 'binary_crossentropy'\n",
    "              },\n",
    "              optimizer=optimizer,\n",
    "              metrics=['accuracy'])\n",
    "\n",
    "history = model.fit(train_generator,\n",
    "                  validation_data=valid_generator,\n",
    "                  verbose=1,\n",
    "                  epochs=config.epochs,\n",
    "                  callbacks=[es, checkpointer],\n",
    "                  steps_per_epoch=len(train_df)//config.batch_size)"
   ]
  },
  {
   "cell_type": "markdown",
   "id": "c07abfba",
   "metadata": {},
   "source": [
    "####################### 여기까지 ########################"
   ]
  },
  {
   "cell_type": "markdown",
   "id": "ac7a2701",
   "metadata": {},
   "source": [
    "# Sweep\n",
    "finetuning freezing rate"
   ]
  },
  {
   "cell_type": "code",
   "execution_count": 11,
   "id": "f01c7487",
   "metadata": {},
   "outputs": [],
   "source": [
    "def finetune() :\n",
    "    IMAGE_SIZE = 320\n",
    "    config_defaults = {\n",
    "        'pretrain_net': 'inception',\n",
    "        'epochs' : 1000,\n",
    "        'batch_size': 20,\n",
    "        'dropout' : 0.2,\n",
    "        'learning_rate' : 1e-3,\n",
    "        'activation': 'elu',\n",
    "        'optimizer': 'rmsprop',\n",
    "        'dense': 32,\n",
    "        'freeze_rate' : 0.3\n",
    "    }\n",
    "    wandb.init(config=config_defaults)\n",
    "    config = wandb.config\n",
    "    \n",
    "    train_generator = train_gen.flow_from_dataframe(train_df, \n",
    "                                           x_col='image',\n",
    "                                           y_col=['disease', 'grow'],\n",
    "                                           target_size=(IMAGE_SIZE, IMAGE_SIZE),\n",
    "                                           class_mode='multi_output',\n",
    "                                           batch_size=config.batch_size)\n",
    "    valid_generator = valid_gen.flow_from_dataframe(test_df,\n",
    "                                           x_col='image',\n",
    "                                           y_col=['disease','grow'],\n",
    "                                           target_size=(IMAGE_SIZE, IMAGE_SIZE),\n",
    "                                           class_mode='multi_output',\n",
    "                                           batch_size=config.batch_size)\n",
    "    \n",
    "    ################### model 구성 ####################\n",
    "    if config.pretrain_net == 'inception' :\n",
    "        MODEL_IMAGE_SIZE = 299\n",
    "        base_model = inception_resnet_v2.InceptionResNetV2(\n",
    "            weights='imagenet',\n",
    "            include_top = False,\n",
    "            input_shape = (MODEL_IMAGE_SIZE, MODEL_IMAGE_SIZE,3)\n",
    "        )\n",
    "    base_model.trainable = False \n",
    "    \n",
    "    # resizing model\n",
    "    input_data = layers.Input((IMAGE_SIZE, IMAGE_SIZE, 3))\n",
    "    x = tf.keras.layers.experimental.preprocessing.Resizing(MODEL_IMAGE_SIZE, MODEL_IMAGE_SIZE)(input_data)\n",
    "    resizing = Model(inputs=input_data, outputs=x, name='resize')\n",
    "    \n",
    "    \n",
    "    inputs = layers.Input(shape=(IMAGE_SIZE, IMAGE_SIZE, 3)) \n",
    "    x = resizing(inputs)\n",
    "    x = base_model(x, training=False)\n",
    "    x = layers.GlobalAveragePooling2D()(x)\n",
    "    x = layers.Dropout(config.dropout)(x)\n",
    "    backbone_out = layers.Dense(config.dense, activation=config.activation)(x)\n",
    "\n",
    "    disease_outputs = layers.Dense(df['disease'].nunique(), activation='softmax',\n",
    "                            name = 'diease_outputs')(backbone_out)\n",
    "    grow_outputs = layers.Dense(1, activation='sigmoid',\n",
    "                        name = 'grow_outputs')(backbone_out)\n",
    "\n",
    "    model = Model(inputs=inputs, \n",
    "                  outputs=[disease_outputs, grow_outputs],\n",
    "                  name='lettuce') \n",
    "    ###########################################################################3\n",
    "    \n",
    "    ####### top layer weight & bias loading ######\n",
    "    try :\n",
    "        ######### 경로 설정 ##########\n",
    "        ckpt_path = './toplayer_lettuce.ckpt'\n",
    "        model.load_weights=ckpt_path\n",
    "    except :\n",
    "        print('fail to load weights')\n",
    "        \n",
    "    ############### 동결 해제 ###################\n",
    "    base_model.trainable=True\n",
    "    fine_tune_at = int(len(base_model.layers) * config.freeze_rate)\n",
    "    for layer in base_model.layers[:fine_tune_at] :\n",
    "        layer.trainable = False \n",
    "        \n",
    "    if config.optimizer=='rmsprop':\n",
    "        optimizer = RMSprop(learning_rate=config.learning_rate / 10)\n",
    "        \n",
    "    model.compile(loss={\n",
    "                  'diease_outputs' : 'sparse_categorical_crossentropy',\n",
    "                  'grow_outputs' : 'binary_crossentropy'\n",
    "               },\n",
    "                optimizer=optimizer,\n",
    "                metrics=['accuracy'])\n",
    "    \n",
    "    \n",
    "    es = EarlyStopping(monitor='loss',\n",
    "                   mode='auto',\n",
    "                  patience=5,\n",
    "                  verbose=1)\n",
    "    ckpt_path_ = './finetune_lettuce_{}.ckpt'.format(config.freeze_rate)\n",
    "    checkpointer = ModelCheckpoint(filepath=ckpt_path,\n",
    "                              monitor='val_loss',\n",
    "                              save_weights_only = True,\n",
    "                              save_best_only= True,\n",
    "                              verbose=1)\n",
    "    history_fine = model.fit(train_generator,\n",
    "                              validation_data=valid_generator,\n",
    "                              verbose=1,\n",
    "                              epochs=config.epochs,\n",
    "                              callbacks=[es, WandbCallback()],\n",
    "                              steps_per_epoch=len(train_df)//config.batch_size)    "
   ]
  },
  {
   "cell_type": "code",
   "execution_count": 12,
   "id": "77a53a05",
   "metadata": {},
   "outputs": [],
   "source": [
    "sweep_config = {\n",
    "    'method': 'random',\n",
    "    'metric': {\n",
    "      'name': 'val_loss',\n",
    "      'goal': 'minimize'   \n",
    "    },\n",
    "    'parameters': {\n",
    "        'freeze_rate': {\n",
    "            'values': [0, 0.2, 0.5, 0.9]\n",
    "        }\n",
    "    }\n",
    "}"
   ]
  },
  {
   "cell_type": "code",
   "execution_count": 13,
   "id": "0506cb76",
   "metadata": {},
   "outputs": [
    {
     "name": "stderr",
     "output_type": "stream",
     "text": [
      "Failed to detect the name of this notebook, you can set it manually with the WANDB_NOTEBOOK_NAME environment variable to enable code saving.\n"
     ]
    },
    {
     "name": "stdout",
     "output_type": "stream",
     "text": [
      "Create sweep with ID: b37xduwh\n",
      "Sweep URL: https://wandb.ai/hkleee/lettuce/sweeps/b37xduwh\n"
     ]
    }
   ],
   "source": [
    "sweep_id = wandb.sweep(sweep_config, project='lettuce')"
   ]
  },
  {
   "cell_type": "code",
   "execution_count": null,
   "id": "0e95ea99",
   "metadata": {
    "scrolled": false
   },
   "outputs": [
    {
     "name": "stderr",
     "output_type": "stream",
     "text": [
      "\u001b[34m\u001b[1mwandb\u001b[0m: Agent Starting Run: 4b87ikvf with config:\n",
      "\u001b[34m\u001b[1mwandb\u001b[0m: \tfreeze_rate: 0\n",
      "Failed to detect the name of this notebook, you can set it manually with the WANDB_NOTEBOOK_NAME environment variable to enable code saving.\n",
      "\u001b[34m\u001b[1mwandb\u001b[0m: Currently logged in as: \u001b[33mhkleee\u001b[0m. Use \u001b[1m`wandb login --relogin`\u001b[0m to force relogin\n"
     ]
    },
    {
     "data": {
      "text/html": [
       "wandb version 0.12.19 is available!  To upgrade, please run:\n",
       " $ pip install wandb --upgrade"
      ],
      "text/plain": [
       "<IPython.core.display.HTML object>"
      ]
     },
     "metadata": {},
     "output_type": "display_data"
    },
    {
     "data": {
      "text/html": [
       "Tracking run with wandb version 0.12.18"
      ],
      "text/plain": [
       "<IPython.core.display.HTML object>"
      ]
     },
     "metadata": {},
     "output_type": "display_data"
    },
    {
     "data": {
      "text/html": [
       "Run data is saved locally in <code>/home/lab38/Multi_proj_6/model/multi-output/lettuce/wandb/run-20220624_152559-4b87ikvf</code>"
      ],
      "text/plain": [
       "<IPython.core.display.HTML object>"
      ]
     },
     "metadata": {},
     "output_type": "display_data"
    },
    {
     "data": {
      "text/html": [
       "Syncing run <strong><a href=\"https://wandb.ai/hkleee/lettuce/runs/4b87ikvf\" target=\"_blank\">eternal-sweep-1</a></strong> to <a href=\"https://wandb.ai/hkleee/lettuce\" target=\"_blank\">Weights & Biases</a> (<a href=\"https://wandb.me/run\" target=\"_blank\">docs</a>)<br/>Sweep page:  <a href=\"https://wandb.ai/hkleee/lettuce/sweeps/b37xduwh\" target=\"_blank\">https://wandb.ai/hkleee/lettuce/sweeps/b37xduwh</a>"
      ],
      "text/plain": [
       "<IPython.core.display.HTML object>"
      ]
     },
     "metadata": {},
     "output_type": "display_data"
    },
    {
     "name": "stdout",
     "output_type": "stream",
     "text": [
      "Found 4738 validated image filenames.\n",
      "Found 1185 validated image filenames.\n"
     ]
    },
    {
     "name": "stderr",
     "output_type": "stream",
     "text": [
      "2022-06-24 15:26:03.505082: I tensorflow/compiler/jit/xla_cpu_device.cc:41] Not creating XLA devices, tf_xla_enable_xla_devices not set\n",
      "2022-06-24 15:26:03.506152: I tensorflow/stream_executor/platform/default/dso_loader.cc:49] Successfully opened dynamic library libcuda.so.1\n",
      "2022-06-24 15:26:03.551126: I tensorflow/stream_executor/cuda/cuda_gpu_executor.cc:941] successful NUMA node read from SysFS had negative value (-1), but there must be at least one NUMA node, so returning NUMA node zero\n",
      "2022-06-24 15:26:03.551711: I tensorflow/core/common_runtime/gpu/gpu_device.cc:1720] Found device 0 with properties: \n",
      "pciBusID: 0000:00:1e.0 name: Tesla T4 computeCapability: 7.5\n",
      "coreClock: 1.59GHz coreCount: 40 deviceMemorySize: 14.75GiB deviceMemoryBandwidth: 298.08GiB/s\n",
      "2022-06-24 15:26:03.551762: I tensorflow/stream_executor/platform/default/dso_loader.cc:49] Successfully opened dynamic library libcudart.so.10.1\n",
      "2022-06-24 15:26:03.553685: I tensorflow/stream_executor/platform/default/dso_loader.cc:49] Successfully opened dynamic library libcublas.so.10\n",
      "2022-06-24 15:26:03.553786: I tensorflow/stream_executor/platform/default/dso_loader.cc:49] Successfully opened dynamic library libcublasLt.so.10\n",
      "2022-06-24 15:26:03.555512: I tensorflow/stream_executor/platform/default/dso_loader.cc:49] Successfully opened dynamic library libcufft.so.10\n",
      "2022-06-24 15:26:03.555849: I tensorflow/stream_executor/platform/default/dso_loader.cc:49] Successfully opened dynamic library libcurand.so.10\n",
      "2022-06-24 15:26:03.557849: I tensorflow/stream_executor/platform/default/dso_loader.cc:49] Successfully opened dynamic library libcusolver.so.10\n",
      "2022-06-24 15:26:03.559086: I tensorflow/stream_executor/platform/default/dso_loader.cc:49] Successfully opened dynamic library libcusparse.so.10\n",
      "2022-06-24 15:26:03.563363: I tensorflow/stream_executor/platform/default/dso_loader.cc:49] Successfully opened dynamic library libcudnn.so.7\n",
      "2022-06-24 15:26:03.563527: I tensorflow/stream_executor/cuda/cuda_gpu_executor.cc:941] successful NUMA node read from SysFS had negative value (-1), but there must be at least one NUMA node, so returning NUMA node zero\n",
      "2022-06-24 15:26:03.564161: I tensorflow/stream_executor/cuda/cuda_gpu_executor.cc:941] successful NUMA node read from SysFS had negative value (-1), but there must be at least one NUMA node, so returning NUMA node zero\n",
      "2022-06-24 15:26:03.564694: I tensorflow/core/common_runtime/gpu/gpu_device.cc:1862] Adding visible gpu devices: 0\n",
      "2022-06-24 15:26:03.565093: I tensorflow/core/platform/cpu_feature_guard.cc:142] This TensorFlow binary is optimized with oneAPI Deep Neural Network Library (oneDNN) to use the following CPU instructions in performance-critical operations:  SSE4.1 SSE4.2 AVX AVX2 AVX512F FMA\n",
      "To enable them in other operations, rebuild TensorFlow with the appropriate compiler flags.\n",
      "2022-06-24 15:26:03.565319: I tensorflow/compiler/jit/xla_gpu_device.cc:99] Not creating XLA devices, tf_xla_enable_xla_devices not set\n",
      "2022-06-24 15:26:03.565483: I tensorflow/stream_executor/cuda/cuda_gpu_executor.cc:941] successful NUMA node read from SysFS had negative value (-1), but there must be at least one NUMA node, so returning NUMA node zero\n",
      "2022-06-24 15:26:03.566042: I tensorflow/core/common_runtime/gpu/gpu_device.cc:1720] Found device 0 with properties: \n",
      "pciBusID: 0000:00:1e.0 name: Tesla T4 computeCapability: 7.5\n",
      "coreClock: 1.59GHz coreCount: 40 deviceMemorySize: 14.75GiB deviceMemoryBandwidth: 298.08GiB/s\n",
      "2022-06-24 15:26:03.566090: I tensorflow/stream_executor/platform/default/dso_loader.cc:49] Successfully opened dynamic library libcudart.so.10.1\n",
      "2022-06-24 15:26:03.566116: I tensorflow/stream_executor/platform/default/dso_loader.cc:49] Successfully opened dynamic library libcublas.so.10\n",
      "2022-06-24 15:26:03.566131: I tensorflow/stream_executor/platform/default/dso_loader.cc:49] Successfully opened dynamic library libcublasLt.so.10\n",
      "2022-06-24 15:26:03.566146: I tensorflow/stream_executor/platform/default/dso_loader.cc:49] Successfully opened dynamic library libcufft.so.10\n",
      "2022-06-24 15:26:03.566161: I tensorflow/stream_executor/platform/default/dso_loader.cc:49] Successfully opened dynamic library libcurand.so.10\n",
      "2022-06-24 15:26:03.566176: I tensorflow/stream_executor/platform/default/dso_loader.cc:49] Successfully opened dynamic library libcusolver.so.10\n",
      "2022-06-24 15:26:03.566193: I tensorflow/stream_executor/platform/default/dso_loader.cc:49] Successfully opened dynamic library libcusparse.so.10\n",
      "2022-06-24 15:26:03.566208: I tensorflow/stream_executor/platform/default/dso_loader.cc:49] Successfully opened dynamic library libcudnn.so.7\n",
      "2022-06-24 15:26:03.566287: I tensorflow/stream_executor/cuda/cuda_gpu_executor.cc:941] successful NUMA node read from SysFS had negative value (-1), but there must be at least one NUMA node, so returning NUMA node zero\n",
      "2022-06-24 15:26:03.566867: I tensorflow/stream_executor/cuda/cuda_gpu_executor.cc:941] successful NUMA node read from SysFS had negative value (-1), but there must be at least one NUMA node, so returning NUMA node zero\n",
      "2022-06-24 15:26:03.567404: I tensorflow/core/common_runtime/gpu/gpu_device.cc:1862] Adding visible gpu devices: 0\n",
      "2022-06-24 15:26:03.567454: I tensorflow/stream_executor/platform/default/dso_loader.cc:49] Successfully opened dynamic library libcudart.so.10.1\n",
      "2022-06-24 15:26:04.200631: I tensorflow/core/common_runtime/gpu/gpu_device.cc:1261] Device interconnect StreamExecutor with strength 1 edge matrix:\n",
      "2022-06-24 15:26:04.200658: I tensorflow/core/common_runtime/gpu/gpu_device.cc:1267]      0 \n",
      "2022-06-24 15:26:04.200665: I tensorflow/core/common_runtime/gpu/gpu_device.cc:1280] 0:   N \n",
      "2022-06-24 15:26:04.200923: I tensorflow/stream_executor/cuda/cuda_gpu_executor.cc:941] successful NUMA node read from SysFS had negative value (-1), but there must be at least one NUMA node, so returning NUMA node zero\n",
      "2022-06-24 15:26:04.201567: I tensorflow/stream_executor/cuda/cuda_gpu_executor.cc:941] successful NUMA node read from SysFS had negative value (-1), but there must be at least one NUMA node, so returning NUMA node zero\n",
      "2022-06-24 15:26:04.202135: I tensorflow/stream_executor/cuda/cuda_gpu_executor.cc:941] successful NUMA node read from SysFS had negative value (-1), but there must be at least one NUMA node, so returning NUMA node zero\n",
      "2022-06-24 15:26:04.202669: I tensorflow/core/common_runtime/gpu/gpu_device.cc:1406] Created TensorFlow device (/job:localhost/replica:0/task:0/device:GPU:0 with 13970 MB memory) -> physical GPU (device: 0, name: Tesla T4, pci bus id: 0000:00:1e.0, compute capability: 7.5)\n",
      "\u001b[34m\u001b[1mwandb\u001b[0m: \u001b[33mWARNING\u001b[0m The save_model argument by default saves the model in the HDF5 format that cannot save custom objects like subclassed models and custom layers. This behavior will be deprecated in a future release in favor of the SavedModel format. Meanwhile, the HDF5 model is saved as W&B files and the SavedModel as W&B Artifacts.\n",
      "2022-06-24 15:26:10.230986: I tensorflow/compiler/mlir/mlir_graph_optimization_pass.cc:116] None of the MLIR optimization passes are enabled (registered 2)\n",
      "2022-06-24 15:26:10.248903: I tensorflow/core/platform/profile_utils/cpu_utils.cc:112] CPU Frequency: 2499995000 Hz\n"
     ]
    },
    {
     "name": "stdout",
     "output_type": "stream",
     "text": [
      "Epoch 1/1000\n"
     ]
    },
    {
     "name": "stderr",
     "output_type": "stream",
     "text": [
      "2022-06-24 15:26:33.964586: I tensorflow/stream_executor/platform/default/dso_loader.cc:49] Successfully opened dynamic library libcublas.so.10\n",
      "2022-06-24 15:26:34.243722: I tensorflow/stream_executor/platform/default/dso_loader.cc:49] Successfully opened dynamic library libcudnn.so.7\n"
     ]
    },
    {
     "name": "stdout",
     "output_type": "stream",
     "text": [
      "236/236 [==============================] - 209s 768ms/step - loss: 1.0966 - diease_outputs_loss: 0.8057 - grow_outputs_loss: 0.2909 - diease_outputs_accuracy: 0.6728 - grow_outputs_accuracy: 0.8831 - val_loss: 0.2711 - val_diease_outputs_loss: 0.1890 - val_grow_outputs_loss: 0.0821 - val_diease_outputs_accuracy: 0.9401 - val_grow_outputs_accuracy: 0.9705\n",
      "Epoch 2/1000\n",
      "236/236 [==============================] - 179s 756ms/step - loss: 0.3826 - diease_outputs_loss: 0.2673 - grow_outputs_loss: 0.1153 - diease_outputs_accuracy: 0.9017 - grow_outputs_accuracy: 0.9590 - val_loss: 0.2547 - val_diease_outputs_loss: 0.1703 - val_grow_outputs_loss: 0.0844 - val_diease_outputs_accuracy: 0.9468 - val_grow_outputs_accuracy: 0.9781\n",
      "Epoch 3/1000\n",
      "236/236 [==============================] - 180s 759ms/step - loss: 0.3048 - diease_outputs_loss: 0.2199 - grow_outputs_loss: 0.0848 - diease_outputs_accuracy: 0.9315 - grow_outputs_accuracy: 0.9719 - val_loss: 0.3193 - val_diease_outputs_loss: 0.1182 - val_grow_outputs_loss: 0.2011 - val_diease_outputs_accuracy: 0.9586 - val_grow_outputs_accuracy: 0.9603\n",
      "Epoch 4/1000\n",
      "236/236 [==============================] - 178s 752ms/step - loss: 0.2746 - diease_outputs_loss: 0.1783 - grow_outputs_loss: 0.0962 - diease_outputs_accuracy: 0.9447 - grow_outputs_accuracy: 0.9726 - val_loss: 0.1824 - val_diease_outputs_loss: 0.1286 - val_grow_outputs_loss: 0.0538 - val_diease_outputs_accuracy: 0.9586 - val_grow_outputs_accuracy: 0.9890\n",
      "Epoch 5/1000\n",
      "236/236 [==============================] - 170s 719ms/step - loss: 0.2412 - diease_outputs_loss: 0.1613 - grow_outputs_loss: 0.0799 - diease_outputs_accuracy: 0.9529 - grow_outputs_accuracy: 0.9750 - val_loss: 0.1466 - val_diease_outputs_loss: 0.0976 - val_grow_outputs_loss: 0.0490 - val_diease_outputs_accuracy: 0.9705 - val_grow_outputs_accuracy: 0.9848\n",
      "Epoch 6/1000\n",
      "236/236 [==============================] - 175s 739ms/step - loss: 0.2486 - diease_outputs_loss: 0.1807 - grow_outputs_loss: 0.0679 - diease_outputs_accuracy: 0.9485 - grow_outputs_accuracy: 0.9768 - val_loss: 0.1740 - val_diease_outputs_loss: 0.1241 - val_grow_outputs_loss: 0.0498 - val_diease_outputs_accuracy: 0.9637 - val_grow_outputs_accuracy: 0.9797\n",
      "Epoch 7/1000\n",
      "236/236 [==============================] - 170s 720ms/step - loss: 0.1775 - diease_outputs_loss: 0.1200 - grow_outputs_loss: 0.0576 - diease_outputs_accuracy: 0.9599 - grow_outputs_accuracy: 0.9815 - val_loss: 0.1375 - val_diease_outputs_loss: 0.1030 - val_grow_outputs_loss: 0.0345 - val_diease_outputs_accuracy: 0.9705 - val_grow_outputs_accuracy: 0.9899\n",
      "Epoch 8/1000\n",
      "236/236 [==============================] - 171s 723ms/step - loss: 0.1823 - diease_outputs_loss: 0.1291 - grow_outputs_loss: 0.0532 - diease_outputs_accuracy: 0.9551 - grow_outputs_accuracy: 0.9834 - val_loss: 0.1874 - val_diease_outputs_loss: 0.1328 - val_grow_outputs_loss: 0.0545 - val_diease_outputs_accuracy: 0.9637 - val_grow_outputs_accuracy: 0.9865\n",
      "Epoch 9/1000\n",
      "236/236 [==============================] - 177s 747ms/step - loss: 0.1991 - diease_outputs_loss: 0.1444 - grow_outputs_loss: 0.0547 - diease_outputs_accuracy: 0.9581 - grow_outputs_accuracy: 0.9828 - val_loss: 0.1679 - val_diease_outputs_loss: 0.1249 - val_grow_outputs_loss: 0.0430 - val_diease_outputs_accuracy: 0.9646 - val_grow_outputs_accuracy: 0.9907\n",
      "Epoch 10/1000\n",
      "236/236 [==============================] - 178s 753ms/step - loss: 0.2210 - diease_outputs_loss: 0.1644 - grow_outputs_loss: 0.0566 - diease_outputs_accuracy: 0.9580 - grow_outputs_accuracy: 0.9829 - val_loss: 0.1312 - val_diease_outputs_loss: 0.0876 - val_grow_outputs_loss: 0.0436 - val_diease_outputs_accuracy: 0.9705 - val_grow_outputs_accuracy: 0.9865\n",
      "Epoch 11/1000\n",
      "236/236 [==============================] - 178s 753ms/step - loss: 0.1977 - diease_outputs_loss: 0.1294 - grow_outputs_loss: 0.0683 - diease_outputs_accuracy: 0.9646 - grow_outputs_accuracy: 0.9767 - val_loss: 0.1405 - val_diease_outputs_loss: 0.0896 - val_grow_outputs_loss: 0.0509 - val_diease_outputs_accuracy: 0.9696 - val_grow_outputs_accuracy: 0.9831\n",
      "Epoch 12/1000\n",
      "236/236 [==============================] - 174s 738ms/step - loss: 0.1632 - diease_outputs_loss: 0.1047 - grow_outputs_loss: 0.0585 - diease_outputs_accuracy: 0.9662 - grow_outputs_accuracy: 0.9832 - val_loss: 0.1424 - val_diease_outputs_loss: 0.1055 - val_grow_outputs_loss: 0.0369 - val_diease_outputs_accuracy: 0.9688 - val_grow_outputs_accuracy: 0.9899\n",
      "Epoch 00012: early stopping\n"
     ]
    },
    {
     "data": {
      "text/html": [
       "Waiting for W&B process to finish... <strong style=\"color:green\">(success).</strong>"
      ],
      "text/plain": [
       "<IPython.core.display.HTML object>"
      ]
     },
     "metadata": {},
     "output_type": "display_data"
    },
    {
     "data": {
      "text/html": [
       "<style>\n",
       "    table.wandb td:nth-child(1) { padding: 0 10px; text-align: left ; width: auto;} td:nth-child(2) {text-align: left ; width: 100%}\n",
       "    .wandb-row { display: flex; flex-direction: row; flex-wrap: wrap; justify-content: flex-start; width: 100% }\n",
       "    .wandb-col { display: flex; flex-direction: column; flex-basis: 100%; flex: 1; padding: 10px; }\n",
       "    </style>\n",
       "<div class=\"wandb-row\"><div class=\"wandb-col\"><h3>Run history:</h3><br/><table class=\"wandb\"><tr><td>diease_outputs_accuracy</td><td>▁▆▇▇▇▇██████</td></tr><tr><td>diease_outputs_loss</td><td>█▃▂▂▂▂▁▁▁▂▁▁</td></tr><tr><td>epoch</td><td>▁▂▂▃▄▄▅▅▆▇▇█</td></tr><tr><td>grow_outputs_accuracy</td><td>▁▆▇▇▇▇██████</td></tr><tr><td>grow_outputs_loss</td><td>█▄▃▂▂▂▁▁▁▁▁▁</td></tr><tr><td>loss</td><td>█▃▂▂▂▂▁▁▁▁▁▁</td></tr><tr><td>val_diease_outputs_accuracy</td><td>▁▃▅▅█▆█▆▇███</td></tr><tr><td>val_diease_outputs_loss</td><td>█▇▃▄▂▄▂▄▄▁▁▂</td></tr><tr><td>val_grow_outputs_accuracy</td><td>▃▅▁█▇▅█▇█▇▆█</td></tr><tr><td>val_grow_outputs_loss</td><td>▃▃█▂▂▂▁▂▁▁▂▁</td></tr><tr><td>val_loss</td><td>▆▆█▃▂▃▁▃▂▁▁▁</td></tr></table><br/></div><div class=\"wandb-col\"><h3>Run summary:</h3><br/><table class=\"wandb\"><tr><td>best_epoch</td><td>9</td></tr><tr><td>best_val_loss</td><td>0.13125</td></tr><tr><td>diease_outputs_accuracy</td><td>0.95719</td></tr><tr><td>diease_outputs_loss</td><td>0.13235</td></tr><tr><td>epoch</td><td>11</td></tr><tr><td>grow_outputs_accuracy</td><td>0.98008</td></tr><tr><td>grow_outputs_loss</td><td>0.06543</td></tr><tr><td>loss</td><td>0.19779</td></tr><tr><td>val_diease_outputs_accuracy</td><td>0.96878</td></tr><tr><td>val_diease_outputs_loss</td><td>0.10546</td></tr><tr><td>val_grow_outputs_accuracy</td><td>0.98987</td></tr><tr><td>val_grow_outputs_loss</td><td>0.03692</td></tr><tr><td>val_loss</td><td>0.14238</td></tr></table><br/></div></div>"
      ],
      "text/plain": [
       "<IPython.core.display.HTML object>"
      ]
     },
     "metadata": {},
     "output_type": "display_data"
    },
    {
     "data": {
      "text/html": [
       "Synced <strong style=\"color:#cdcd00\">eternal-sweep-1</strong>: <a href=\"https://wandb.ai/hkleee/lettuce/runs/4b87ikvf\" target=\"_blank\">https://wandb.ai/hkleee/lettuce/runs/4b87ikvf</a><br/>Synced 6 W&B file(s), 1 media file(s), 0 artifact file(s) and 1 other file(s)"
      ],
      "text/plain": [
       "<IPython.core.display.HTML object>"
      ]
     },
     "metadata": {},
     "output_type": "display_data"
    },
    {
     "data": {
      "text/html": [
       "Find logs at: <code>./wandb/run-20220624_152559-4b87ikvf/logs</code>"
      ],
      "text/plain": [
       "<IPython.core.display.HTML object>"
      ]
     },
     "metadata": {},
     "output_type": "display_data"
    },
    {
     "name": "stderr",
     "output_type": "stream",
     "text": [
      "\u001b[34m\u001b[1mwandb\u001b[0m: Agent Starting Run: ue816kfw with config:\n",
      "\u001b[34m\u001b[1mwandb\u001b[0m: \tfreeze_rate: 0.5\n",
      "Failed to detect the name of this notebook, you can set it manually with the WANDB_NOTEBOOK_NAME environment variable to enable code saving.\n"
     ]
    },
    {
     "data": {
      "text/html": [
       "wandb version 0.12.19 is available!  To upgrade, please run:\n",
       " $ pip install wandb --upgrade"
      ],
      "text/plain": [
       "<IPython.core.display.HTML object>"
      ]
     },
     "metadata": {},
     "output_type": "display_data"
    },
    {
     "data": {
      "text/html": [
       "Tracking run with wandb version 0.12.18"
      ],
      "text/plain": [
       "<IPython.core.display.HTML object>"
      ]
     },
     "metadata": {},
     "output_type": "display_data"
    },
    {
     "data": {
      "text/html": [
       "Run data is saved locally in <code>/home/lab38/Multi_proj_6/model/multi-output/lettuce/wandb/run-20220624_160225-ue816kfw</code>"
      ],
      "text/plain": [
       "<IPython.core.display.HTML object>"
      ]
     },
     "metadata": {},
     "output_type": "display_data"
    },
    {
     "data": {
      "text/html": [
       "Syncing run <strong><a href=\"https://wandb.ai/hkleee/lettuce/runs/ue816kfw\" target=\"_blank\">laced-sweep-2</a></strong> to <a href=\"https://wandb.ai/hkleee/lettuce\" target=\"_blank\">Weights & Biases</a> (<a href=\"https://wandb.me/run\" target=\"_blank\">docs</a>)<br/>Sweep page:  <a href=\"https://wandb.ai/hkleee/lettuce/sweeps/b37xduwh\" target=\"_blank\">https://wandb.ai/hkleee/lettuce/sweeps/b37xduwh</a>"
      ],
      "text/plain": [
       "<IPython.core.display.HTML object>"
      ]
     },
     "metadata": {},
     "output_type": "display_data"
    },
    {
     "name": "stdout",
     "output_type": "stream",
     "text": [
      "Found 4738 validated image filenames.\n",
      "Found 1185 validated image filenames.\n",
      "Epoch 1/1000\n",
      "236/236 [==============================] - 131s 489ms/step - loss: 1.1186 - diease_outputs_loss: 0.8280 - grow_outputs_loss: 0.2905 - diease_outputs_accuracy: 0.6830 - grow_outputs_accuracy: 0.8835 - val_loss: 0.3333 - val_diease_outputs_loss: 0.2802 - val_grow_outputs_loss: 0.0531 - val_diease_outputs_accuracy: 0.9089 - val_grow_outputs_accuracy: 0.9840\n",
      "Epoch 2/1000\n",
      "236/236 [==============================] - 112s 475ms/step - loss: 0.3293 - diease_outputs_loss: 0.2396 - grow_outputs_loss: 0.0897 - diease_outputs_accuracy: 0.9231 - grow_outputs_accuracy: 0.9670 - val_loss: 0.4484 - val_diease_outputs_loss: 0.3726 - val_grow_outputs_loss: 0.0758 - val_diease_outputs_accuracy: 0.8582 - val_grow_outputs_accuracy: 0.9705\n",
      "Epoch 3/1000\n",
      "236/236 [==============================] - 114s 480ms/step - loss: 0.2108 - diease_outputs_loss: 0.1428 - grow_outputs_loss: 0.0681 - diease_outputs_accuracy: 0.9518 - grow_outputs_accuracy: 0.9766 - val_loss: 0.1656 - val_diease_outputs_loss: 0.1312 - val_grow_outputs_loss: 0.0344 - val_diease_outputs_accuracy: 0.9578 - val_grow_outputs_accuracy: 0.9924\n",
      "Epoch 4/1000\n",
      "236/236 [==============================] - 115s 487ms/step - loss: 0.2014 - diease_outputs_loss: 0.1361 - grow_outputs_loss: 0.0654 - diease_outputs_accuracy: 0.9592 - grow_outputs_accuracy: 0.9767 - val_loss: 0.1430 - val_diease_outputs_loss: 0.1125 - val_grow_outputs_loss: 0.0305 - val_diease_outputs_accuracy: 0.9578 - val_grow_outputs_accuracy: 0.9907\n",
      "Epoch 5/1000\n",
      "236/236 [==============================] - 116s 489ms/step - loss: 0.1586 - diease_outputs_loss: 0.1170 - grow_outputs_loss: 0.0417 - diease_outputs_accuracy: 0.9614 - grow_outputs_accuracy: 0.9852 - val_loss: 0.4292 - val_diease_outputs_loss: 0.0959 - val_grow_outputs_loss: 0.3333 - val_diease_outputs_accuracy: 0.9713 - val_grow_outputs_accuracy: 0.9629\n",
      "Epoch 6/1000\n",
      "236/236 [==============================] - 116s 489ms/step - loss: 0.1531 - diease_outputs_loss: 0.1078 - grow_outputs_loss: 0.0453 - diease_outputs_accuracy: 0.9665 - grow_outputs_accuracy: 0.9842 - val_loss: 0.1543 - val_diease_outputs_loss: 0.1224 - val_grow_outputs_loss: 0.0319 - val_diease_outputs_accuracy: 0.9646 - val_grow_outputs_accuracy: 0.9848\n",
      "Epoch 7/1000\n",
      "236/236 [==============================] - 116s 489ms/step - loss: 0.1472 - diease_outputs_loss: 0.1043 - grow_outputs_loss: 0.0429 - diease_outputs_accuracy: 0.9724 - grow_outputs_accuracy: 0.9888 - val_loss: 0.1862 - val_diease_outputs_loss: 0.1682 - val_grow_outputs_loss: 0.0180 - val_diease_outputs_accuracy: 0.9722 - val_grow_outputs_accuracy: 0.9941\n",
      "Epoch 8/1000\n",
      "236/236 [==============================] - 116s 489ms/step - loss: 0.1474 - diease_outputs_loss: 0.1111 - grow_outputs_loss: 0.0363 - diease_outputs_accuracy: 0.9716 - grow_outputs_accuracy: 0.9898 - val_loss: 0.1227 - val_diease_outputs_loss: 0.0937 - val_grow_outputs_loss: 0.0290 - val_diease_outputs_accuracy: 0.9705 - val_grow_outputs_accuracy: 0.9899\n",
      "Epoch 9/1000\n",
      "236/236 [==============================] - 116s 490ms/step - loss: 0.1291 - diease_outputs_loss: 0.0946 - grow_outputs_loss: 0.0345 - diease_outputs_accuracy: 0.9721 - grow_outputs_accuracy: 0.9903 - val_loss: 0.3929 - val_diease_outputs_loss: 0.3449 - val_grow_outputs_loss: 0.0480 - val_diease_outputs_accuracy: 0.9384 - val_grow_outputs_accuracy: 0.9890\n",
      "Epoch 10/1000\n",
      "236/236 [==============================] - 116s 489ms/step - loss: 0.1580 - diease_outputs_loss: 0.1152 - grow_outputs_loss: 0.0428 - diease_outputs_accuracy: 0.9651 - grow_outputs_accuracy: 0.9891 - val_loss: 0.2305 - val_diease_outputs_loss: 0.1451 - val_grow_outputs_loss: 0.0854 - val_diease_outputs_accuracy: 0.9654 - val_grow_outputs_accuracy: 0.9831\n",
      "Epoch 11/1000\n",
      "236/236 [==============================] - 116s 489ms/step - loss: 0.1270 - diease_outputs_loss: 0.0980 - grow_outputs_loss: 0.0290 - diease_outputs_accuracy: 0.9760 - grow_outputs_accuracy: 0.9906 - val_loss: 0.1817 - val_diease_outputs_loss: 0.1217 - val_grow_outputs_loss: 0.0600 - val_diease_outputs_accuracy: 0.9671 - val_grow_outputs_accuracy: 0.9848\n",
      "Epoch 12/1000\n",
      "236/236 [==============================] - 116s 490ms/step - loss: 0.1611 - diease_outputs_loss: 0.1223 - grow_outputs_loss: 0.0388 - diease_outputs_accuracy: 0.9758 - grow_outputs_accuracy: 0.9877 - val_loss: 0.1958 - val_diease_outputs_loss: 0.1584 - val_grow_outputs_loss: 0.0374 - val_diease_outputs_accuracy: 0.9688 - val_grow_outputs_accuracy: 0.9882\n",
      "Epoch 13/1000\n",
      "236/236 [==============================] - 115s 488ms/step - loss: 0.1785 - diease_outputs_loss: 0.1036 - grow_outputs_loss: 0.0749 - diease_outputs_accuracy: 0.9721 - grow_outputs_accuracy: 0.9888 - val_loss: 0.4680 - val_diease_outputs_loss: 0.4388 - val_grow_outputs_loss: 0.0292 - val_diease_outputs_accuracy: 0.8751 - val_grow_outputs_accuracy: 0.9932\n",
      "Epoch 14/1000\n",
      "236/236 [==============================] - 113s 477ms/step - loss: 0.1615 - diease_outputs_loss: 0.1187 - grow_outputs_loss: 0.0428 - diease_outputs_accuracy: 0.9749 - grow_outputs_accuracy: 0.9894 - val_loss: 0.3396 - val_diease_outputs_loss: 0.1494 - val_grow_outputs_loss: 0.1901 - val_diease_outputs_accuracy: 0.9536 - val_grow_outputs_accuracy: 0.9350\n",
      "Epoch 00014: early stopping\n"
     ]
    },
    {
     "data": {
      "text/html": [
       "Waiting for W&B process to finish... <strong style=\"color:green\">(success).</strong>"
      ],
      "text/plain": [
       "<IPython.core.display.HTML object>"
      ]
     },
     "metadata": {},
     "output_type": "display_data"
    },
    {
     "data": {
      "text/html": [
       "<style>\n",
       "    table.wandb td:nth-child(1) { padding: 0 10px; text-align: left ; width: auto;} td:nth-child(2) {text-align: left ; width: 100%}\n",
       "    .wandb-row { display: flex; flex-direction: row; flex-wrap: wrap; justify-content: flex-start; width: 100% }\n",
       "    .wandb-col { display: flex; flex-direction: column; flex-basis: 100%; flex: 1; padding: 10px; }\n",
       "    </style>\n",
       "<div class=\"wandb-row\"><div class=\"wandb-col\"><h3>Run history:</h3><br/><table class=\"wandb\"><tr><td>diease_outputs_accuracy</td><td>▁▆▇▇▇█████████</td></tr><tr><td>diease_outputs_loss</td><td>█▃▂▂▁▁▁▁▁▁▁▂▁▁</td></tr><tr><td>epoch</td><td>▁▂▂▃▃▄▄▅▅▆▆▇▇█</td></tr><tr><td>grow_outputs_accuracy</td><td>▁▆▇▇▇▇█████▇██</td></tr><tr><td>grow_outputs_loss</td><td>█▃▃▂▂▂▂▁▁▁▁▂▂▂</td></tr><tr><td>loss</td><td>█▃▂▂▁▁▁▁▁▁▁▂▁▁</td></tr><tr><td>val_diease_outputs_accuracy</td><td>▄▁▇▇████▆███▂▇</td></tr><tr><td>val_diease_outputs_loss</td><td>▅▇▂▁▁▂▃▁▆▂▂▂█▂</td></tr><tr><td>val_grow_outputs_accuracy</td><td>▇▅██▄▇█▇▇▇▇▇█▁</td></tr><tr><td>val_grow_outputs_loss</td><td>▂▂▁▁█▁▁▁▂▂▂▁▁▅</td></tr><tr><td>val_loss</td><td>▅█▂▁▇▂▂▁▆▃▂▂█▅</td></tr></table><br/></div><div class=\"wandb-col\"><h3>Run summary:</h3><br/><table class=\"wandb\"><tr><td>best_epoch</td><td>7</td></tr><tr><td>best_val_loss</td><td>0.12271</td></tr><tr><td>diease_outputs_accuracy</td><td>0.97626</td></tr><tr><td>diease_outputs_loss</td><td>0.10401</td></tr><tr><td>epoch</td><td>13</td></tr><tr><td>grow_outputs_accuracy</td><td>0.98813</td></tr><tr><td>grow_outputs_loss</td><td>0.04739</td></tr><tr><td>loss</td><td>0.1514</td></tr><tr><td>val_diease_outputs_accuracy</td><td>0.95359</td></tr><tr><td>val_diease_outputs_loss</td><td>0.14944</td></tr><tr><td>val_grow_outputs_accuracy</td><td>0.93502</td></tr><tr><td>val_grow_outputs_loss</td><td>0.19011</td></tr><tr><td>val_loss</td><td>0.33956</td></tr></table><br/></div></div>"
      ],
      "text/plain": [
       "<IPython.core.display.HTML object>"
      ]
     },
     "metadata": {},
     "output_type": "display_data"
    },
    {
     "data": {
      "text/html": [
       "Synced <strong style=\"color:#cdcd00\">laced-sweep-2</strong>: <a href=\"https://wandb.ai/hkleee/lettuce/runs/ue816kfw\" target=\"_blank\">https://wandb.ai/hkleee/lettuce/runs/ue816kfw</a><br/>Synced 6 W&B file(s), 1 media file(s), 0 artifact file(s) and 1 other file(s)"
      ],
      "text/plain": [
       "<IPython.core.display.HTML object>"
      ]
     },
     "metadata": {},
     "output_type": "display_data"
    },
    {
     "data": {
      "text/html": [
       "Find logs at: <code>./wandb/run-20220624_160225-ue816kfw/logs</code>"
      ],
      "text/plain": [
       "<IPython.core.display.HTML object>"
      ]
     },
     "metadata": {},
     "output_type": "display_data"
    },
    {
     "name": "stderr",
     "output_type": "stream",
     "text": [
      "\u001b[34m\u001b[1mwandb\u001b[0m: Agent Starting Run: hvoe96le with config:\n",
      "\u001b[34m\u001b[1mwandb\u001b[0m: \tfreeze_rate: 0.2\n",
      "Failed to detect the name of this notebook, you can set it manually with the WANDB_NOTEBOOK_NAME environment variable to enable code saving.\n"
     ]
    },
    {
     "data": {
      "text/html": [
       "wandb version 0.12.19 is available!  To upgrade, please run:\n",
       " $ pip install wandb --upgrade"
      ],
      "text/plain": [
       "<IPython.core.display.HTML object>"
      ]
     },
     "metadata": {},
     "output_type": "display_data"
    },
    {
     "data": {
      "text/html": [
       "Tracking run with wandb version 0.12.18"
      ],
      "text/plain": [
       "<IPython.core.display.HTML object>"
      ]
     },
     "metadata": {},
     "output_type": "display_data"
    },
    {
     "data": {
      "text/html": [
       "Run data is saved locally in <code>/home/lab38/Multi_proj_6/model/multi-output/lettuce/wandb/run-20220624_163014-hvoe96le</code>"
      ],
      "text/plain": [
       "<IPython.core.display.HTML object>"
      ]
     },
     "metadata": {},
     "output_type": "display_data"
    },
    {
     "data": {
      "text/html": [
       "Syncing run <strong><a href=\"https://wandb.ai/hkleee/lettuce/runs/hvoe96le\" target=\"_blank\">charmed-sweep-3</a></strong> to <a href=\"https://wandb.ai/hkleee/lettuce\" target=\"_blank\">Weights & Biases</a> (<a href=\"https://wandb.me/run\" target=\"_blank\">docs</a>)<br/>Sweep page:  <a href=\"https://wandb.ai/hkleee/lettuce/sweeps/b37xduwh\" target=\"_blank\">https://wandb.ai/hkleee/lettuce/sweeps/b37xduwh</a>"
      ],
      "text/plain": [
       "<IPython.core.display.HTML object>"
      ]
     },
     "metadata": {},
     "output_type": "display_data"
    },
    {
     "name": "stdout",
     "output_type": "stream",
     "text": [
      "Found 4738 validated image filenames.\n",
      "Found 1185 validated image filenames.\n",
      "Epoch 1/1000\n",
      "236/236 [==============================] - 168s 626ms/step - loss: 1.2720 - diease_outputs_loss: 0.9400 - grow_outputs_loss: 0.3320 - diease_outputs_accuracy: 0.5815 - grow_outputs_accuracy: 0.8738 - val_loss: 0.2221 - val_diease_outputs_loss: 0.1544 - val_grow_outputs_loss: 0.0677 - val_diease_outputs_accuracy: 0.9426 - val_grow_outputs_accuracy: 0.9797\n",
      "Epoch 2/1000\n",
      "236/236 [==============================] - 149s 628ms/step - loss: 0.3922 - diease_outputs_loss: 0.2831 - grow_outputs_loss: 0.1091 - diease_outputs_accuracy: 0.8997 - grow_outputs_accuracy: 0.9646 - val_loss: 0.2506 - val_diease_outputs_loss: 0.1997 - val_grow_outputs_loss: 0.0509 - val_diease_outputs_accuracy: 0.9367 - val_grow_outputs_accuracy: 0.9873\n",
      "Epoch 3/1000\n",
      "236/236 [==============================] - 143s 604ms/step - loss: 0.2805 - diease_outputs_loss: 0.2007 - grow_outputs_loss: 0.0798 - diease_outputs_accuracy: 0.9335 - grow_outputs_accuracy: 0.9777 - val_loss: 0.2983 - val_diease_outputs_loss: 0.2278 - val_grow_outputs_loss: 0.0705 - val_diease_outputs_accuracy: 0.9401 - val_grow_outputs_accuracy: 0.9755\n",
      "Epoch 4/1000\n",
      "236/236 [==============================] - 144s 611ms/step - loss: 0.2559 - diease_outputs_loss: 0.1694 - grow_outputs_loss: 0.0864 - diease_outputs_accuracy: 0.9448 - grow_outputs_accuracy: 0.9771 - val_loss: 0.4961 - val_diease_outputs_loss: 0.4406 - val_grow_outputs_loss: 0.0555 - val_diease_outputs_accuracy: 0.8861 - val_grow_outputs_accuracy: 0.9823\n",
      "Epoch 5/1000\n",
      "236/236 [==============================] - 143s 606ms/step - loss: 0.2543 - diease_outputs_loss: 0.1673 - grow_outputs_loss: 0.0870 - diease_outputs_accuracy: 0.9486 - grow_outputs_accuracy: 0.9784 - val_loss: 0.2172 - val_diease_outputs_loss: 0.1726 - val_grow_outputs_loss: 0.0446 - val_diease_outputs_accuracy: 0.9477 - val_grow_outputs_accuracy: 0.9882\n",
      "Epoch 6/1000\n",
      "236/236 [==============================] - 144s 607ms/step - loss: 0.2119 - diease_outputs_loss: 0.1596 - grow_outputs_loss: 0.0524 - diease_outputs_accuracy: 0.9521 - grow_outputs_accuracy: 0.9870 - val_loss: 0.2885 - val_diease_outputs_loss: 0.1365 - val_grow_outputs_loss: 0.1520 - val_diease_outputs_accuracy: 0.9570 - val_grow_outputs_accuracy: 0.9502\n",
      "Epoch 7/1000\n",
      "236/236 [==============================] - 148s 625ms/step - loss: 0.2364 - diease_outputs_loss: 0.1755 - grow_outputs_loss: 0.0609 - diease_outputs_accuracy: 0.9516 - grow_outputs_accuracy: 0.9799 - val_loss: 0.3379 - val_diease_outputs_loss: 0.1643 - val_grow_outputs_loss: 0.1736 - val_diease_outputs_accuracy: 0.9485 - val_grow_outputs_accuracy: 0.9485\n",
      "Epoch 8/1000\n",
      "236/236 [==============================] - 150s 632ms/step - loss: 0.1937 - diease_outputs_loss: 0.1385 - grow_outputs_loss: 0.0552 - diease_outputs_accuracy: 0.9607 - grow_outputs_accuracy: 0.9840 - val_loss: 0.1415 - val_diease_outputs_loss: 0.1098 - val_grow_outputs_loss: 0.0317 - val_diease_outputs_accuracy: 0.9713 - val_grow_outputs_accuracy: 0.9873\n",
      "Epoch 9/1000\n",
      "236/236 [==============================] - 150s 635ms/step - loss: 0.2123 - diease_outputs_loss: 0.1499 - grow_outputs_loss: 0.0624 - diease_outputs_accuracy: 0.9573 - grow_outputs_accuracy: 0.9799 - val_loss: 0.2073 - val_diease_outputs_loss: 0.1619 - val_grow_outputs_loss: 0.0454 - val_diease_outputs_accuracy: 0.9435 - val_grow_outputs_accuracy: 0.9857\n",
      "Epoch 10/1000\n",
      "236/236 [==============================] - 150s 635ms/step - loss: 0.2235 - diease_outputs_loss: 0.1528 - grow_outputs_loss: 0.0707 - diease_outputs_accuracy: 0.9485 - grow_outputs_accuracy: 0.9783 - val_loss: 0.1472 - val_diease_outputs_loss: 0.1105 - val_grow_outputs_loss: 0.0367 - val_diease_outputs_accuracy: 0.9671 - val_grow_outputs_accuracy: 0.9890\n",
      "Epoch 11/1000\n",
      "236/236 [==============================] - 150s 635ms/step - loss: 0.2118 - diease_outputs_loss: 0.1468 - grow_outputs_loss: 0.0651 - diease_outputs_accuracy: 0.9559 - grow_outputs_accuracy: 0.9828 - val_loss: 0.1378 - val_diease_outputs_loss: 0.1092 - val_grow_outputs_loss: 0.0287 - val_diease_outputs_accuracy: 0.9738 - val_grow_outputs_accuracy: 0.9941\n",
      "Epoch 12/1000\n",
      "236/236 [==============================] - 150s 634ms/step - loss: 0.2306 - diease_outputs_loss: 0.1567 - grow_outputs_loss: 0.0739 - diease_outputs_accuracy: 0.9582 - grow_outputs_accuracy: 0.9847 - val_loss: 0.1934 - val_diease_outputs_loss: 0.1297 - val_grow_outputs_loss: 0.0637 - val_diease_outputs_accuracy: 0.9612 - val_grow_outputs_accuracy: 0.9823\n",
      "Epoch 13/1000\n",
      "236/236 [==============================] - 150s 635ms/step - loss: 0.2369 - diease_outputs_loss: 0.1485 - grow_outputs_loss: 0.0885 - diease_outputs_accuracy: 0.9649 - grow_outputs_accuracy: 0.9825 - val_loss: 0.2200 - val_diease_outputs_loss: 0.1857 - val_grow_outputs_loss: 0.0344 - val_diease_outputs_accuracy: 0.9376 - val_grow_outputs_accuracy: 0.9882\n",
      "Epoch 00013: early stopping\n"
     ]
    },
    {
     "data": {
      "text/html": [
       "Waiting for W&B process to finish... <strong style=\"color:green\">(success).</strong>"
      ],
      "text/plain": [
       "<IPython.core.display.HTML object>"
      ]
     },
     "metadata": {},
     "output_type": "display_data"
    },
    {
     "data": {
      "text/html": [
       "<style>\n",
       "    table.wandb td:nth-child(1) { padding: 0 10px; text-align: left ; width: auto;} td:nth-child(2) {text-align: left ; width: 100%}\n",
       "    .wandb-row { display: flex; flex-direction: row; flex-wrap: wrap; justify-content: flex-start; width: 100% }\n",
       "    .wandb-col { display: flex; flex-direction: column; flex-basis: 100%; flex: 1; padding: 10px; }\n",
       "    </style>\n",
       "<div class=\"wandb-row\"><div class=\"wandb-col\"><h3>Run history:</h3><br/><table class=\"wandb\"><tr><td>diease_outputs_accuracy</td><td>▁▆▇▇▇████████</td></tr><tr><td>diease_outputs_loss</td><td>█▃▂▁▂▁▁▁▁▁▁▁▁</td></tr><tr><td>epoch</td><td>▁▂▂▃▃▄▅▅▆▆▇▇█</td></tr><tr><td>grow_outputs_accuracy</td><td>▁▆▇▇▇█▇█▇████</td></tr><tr><td>grow_outputs_loss</td><td>█▃▂▃▃▁▁▁▂▂▁▂▂</td></tr><tr><td>loss</td><td>█▃▂▂▂▁▁▁▁▁▁▁▁</td></tr><tr><td>val_diease_outputs_accuracy</td><td>▆▅▅▁▆▇▆█▆▇█▇▅</td></tr><tr><td>val_diease_outputs_loss</td><td>▂▃▄█▂▂▂▁▂▁▁▁▃</td></tr><tr><td>val_grow_outputs_accuracy</td><td>▆▇▅▆▇▁▁▇▇▇█▆▇</td></tr><tr><td>val_grow_outputs_loss</td><td>▃▂▃▂▂▇█▁▂▁▁▃▁</td></tr><tr><td>val_loss</td><td>▃▃▄█▃▄▅▁▂▁▁▂▃</td></tr></table><br/></div><div class=\"wandb-col\"><h3>Run summary:</h3><br/><table class=\"wandb\"><tr><td>best_epoch</td><td>10</td></tr><tr><td>best_val_loss</td><td>0.13785</td></tr><tr><td>diease_outputs_accuracy</td><td>0.96248</td></tr><tr><td>diease_outputs_loss</td><td>0.15609</td></tr><tr><td>epoch</td><td>12</td></tr><tr><td>grow_outputs_accuracy</td><td>0.98304</td></tr><tr><td>grow_outputs_loss</td><td>0.0906</td></tr><tr><td>loss</td><td>0.24669</td></tr><tr><td>val_diease_outputs_accuracy</td><td>0.93755</td></tr><tr><td>val_diease_outputs_loss</td><td>0.18566</td></tr><tr><td>val_grow_outputs_accuracy</td><td>0.98819</td></tr><tr><td>val_grow_outputs_loss</td><td>0.03436</td></tr><tr><td>val_loss</td><td>0.22003</td></tr></table><br/></div></div>"
      ],
      "text/plain": [
       "<IPython.core.display.HTML object>"
      ]
     },
     "metadata": {},
     "output_type": "display_data"
    },
    {
     "data": {
      "text/html": [
       "Synced <strong style=\"color:#cdcd00\">charmed-sweep-3</strong>: <a href=\"https://wandb.ai/hkleee/lettuce/runs/hvoe96le\" target=\"_blank\">https://wandb.ai/hkleee/lettuce/runs/hvoe96le</a><br/>Synced 6 W&B file(s), 1 media file(s), 0 artifact file(s) and 1 other file(s)"
      ],
      "text/plain": [
       "<IPython.core.display.HTML object>"
      ]
     },
     "metadata": {},
     "output_type": "display_data"
    },
    {
     "data": {
      "text/html": [
       "Find logs at: <code>./wandb/run-20220624_163014-hvoe96le/logs</code>"
      ],
      "text/plain": [
       "<IPython.core.display.HTML object>"
      ]
     },
     "metadata": {},
     "output_type": "display_data"
    },
    {
     "name": "stderr",
     "output_type": "stream",
     "text": [
      "\u001b[34m\u001b[1mwandb\u001b[0m: Agent Starting Run: jz7kz6yo with config:\n",
      "\u001b[34m\u001b[1mwandb\u001b[0m: \tfreeze_rate: 0.5\n",
      "Failed to detect the name of this notebook, you can set it manually with the WANDB_NOTEBOOK_NAME environment variable to enable code saving.\n"
     ]
    },
    {
     "data": {
      "text/html": [
       "wandb version 0.12.19 is available!  To upgrade, please run:\n",
       " $ pip install wandb --upgrade"
      ],
      "text/plain": [
       "<IPython.core.display.HTML object>"
      ]
     },
     "metadata": {},
     "output_type": "display_data"
    },
    {
     "data": {
      "text/html": [
       "Tracking run with wandb version 0.12.18"
      ],
      "text/plain": [
       "<IPython.core.display.HTML object>"
      ]
     },
     "metadata": {},
     "output_type": "display_data"
    },
    {
     "data": {
      "text/html": [
       "Run data is saved locally in <code>/home/lab38/Multi_proj_6/model/multi-output/lettuce/wandb/run-20220624_170317-jz7kz6yo</code>"
      ],
      "text/plain": [
       "<IPython.core.display.HTML object>"
      ]
     },
     "metadata": {},
     "output_type": "display_data"
    },
    {
     "data": {
      "text/html": [
       "Syncing run <strong><a href=\"https://wandb.ai/hkleee/lettuce/runs/jz7kz6yo\" target=\"_blank\">blooming-sweep-4</a></strong> to <a href=\"https://wandb.ai/hkleee/lettuce\" target=\"_blank\">Weights & Biases</a> (<a href=\"https://wandb.me/run\" target=\"_blank\">docs</a>)<br/>Sweep page:  <a href=\"https://wandb.ai/hkleee/lettuce/sweeps/b37xduwh\" target=\"_blank\">https://wandb.ai/hkleee/lettuce/sweeps/b37xduwh</a>"
      ],
      "text/plain": [
       "<IPython.core.display.HTML object>"
      ]
     },
     "metadata": {},
     "output_type": "display_data"
    },
    {
     "name": "stdout",
     "output_type": "stream",
     "text": [
      "Found 4738 validated image filenames.\n",
      "Found 1185 validated image filenames.\n",
      "Epoch 1/1000\n",
      "236/236 [==============================] - 133s 495ms/step - loss: 0.9632 - diease_outputs_loss: 0.7242 - grow_outputs_loss: 0.2390 - diease_outputs_accuracy: 0.6917 - grow_outputs_accuracy: 0.9134 - val_loss: 0.1945 - val_diease_outputs_loss: 0.1327 - val_grow_outputs_loss: 0.0617 - val_diease_outputs_accuracy: 0.9502 - val_grow_outputs_accuracy: 0.9848\n",
      "Epoch 2/1000\n",
      "236/236 [==============================] - 116s 489ms/step - loss: 0.2831 - diease_outputs_loss: 0.1855 - grow_outputs_loss: 0.0976 - diease_outputs_accuracy: 0.9394 - grow_outputs_accuracy: 0.9680 - val_loss: 0.2191 - val_diease_outputs_loss: 0.1572 - val_grow_outputs_loss: 0.0619 - val_diease_outputs_accuracy: 0.9544 - val_grow_outputs_accuracy: 0.9823\n",
      "Epoch 3/1000\n",
      "236/236 [==============================] - 114s 481ms/step - loss: 0.2047 - diease_outputs_loss: 0.1413 - grow_outputs_loss: 0.0634 - diease_outputs_accuracy: 0.9563 - grow_outputs_accuracy: 0.9816 - val_loss: 0.1905 - val_diease_outputs_loss: 0.1632 - val_grow_outputs_loss: 0.0273 - val_diease_outputs_accuracy: 0.9519 - val_grow_outputs_accuracy: 0.9932\n",
      "Epoch 4/1000\n",
      "236/236 [==============================] - 114s 482ms/step - loss: 0.1638 - diease_outputs_loss: 0.1178 - grow_outputs_loss: 0.0460 - diease_outputs_accuracy: 0.9649 - grow_outputs_accuracy: 0.9872 - val_loss: 0.1435 - val_diease_outputs_loss: 0.1040 - val_grow_outputs_loss: 0.0395 - val_diease_outputs_accuracy: 0.9629 - val_grow_outputs_accuracy: 0.9848\n",
      "Epoch 5/1000\n",
      "236/236 [==============================] - 115s 484ms/step - loss: 0.1509 - diease_outputs_loss: 0.1011 - grow_outputs_loss: 0.0498 - diease_outputs_accuracy: 0.9697 - grow_outputs_accuracy: 0.9835 - val_loss: 0.1097 - val_diease_outputs_loss: 0.0817 - val_grow_outputs_loss: 0.0280 - val_diease_outputs_accuracy: 0.9747 - val_grow_outputs_accuracy: 0.9907\n",
      "Epoch 6/1000\n",
      "236/236 [==============================] - 115s 486ms/step - loss: 0.1293 - diease_outputs_loss: 0.0994 - grow_outputs_loss: 0.0300 - diease_outputs_accuracy: 0.9745 - grow_outputs_accuracy: 0.9901 - val_loss: 0.2122 - val_diease_outputs_loss: 0.1085 - val_grow_outputs_loss: 0.1037 - val_diease_outputs_accuracy: 0.9671 - val_grow_outputs_accuracy: 0.9713\n",
      "Epoch 7/1000\n",
      "236/236 [==============================] - 116s 489ms/step - loss: 0.1692 - diease_outputs_loss: 0.1031 - grow_outputs_loss: 0.0661 - diease_outputs_accuracy: 0.9697 - grow_outputs_accuracy: 0.9875 - val_loss: 0.1319 - val_diease_outputs_loss: 0.1125 - val_grow_outputs_loss: 0.0194 - val_diease_outputs_accuracy: 0.9662 - val_grow_outputs_accuracy: 0.9932\n",
      "Epoch 8/1000\n",
      "236/236 [==============================] - 116s 490ms/step - loss: 0.1348 - diease_outputs_loss: 0.0871 - grow_outputs_loss: 0.0477 - diease_outputs_accuracy: 0.9689 - grow_outputs_accuracy: 0.9875 - val_loss: 0.1711 - val_diease_outputs_loss: 0.1284 - val_grow_outputs_loss: 0.0427 - val_diease_outputs_accuracy: 0.9646 - val_grow_outputs_accuracy: 0.9857\n",
      "Epoch 9/1000\n",
      "236/236 [==============================] - 115s 488ms/step - loss: 0.1431 - diease_outputs_loss: 0.1023 - grow_outputs_loss: 0.0409 - diease_outputs_accuracy: 0.9722 - grow_outputs_accuracy: 0.9886 - val_loss: 0.1268 - val_diease_outputs_loss: 0.0881 - val_grow_outputs_loss: 0.0387 - val_diease_outputs_accuracy: 0.9705 - val_grow_outputs_accuracy: 0.9890\n",
      "Epoch 10/1000\n",
      "236/236 [==============================] - 115s 485ms/step - loss: 0.1282 - diease_outputs_loss: 0.1013 - grow_outputs_loss: 0.0269 - diease_outputs_accuracy: 0.9665 - grow_outputs_accuracy: 0.9924 - val_loss: 0.1480 - val_diease_outputs_loss: 0.1271 - val_grow_outputs_loss: 0.0208 - val_diease_outputs_accuracy: 0.9679 - val_grow_outputs_accuracy: 0.9916\n",
      "Epoch 11/1000\n",
      "236/236 [==============================] - 114s 480ms/step - loss: 0.1277 - diease_outputs_loss: 0.0920 - grow_outputs_loss: 0.0357 - diease_outputs_accuracy: 0.9756 - grow_outputs_accuracy: 0.9917 - val_loss: 0.1444 - val_diease_outputs_loss: 0.1149 - val_grow_outputs_loss: 0.0295 - val_diease_outputs_accuracy: 0.9629 - val_grow_outputs_accuracy: 0.9907\n",
      "Epoch 12/1000\n",
      "236/236 [==============================] - 114s 480ms/step - loss: 0.1132 - diease_outputs_loss: 0.0750 - grow_outputs_loss: 0.0382 - diease_outputs_accuracy: 0.9757 - grow_outputs_accuracy: 0.9878 - val_loss: 0.1802 - val_diease_outputs_loss: 0.1600 - val_grow_outputs_loss: 0.0202 - val_diease_outputs_accuracy: 0.9671 - val_grow_outputs_accuracy: 0.9949\n",
      "Epoch 13/1000\n",
      "236/236 [==============================] - 114s 482ms/step - loss: 0.1429 - diease_outputs_loss: 0.0996 - grow_outputs_loss: 0.0433 - diease_outputs_accuracy: 0.9712 - grow_outputs_accuracy: 0.9914 - val_loss: 0.1373 - val_diease_outputs_loss: 0.1058 - val_grow_outputs_loss: 0.0315 - val_diease_outputs_accuracy: 0.9738 - val_grow_outputs_accuracy: 0.9907\n",
      "Epoch 14/1000\n",
      "236/236 [==============================] - 115s 486ms/step - loss: 0.1488 - diease_outputs_loss: 0.1011 - grow_outputs_loss: 0.0477 - diease_outputs_accuracy: 0.9690 - grow_outputs_accuracy: 0.9883 - val_loss: 0.1409 - val_diease_outputs_loss: 0.1237 - val_grow_outputs_loss: 0.0172 - val_diease_outputs_accuracy: 0.9620 - val_grow_outputs_accuracy: 0.9941\n",
      "Epoch 15/1000\n",
      "236/236 [==============================] - 115s 488ms/step - loss: 0.1089 - diease_outputs_loss: 0.0791 - grow_outputs_loss: 0.0298 - diease_outputs_accuracy: 0.9774 - grow_outputs_accuracy: 0.9927 - val_loss: 0.3330 - val_diease_outputs_loss: 0.2354 - val_grow_outputs_loss: 0.0977 - val_diease_outputs_accuracy: 0.9325 - val_grow_outputs_accuracy: 0.9679\n",
      "Epoch 00015: early stopping\n"
     ]
    },
    {
     "data": {
      "text/html": [
       "Waiting for W&B process to finish... <strong style=\"color:green\">(success).</strong>"
      ],
      "text/plain": [
       "<IPython.core.display.HTML object>"
      ]
     },
     "metadata": {},
     "output_type": "display_data"
    },
    {
     "data": {
      "text/html": [
       "<style>\n",
       "    table.wandb td:nth-child(1) { padding: 0 10px; text-align: left ; width: auto;} td:nth-child(2) {text-align: left ; width: 100%}\n",
       "    .wandb-row { display: flex; flex-direction: row; flex-wrap: wrap; justify-content: flex-start; width: 100% }\n",
       "    .wandb-col { display: flex; flex-direction: column; flex-basis: 100%; flex: 1; padding: 10px; }\n",
       "    </style>\n",
       "<div class=\"wandb-row\"><div class=\"wandb-col\"><h3>Run history:</h3><br/><table class=\"wandb\"><tr><td>diease_outputs_accuracy</td><td>▁▆▇▇███████████</td></tr><tr><td>diease_outputs_loss</td><td>█▃▂▂▁▂▁▁▁▁▂▁▁▁▁</td></tr><tr><td>epoch</td><td>▁▁▂▃▃▃▄▅▅▅▆▇▇▇█</td></tr><tr><td>grow_outputs_accuracy</td><td>▁▅▆▇▇██▇███████</td></tr><tr><td>grow_outputs_loss</td><td>█▄▄▂▂▁▃▂▁▁▁▁▁▂▁</td></tr><tr><td>loss</td><td>█▃▂▂▁▂▂▁▁▁▁▁▁▁▁</td></tr><tr><td>val_diease_outputs_accuracy</td><td>▄▅▄▆█▇▇▆▇▇▆▇█▆▁</td></tr><tr><td>val_diease_outputs_loss</td><td>▃▄▅▂▁▂▂▃▁▃▃▅▂▃█</td></tr><tr><td>val_grow_outputs_accuracy</td><td>▅▅█▅▇▂█▆▆▇▇█▇█▁</td></tr><tr><td>val_grow_outputs_loss</td><td>▅▅▂▃▂█▁▃▃▁▂▁▂▁█</td></tr><tr><td>val_loss</td><td>▄▄▄▂▁▄▂▃▂▂▂▃▂▂█</td></tr></table><br/></div><div class=\"wandb-col\"><h3>Run summary:</h3><br/><table class=\"wandb\"><tr><td>best_epoch</td><td>4</td></tr><tr><td>best_val_loss</td><td>0.10969</td></tr><tr><td>diease_outputs_accuracy</td><td>0.97541</td></tr><tr><td>diease_outputs_loss</td><td>0.09538</td></tr><tr><td>epoch</td><td>14</td></tr><tr><td>grow_outputs_accuracy</td><td>0.98983</td></tr><tr><td>grow_outputs_loss</td><td>0.03817</td></tr><tr><td>loss</td><td>0.13355</td></tr><tr><td>val_diease_outputs_accuracy</td><td>0.93249</td></tr><tr><td>val_diease_outputs_loss</td><td>0.23536</td></tr><tr><td>val_grow_outputs_accuracy</td><td>0.96793</td></tr><tr><td>val_grow_outputs_loss</td><td>0.09767</td></tr><tr><td>val_loss</td><td>0.33302</td></tr></table><br/></div></div>"
      ],
      "text/plain": [
       "<IPython.core.display.HTML object>"
      ]
     },
     "metadata": {},
     "output_type": "display_data"
    },
    {
     "data": {
      "text/html": [
       "Synced <strong style=\"color:#cdcd00\">blooming-sweep-4</strong>: <a href=\"https://wandb.ai/hkleee/lettuce/runs/jz7kz6yo\" target=\"_blank\">https://wandb.ai/hkleee/lettuce/runs/jz7kz6yo</a><br/>Synced 6 W&B file(s), 1 media file(s), 0 artifact file(s) and 1 other file(s)"
      ],
      "text/plain": [
       "<IPython.core.display.HTML object>"
      ]
     },
     "metadata": {},
     "output_type": "display_data"
    },
    {
     "data": {
      "text/html": [
       "Find logs at: <code>./wandb/run-20220624_170317-jz7kz6yo/logs</code>"
      ],
      "text/plain": [
       "<IPython.core.display.HTML object>"
      ]
     },
     "metadata": {},
     "output_type": "display_data"
    },
    {
     "name": "stderr",
     "output_type": "stream",
     "text": [
      "\u001b[34m\u001b[1mwandb\u001b[0m: Agent Starting Run: dj07wkgs with config:\n",
      "\u001b[34m\u001b[1mwandb\u001b[0m: \tfreeze_rate: 0\n",
      "Failed to detect the name of this notebook, you can set it manually with the WANDB_NOTEBOOK_NAME environment variable to enable code saving.\n"
     ]
    },
    {
     "data": {
      "text/html": [
       "wandb version 0.12.19 is available!  To upgrade, please run:\n",
       " $ pip install wandb --upgrade"
      ],
      "text/plain": [
       "<IPython.core.display.HTML object>"
      ]
     },
     "metadata": {},
     "output_type": "display_data"
    },
    {
     "data": {
      "text/html": [
       "Tracking run with wandb version 0.12.18"
      ],
      "text/plain": [
       "<IPython.core.display.HTML object>"
      ]
     },
     "metadata": {},
     "output_type": "display_data"
    },
    {
     "data": {
      "text/html": [
       "Run data is saved locally in <code>/home/lab38/Multi_proj_6/model/multi-output/lettuce/wandb/run-20220624_173257-dj07wkgs</code>"
      ],
      "text/plain": [
       "<IPython.core.display.HTML object>"
      ]
     },
     "metadata": {},
     "output_type": "display_data"
    },
    {
     "data": {
      "text/html": [
       "Syncing run <strong><a href=\"https://wandb.ai/hkleee/lettuce/runs/dj07wkgs\" target=\"_blank\">expert-sweep-5</a></strong> to <a href=\"https://wandb.ai/hkleee/lettuce\" target=\"_blank\">Weights & Biases</a> (<a href=\"https://wandb.me/run\" target=\"_blank\">docs</a>)<br/>Sweep page:  <a href=\"https://wandb.ai/hkleee/lettuce/sweeps/b37xduwh\" target=\"_blank\">https://wandb.ai/hkleee/lettuce/sweeps/b37xduwh</a>"
      ],
      "text/plain": [
       "<IPython.core.display.HTML object>"
      ]
     },
     "metadata": {},
     "output_type": "display_data"
    },
    {
     "name": "stdout",
     "output_type": "stream",
     "text": [
      "Found 4738 validated image filenames.\n",
      "Found 1185 validated image filenames.\n",
      "Epoch 1/1000\n",
      "236/236 [==============================] - 204s 761ms/step - loss: 1.1697 - diease_outputs_loss: 0.8685 - grow_outputs_loss: 0.3011 - diease_outputs_accuracy: 0.6047 - grow_outputs_accuracy: 0.8905 - val_loss: 0.6914 - val_diease_outputs_loss: 0.4107 - val_grow_outputs_loss: 0.2807 - val_diease_outputs_accuracy: 0.8616 - val_grow_outputs_accuracy: 0.8633\n",
      "Epoch 2/1000\n",
      "236/236 [==============================] - 179s 756ms/step - loss: 0.4861 - diease_outputs_loss: 0.3264 - grow_outputs_loss: 0.1598 - diease_outputs_accuracy: 0.8880 - grow_outputs_accuracy: 0.9396 - val_loss: 0.2264 - val_diease_outputs_loss: 0.1551 - val_grow_outputs_loss: 0.0713 - val_diease_outputs_accuracy: 0.9451 - val_grow_outputs_accuracy: 0.9730\n",
      "Epoch 3/1000\n",
      "236/236 [==============================] - 180s 759ms/step - loss: 0.3260 - diease_outputs_loss: 0.2317 - grow_outputs_loss: 0.0943 - diease_outputs_accuracy: 0.9200 - grow_outputs_accuracy: 0.9675 - val_loss: 0.7978 - val_diease_outputs_loss: 0.5612 - val_grow_outputs_loss: 0.2367 - val_diease_outputs_accuracy: 0.8051 - val_grow_outputs_accuracy: 0.8979\n",
      "Epoch 4/1000\n",
      "236/236 [==============================] - 179s 758ms/step - loss: 0.2600 - diease_outputs_loss: 0.1799 - grow_outputs_loss: 0.0801 - diease_outputs_accuracy: 0.9349 - grow_outputs_accuracy: 0.9727 - val_loss: 0.2959 - val_diease_outputs_loss: 0.1600 - val_grow_outputs_loss: 0.1359 - val_diease_outputs_accuracy: 0.9494 - val_grow_outputs_accuracy: 0.9679\n",
      "Epoch 5/1000\n",
      "236/236 [==============================] - 179s 758ms/step - loss: 0.2391 - diease_outputs_loss: 0.1786 - grow_outputs_loss: 0.0605 - diease_outputs_accuracy: 0.9420 - grow_outputs_accuracy: 0.9763 - val_loss: 0.1911 - val_diease_outputs_loss: 0.1517 - val_grow_outputs_loss: 0.0394 - val_diease_outputs_accuracy: 0.9612 - val_grow_outputs_accuracy: 0.9865\n",
      "Epoch 6/1000\n",
      "236/236 [==============================] - 173s 731ms/step - loss: 0.2186 - diease_outputs_loss: 0.1478 - grow_outputs_loss: 0.0708 - diease_outputs_accuracy: 0.9540 - grow_outputs_accuracy: 0.9799 - val_loss: 0.1474 - val_diease_outputs_loss: 0.1065 - val_grow_outputs_loss: 0.0409 - val_diease_outputs_accuracy: 0.9705 - val_grow_outputs_accuracy: 0.9840\n",
      "Epoch 7/1000\n",
      "236/236 [==============================] - 171s 725ms/step - loss: 0.2316 - diease_outputs_loss: 0.1624 - grow_outputs_loss: 0.0692 - diease_outputs_accuracy: 0.9589 - grow_outputs_accuracy: 0.9789 - val_loss: 0.2719 - val_diease_outputs_loss: 0.1342 - val_grow_outputs_loss: 0.1377 - val_diease_outputs_accuracy: 0.9629 - val_grow_outputs_accuracy: 0.9316\n",
      "Epoch 8/1000\n",
      "236/236 [==============================] - 177s 747ms/step - loss: 0.2292 - diease_outputs_loss: 0.1700 - grow_outputs_loss: 0.0592 - diease_outputs_accuracy: 0.9531 - grow_outputs_accuracy: 0.9809 - val_loss: 0.1396 - val_diease_outputs_loss: 0.1014 - val_grow_outputs_loss: 0.0381 - val_diease_outputs_accuracy: 0.9629 - val_grow_outputs_accuracy: 0.9899\n",
      "Epoch 9/1000\n",
      "236/236 [==============================] - 178s 753ms/step - loss: 0.2208 - diease_outputs_loss: 0.1708 - grow_outputs_loss: 0.0500 - diease_outputs_accuracy: 0.9510 - grow_outputs_accuracy: 0.9864 - val_loss: 0.1679 - val_diease_outputs_loss: 0.1390 - val_grow_outputs_loss: 0.0288 - val_diease_outputs_accuracy: 0.9578 - val_grow_outputs_accuracy: 0.9907\n",
      "Epoch 10/1000\n",
      "236/236 [==============================] - 179s 755ms/step - loss: 0.2034 - diease_outputs_loss: 0.1418 - grow_outputs_loss: 0.0616 - diease_outputs_accuracy: 0.9595 - grow_outputs_accuracy: 0.9742 - val_loss: 0.1614 - val_diease_outputs_loss: 0.1313 - val_grow_outputs_loss: 0.0301 - val_diease_outputs_accuracy: 0.9612 - val_grow_outputs_accuracy: 0.9932\n",
      "Epoch 11/1000\n",
      "236/236 [==============================] - 179s 756ms/step - loss: 0.2760 - diease_outputs_loss: 0.1780 - grow_outputs_loss: 0.0981 - diease_outputs_accuracy: 0.9523 - grow_outputs_accuracy: 0.9796 - val_loss: 0.2516 - val_diease_outputs_loss: 0.1485 - val_grow_outputs_loss: 0.1031 - val_diease_outputs_accuracy: 0.9511 - val_grow_outputs_accuracy: 0.9738\n",
      "Epoch 12/1000\n",
      "236/236 [==============================] - 176s 745ms/step - loss: 0.2000 - diease_outputs_loss: 0.1405 - grow_outputs_loss: 0.0596 - diease_outputs_accuracy: 0.9555 - grow_outputs_accuracy: 0.9804 - val_loss: 0.2740 - val_diease_outputs_loss: 0.1306 - val_grow_outputs_loss: 0.1434 - val_diease_outputs_accuracy: 0.9553 - val_grow_outputs_accuracy: 0.9662\n",
      "Epoch 13/1000\n",
      "236/236 [==============================] - 169s 716ms/step - loss: 0.2613 - diease_outputs_loss: 0.1470 - grow_outputs_loss: 0.1143 - diease_outputs_accuracy: 0.9532 - grow_outputs_accuracy: 0.9739 - val_loss: 0.4621 - val_diease_outputs_loss: 0.3641 - val_grow_outputs_loss: 0.0980 - val_diease_outputs_accuracy: 0.9215 - val_grow_outputs_accuracy: 0.9671\n",
      "Epoch 14/1000\n",
      "236/236 [==============================] - 174s 737ms/step - loss: 0.1959 - diease_outputs_loss: 0.1390 - grow_outputs_loss: 0.0569 - diease_outputs_accuracy: 0.9618 - grow_outputs_accuracy: 0.9824 - val_loss: 0.3686 - val_diease_outputs_loss: 0.2581 - val_grow_outputs_loss: 0.1106 - val_diease_outputs_accuracy: 0.9595 - val_grow_outputs_accuracy: 0.9764\n",
      "Epoch 15/1000\n",
      "236/236 [==============================] - 177s 749ms/step - loss: 0.3612 - diease_outputs_loss: 0.2552 - grow_outputs_loss: 0.1060 - diease_outputs_accuracy: 0.9450 - grow_outputs_accuracy: 0.9753 - val_loss: 0.2033 - val_diease_outputs_loss: 0.1435 - val_grow_outputs_loss: 0.0598 - val_diease_outputs_accuracy: 0.9519 - val_grow_outputs_accuracy: 0.9730\n",
      "Epoch 16/1000\n",
      "236/236 [==============================] - 178s 752ms/step - loss: 0.2639 - diease_outputs_loss: 0.1917 - grow_outputs_loss: 0.0723 - diease_outputs_accuracy: 0.9478 - grow_outputs_accuracy: 0.9803 - val_loss: 0.3322 - val_diease_outputs_loss: 0.2820 - val_grow_outputs_loss: 0.0503 - val_diease_outputs_accuracy: 0.9511 - val_grow_outputs_accuracy: 0.9857\n",
      "Epoch 17/1000\n",
      "236/236 [==============================] - 178s 754ms/step - loss: 0.2973 - diease_outputs_loss: 0.2005 - grow_outputs_loss: 0.0968 - diease_outputs_accuracy: 0.9531 - grow_outputs_accuracy: 0.9760 - val_loss: 0.3783 - val_diease_outputs_loss: 0.2754 - val_grow_outputs_loss: 0.1029 - val_diease_outputs_accuracy: 0.9477 - val_grow_outputs_accuracy: 0.9713\n",
      "Epoch 00017: early stopping\n"
     ]
    },
    {
     "data": {
      "text/html": [
       "Waiting for W&B process to finish... <strong style=\"color:green\">(success).</strong>"
      ],
      "text/plain": [
       "<IPython.core.display.HTML object>"
      ]
     },
     "metadata": {},
     "output_type": "display_data"
    },
    {
     "data": {
      "text/html": [
       "<style>\n",
       "    table.wandb td:nth-child(1) { padding: 0 10px; text-align: left ; width: auto;} td:nth-child(2) {text-align: left ; width: 100%}\n",
       "    .wandb-row { display: flex; flex-direction: row; flex-wrap: wrap; justify-content: flex-start; width: 100% }\n",
       "    .wandb-col { display: flex; flex-direction: column; flex-basis: 100%; flex: 1; padding: 10px; }\n",
       "    </style>\n",
       "<div class=\"wandb-row\"><div class=\"wandb-col\"><h3>Run history:</h3><br/><table class=\"wandb\"><tr><td>diease_outputs_accuracy</td><td>▁▆▇▇█████████████</td></tr><tr><td>diease_outputs_loss</td><td>█▃▂▂▁▁▁▁▁▁▁▁▁▁▂▂▂</td></tr><tr><td>epoch</td><td>▁▁▂▂▃▃▄▄▅▅▅▆▆▇▇██</td></tr><tr><td>grow_outputs_accuracy</td><td>▁▄▆▇▇█▇███▇███▇▇▇</td></tr><tr><td>grow_outputs_loss</td><td>█▄▂▂▂▂▂▂▁▁▂▁▂▁▃▃▄</td></tr><tr><td>loss</td><td>█▄▂▂▂▁▁▁▁▁▁▁▁▁▂▂▂</td></tr><tr><td>val_diease_outputs_accuracy</td><td>▃▇▁▇████▇█▇▇▆█▇▇▇</td></tr><tr><td>val_diease_outputs_loss</td><td>▆▂█▂▂▁▁▁▂▁▂▁▅▃▂▄▄</td></tr><tr><td>val_grow_outputs_accuracy</td><td>▁▇▃▇█▇▅███▇▇▇▇▇█▇</td></tr><tr><td>val_grow_outputs_loss</td><td>█▂▇▄▁▁▄▁▁▁▃▄▃▃▂▂▃</td></tr><tr><td>val_loss</td><td>▇▂█▃▂▁▂▁▁▁▂▂▄▃▂▃▄</td></tr></table><br/></div><div class=\"wandb-col\"><h3>Run summary:</h3><br/><table class=\"wandb\"><tr><td>best_epoch</td><td>7</td></tr><tr><td>best_val_loss</td><td>0.13956</td></tr><tr><td>diease_outputs_accuracy</td><td>0.94786</td></tr><tr><td>diease_outputs_loss</td><td>0.20257</td></tr><tr><td>epoch</td><td>16</td></tr><tr><td>grow_outputs_accuracy</td><td>0.9752</td></tr><tr><td>grow_outputs_loss</td><td>0.11887</td></tr><tr><td>loss</td><td>0.32144</td></tr><tr><td>val_diease_outputs_accuracy</td><td>0.94768</td></tr><tr><td>val_diease_outputs_loss</td><td>0.27544</td></tr><tr><td>val_grow_outputs_accuracy</td><td>0.97131</td></tr><tr><td>val_grow_outputs_loss</td><td>0.1029</td></tr><tr><td>val_loss</td><td>0.37834</td></tr></table><br/></div></div>"
      ],
      "text/plain": [
       "<IPython.core.display.HTML object>"
      ]
     },
     "metadata": {},
     "output_type": "display_data"
    },
    {
     "data": {
      "text/html": [
       "Synced <strong style=\"color:#cdcd00\">expert-sweep-5</strong>: <a href=\"https://wandb.ai/hkleee/lettuce/runs/dj07wkgs\" target=\"_blank\">https://wandb.ai/hkleee/lettuce/runs/dj07wkgs</a><br/>Synced 6 W&B file(s), 1 media file(s), 0 artifact file(s) and 1 other file(s)"
      ],
      "text/plain": [
       "<IPython.core.display.HTML object>"
      ]
     },
     "metadata": {},
     "output_type": "display_data"
    },
    {
     "data": {
      "text/html": [
       "Find logs at: <code>./wandb/run-20220624_173257-dj07wkgs/logs</code>"
      ],
      "text/plain": [
       "<IPython.core.display.HTML object>"
      ]
     },
     "metadata": {},
     "output_type": "display_data"
    },
    {
     "name": "stderr",
     "output_type": "stream",
     "text": [
      "\u001b[34m\u001b[1mwandb\u001b[0m: Agent Starting Run: ow852ohm with config:\n",
      "\u001b[34m\u001b[1mwandb\u001b[0m: \tfreeze_rate: 0\n",
      "Failed to detect the name of this notebook, you can set it manually with the WANDB_NOTEBOOK_NAME environment variable to enable code saving.\n"
     ]
    },
    {
     "data": {
      "text/html": [
       "wandb version 0.12.19 is available!  To upgrade, please run:\n",
       " $ pip install wandb --upgrade"
      ],
      "text/plain": [
       "<IPython.core.display.HTML object>"
      ]
     },
     "metadata": {},
     "output_type": "display_data"
    },
    {
     "data": {
      "text/html": [
       "Tracking run with wandb version 0.12.18"
      ],
      "text/plain": [
       "<IPython.core.display.HTML object>"
      ]
     },
     "metadata": {},
     "output_type": "display_data"
    },
    {
     "data": {
      "text/html": [
       "Run data is saved locally in <code>/home/lab38/Multi_proj_6/model/multi-output/lettuce/wandb/run-20220624_182421-ow852ohm</code>"
      ],
      "text/plain": [
       "<IPython.core.display.HTML object>"
      ]
     },
     "metadata": {},
     "output_type": "display_data"
    },
    {
     "data": {
      "text/html": [
       "Syncing run <strong><a href=\"https://wandb.ai/hkleee/lettuce/runs/ow852ohm\" target=\"_blank\">peachy-sweep-6</a></strong> to <a href=\"https://wandb.ai/hkleee/lettuce\" target=\"_blank\">Weights & Biases</a> (<a href=\"https://wandb.me/run\" target=\"_blank\">docs</a>)<br/>Sweep page:  <a href=\"https://wandb.ai/hkleee/lettuce/sweeps/b37xduwh\" target=\"_blank\">https://wandb.ai/hkleee/lettuce/sweeps/b37xduwh</a>"
      ],
      "text/plain": [
       "<IPython.core.display.HTML object>"
      ]
     },
     "metadata": {},
     "output_type": "display_data"
    },
    {
     "name": "stdout",
     "output_type": "stream",
     "text": [
      "Found 4738 validated image filenames.\n",
      "Found 1185 validated image filenames.\n",
      "Epoch 1/1000\n",
      "236/236 [==============================] - 198s 742ms/step - loss: 1.0883 - diease_outputs_loss: 0.7761 - grow_outputs_loss: 0.3121 - diease_outputs_accuracy: 0.6808 - grow_outputs_accuracy: 0.8732 - val_loss: 0.2975 - val_diease_outputs_loss: 0.1996 - val_grow_outputs_loss: 0.0979 - val_diease_outputs_accuracy: 0.9376 - val_grow_outputs_accuracy: 0.9578\n",
      "Epoch 2/1000\n",
      "236/236 [==============================] - 169s 716ms/step - loss: 0.3876 - diease_outputs_loss: 0.2707 - grow_outputs_loss: 0.1169 - diease_outputs_accuracy: 0.9046 - grow_outputs_accuracy: 0.9600 - val_loss: 0.2467 - val_diease_outputs_loss: 0.1802 - val_grow_outputs_loss: 0.0665 - val_diease_outputs_accuracy: 0.9460 - val_grow_outputs_accuracy: 0.9772\n",
      "Epoch 3/1000\n",
      "236/236 [==============================] - 170s 718ms/step - loss: 0.2854 - diease_outputs_loss: 0.2090 - grow_outputs_loss: 0.0764 - diease_outputs_accuracy: 0.9379 - grow_outputs_accuracy: 0.9728 - val_loss: 0.1899 - val_diease_outputs_loss: 0.1392 - val_grow_outputs_loss: 0.0507 - val_diease_outputs_accuracy: 0.9485 - val_grow_outputs_accuracy: 0.9865\n",
      "Epoch 4/1000\n",
      "236/236 [==============================] - 175s 741ms/step - loss: 0.2608 - diease_outputs_loss: 0.1887 - grow_outputs_loss: 0.0722 - diease_outputs_accuracy: 0.9373 - grow_outputs_accuracy: 0.9773 - val_loss: 0.1815 - val_diease_outputs_loss: 0.1314 - val_grow_outputs_loss: 0.0501 - val_diease_outputs_accuracy: 0.9578 - val_grow_outputs_accuracy: 0.9848\n",
      "Epoch 5/1000\n",
      "236/236 [==============================] - 178s 751ms/step - loss: 0.2263 - diease_outputs_loss: 0.1678 - grow_outputs_loss: 0.0585 - diease_outputs_accuracy: 0.9482 - grow_outputs_accuracy: 0.9807 - val_loss: 0.2416 - val_diease_outputs_loss: 0.1757 - val_grow_outputs_loss: 0.0658 - val_diease_outputs_accuracy: 0.9435 - val_grow_outputs_accuracy: 0.9730\n",
      "Epoch 6/1000\n",
      "209/236 [=========================>....] - ETA: 18s - loss: 0.2064 - diease_outputs_loss: 0.1556 - grow_outputs_loss: 0.0508 - diease_outputs_accuracy: 0.9488 - grow_outputs_accuracy: 0.9802"
     ]
    }
   ],
   "source": [
    "wandb.agent(sweep_id, finetune)"
   ]
  },
  {
   "cell_type": "code",
   "execution_count": null,
   "id": "7889247c",
   "metadata": {},
   "outputs": [],
   "source": []
  }
 ],
 "metadata": {
  "kernelspec": {
   "display_name": "Python [conda env:smartpot]",
   "language": "python",
   "name": "conda-env-smartpot-py"
  },
  "language_info": {
   "codemirror_mode": {
    "name": "ipython",
    "version": 3
   },
   "file_extension": ".py",
   "mimetype": "text/x-python",
   "name": "python",
   "nbconvert_exporter": "python",
   "pygments_lexer": "ipython3",
   "version": "3.9.12"
  }
 },
 "nbformat": 4,
 "nbformat_minor": 5
}
